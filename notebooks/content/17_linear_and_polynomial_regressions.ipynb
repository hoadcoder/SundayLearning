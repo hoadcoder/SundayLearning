{
 "cells": [
  {
   "cell_type": "markdown",
   "metadata": {},
   "source": [
    "### Machine Learning\n",
    "Machine Learning é a ciência que programa computadores para que eles aprendam a partir de dados.\n",
    "\n",
    "#### Examples of Applications\n",
    "- Análise de imagens de produtos em uma liha de produção para classificá-los automaticamente. \n",
    "    - **(Image Classification)** Usando normalmente Convolutional Neutral Networks - CNN\n",
    "- Detecção de tumor usando scans no cérebro\n",
    "    - **(Semantic Segmentation)** Também usando CNN normalmente\n",
    "- Classificando novos artigos automaticamente.\n",
    "    - **(Natural Language Processing - NLP)**; **(Text Classification)**; Usando normalmente RNN, CNN ou transformers.\n",
    "- Sinalizando comentários ofensivos em fórums automaticamente.\n",
    "    - **(Natural Language Processing - NLP)**; **(Text Classification)**\n",
    "- Sumarizando documentos longos automaticamente.\n",
    "    - **(Natural Language Processing - NLP)**; **(Text Sumarization)**\n",
    "- Criação de chatbots ou assistentes pessoais\n",
    "    - **(Natural Language Processing - NLP)**; **(Natural Language Understanding)**\n",
    "- Prever a receita da sua empresa no próximo ano, baseado em muitas métricas de performance.\n",
    "    - **(Regression)**\n",
    "- Detecção de fraudes de cartão de crédito\n",
    "    - **(Anomaly Detection)**\n",
    "- Segmentação dos clientes baseada em suas compras para que possamos arquitetar uma estratégia de marketing diferente para cada segmento.\n",
    "    - **(Clustering)**\n",
    "- Representação de um dataset complexo e de alta dimensão em um diagrama claro.\n",
    "    - **(Dimensionality Reduction)**\n",
    "- Recomendação de produtos apenas para clientes que possam estar interessados, baseado em compras passadas\n",
    "    - **(Recommender System)**\n",
    "- Criar um bot inteligente para um jogo.\n",
    "    - **(Reinforcement Learning)**\n",
    "    \n",
    "#### Types of Machine Learning Systems\n",
    "##### 1. Whether or not they are trained with human supervision\n",
    "- **a) Supervised Learning**\n",
    "    \n",
    "    Aqui, o conjunto de treinamento (training set) usado para alimentar o algoritmo inclui as soluções desejadas, chamadas de **labels**.\n",
    "    \n",
    "    - **Classification**: Usado para prever uma **classe**. Por exemplo, em um filtro de emails spam, queremos aprender a classificar um email como spam ou não-spam.\n",
    "    \n",
    "    - **Regression**: Usado para inferir um valor numérico alvo (**target**) usando um conjunto de features chamados **predictors**.\n",
    "    \n",
    "    - Alguns dos algorítmos mas importantes de supervised learning.\n",
    "        - Linear Regression\n",
    "        - Polynomial Regression\n",
    "        - Logistic Regression\n",
    "        - Naive Bayes\n",
    "        - Support Vector Machines (SVMs)\n",
    "        - k-Nearest Neighbors (kNN)\n",
    "        - Decision Trees\n",
    "        - Random Forests\n",
    "        - Neural networks.\n",
    "    \n",
    "- **b) Unsupervised Learning**\n",
    "\n",
    "    Aqui, não temos as labels. Os algoritmos tentam aprender sem um \"professor\".\n",
    "    \n",
    "    - **Clustering**: Usado para agrupar dados com características semelhantes.\n",
    "        - K-Means\n",
    "        - DBSCAN\n",
    "        - Hierarchical Cluster Aanalysis (HCS)\n",
    "    \n",
    "    - **Anomaly Detection and Novelty Detection**: Usado para encontrar amostras muito distoantes das demais. Muito utilizado para a detecção de falhas de uma linha de produção.\n",
    "        - One-class SVM\n",
    "        - Isolation Forest\n",
    "    - **Dimensionality Reduction and Visualization**\n",
    "        - Principal Component Analysis (PCA)\n",
    "        - Kernel PCA\n",
    "        - Locally Linear Embedding (LLE)\n",
    "        - t-Distributed Stochastic Neighbor Embedding (t-SNE)\n",
    "    - **Association rule learning**\n",
    "        - Apriori\n",
    "        - Eclat\n",
    "- **c) Semisupervised Learning**\n",
    "- **d) Reinforcement Learning**\n",
    "    \n",
    "##### 2. Whether or not they can learn incrementally on the fly\n",
    "- **a) Online Learning**\n",
    "- **b) Batch Learning**\n",
    "\n",
    "##### 3. Whether or not they work simply by comparing new data point to known data points\n",
    "- **a) Instance-based Learning**\n",
    "- **b) Model-based Learning**\n"
   ]
  },
  {
   "cell_type": "code",
   "execution_count": 1,
   "metadata": {},
   "outputs": [],
   "source": [
    "import pandas as pd\n",
    "import numpy as np\n",
    "import matplotlib.pyplot as plt\n",
    "import seaborn as sns\n",
    "\n",
    "from sklearn import datasets, linear_model\n",
    "from sklearn.linear_model import LinearRegression, Ridge\n",
    "from sklearn.preprocessing import MinMaxScaler, PolynomialFeatures\n",
    "from sklearn.metrics import mean_squared_error\n",
    "from sklearn.model_selection import train_test_split\n",
    "\n",
    "sns.set_style(\"darkgrid\")"
   ]
  },
  {
   "cell_type": "markdown",
   "metadata": {},
   "source": [
    "### Linear Regression\n",
    "\n",
    "Regressão linear é o processo de ajustar uma linhas aos pontos de treino a fim de diminuir a distância desses pontos à linha.\n",
    "\n",
    "$$\\Large{y' = h_\\theta(x) = \\theta_0 x_0 + \\theta_1 x_1 + \\theta_2 x_2 + ... + \\theta_n x_n}$$\n",
    "\n",
    "onde $x_0$ = 1 e n representa o número de variáveis preditoras\n",
    "\n",
    "Existe a `cost function` que sumariza o erro da hipótese.\n",
    "\n",
    "$$\\Large{J(\\theta) = \\frac{1}{2m} [\\sum_{i=1}^{m} (h_{\\theta}(x^{(i)}) - y^{(i)})^{2} + \\lambda \\sum_{j=1}^{n} \\theta^2]}$$\n",
    "\n",
    "Para ajustar a hipótese da melhor forma possível, preciso identificar qual a hipótese que me traz o menor valor para a cost function.\n",
    "\n",
    "#### Gradient Descent\n",
    "Uma das formas de conseguir os parâmetros da hipótese onde a cost function é mínima.\n",
    "Existem várias outras funções que tentar calcular os parâmetros da hipótese onde a `cost function` é mínima.\n",
    "\n",
    "**repetir até convergência {** \n",
    "\n",
    "$\\normalsize{\\theta_j := \\theta_j - \\alpha \\frac{\\delta}{\\delta \\theta_j}J(\\theta_0, \\theta_1)}$  \n",
    "  \n",
    "**}** para j de 0 a n\n",
    "\n",
    "**repetir até convergência {** \n",
    "\n",
    "$\\normalsize{\\theta_0 := \\theta_0 - \\alpha  \\frac{1}{m} \\sum_{i=1}^{m} (h_{\\theta}(x^{(i)}) - y^{(i)})}$\n",
    "\n",
    "$\\normalsize{\\theta_1 := \\theta_1 - \\alpha \\frac{1}{m} \\sum_{i=1}^{m} (h_{\\theta}(x_1^{(i)}) - y^{(i)}) x_1^{(i)}}$\n",
    "\n",
    "$\\normalsize{\\theta_2 := \\theta_2 - \\alpha \\frac{1}{m} \\sum_{i=1}^{m} (h_{\\theta}(x_2^{(i)}) - y^{(i)}) x_2^{(i)}}$\n",
    "\n",
    "$\\normalsize{\\theta_3 := \\theta_3 - \\alpha \\frac{1}{m} \\sum_{i=1}^{m} (h_{\\theta}(x_3^{(i)}) - y^{(i)}) x_3^{(i)}}$\n",
    "  \n",
    "**}**\n",
    "\n",
    "\n",
    "O **alpha** representa o **learning rate**.\n",
    "- Se alpha é muito baixo: convergência lenta\n",
    "- Se alpha é muito alto: convergência pode nunca chegar\n",
    "\n",
    "Normalizar as features de preferência aproximadamente -1 e 1.\n",
    "\n",
    "$\\Large{x_i := \\frac{x_i - \\mu}{std}}$ ou $\\Large{x_i := \\frac{x_i - min(x)}{range(x)}}$ ou $\\Large{x_i := \\frac{x_i - \\mu}{range(x)}}$\n",
    "\n",
    "##### Solving the Problem of Overfitting\n",
    "\n",
    "- **Underfitting** = High Bias\n",
    "- **Overfitting** = High Variance\n",
    "\n",
    "1. **Reduzindo o número de features**\n",
    "    - Verificar quais features usar \n",
    "    - Use algoritmos de feature selection\n",
    "    \n",
    "    \n",
    "2. **Regularização**\n",
    "    - Mantém todas as features, mas reduz a magnitude dos parâmetros $\\theta$ \n",
    "    - Regularização funciona bem quando we have a lot of slightly useful features"
   ]
  },
  {
   "cell_type": "code",
   "execution_count": 2,
   "metadata": {},
   "outputs": [
    {
     "data": {
      "text/plain": [
       "array([[ 0.9734878 ],\n",
       "       [ 0.97348854],\n",
       "       [ 0.97349523],\n",
       "       [ 0.97348845],\n",
       "       [ 0.97348845],\n",
       "       [ 0.97348029],\n",
       "       [ 0.97349525],\n",
       "       [ 0.97671974],\n",
       "       [ 0.97356387],\n",
       "       [ 0.97352074],\n",
       "       [ 1.        ],\n",
       "       [ 0.97348705],\n",
       "       [ 0.97274176],\n",
       "       [-1.        ]])"
      ]
     },
     "execution_count": 2,
     "metadata": {},
     "output_type": "execute_result"
    }
   ],
   "source": [
    "mm_scaler = MinMaxScaler(feature_range=(-1, 1))\n",
    "\n",
    "X = np.c_[np.array([1, 90, 900, 80, 80, -909, 903, 391289, 9210, 3989, 3209809, -90, -90322, -238928398])]\n",
    "\n",
    "X_transform = mm_scaler.fit_transform(X)\n",
    "X_transform"
   ]
  },
  {
   "cell_type": "markdown",
   "metadata": {},
   "source": [
    "### Regressão Linear para 1 Váriavel"
   ]
  },
  {
   "cell_type": "code",
   "execution_count": 3,
   "metadata": {},
   "outputs": [
    {
     "data": {
      "image/png": "[encoded data removed]",
      "text/plain": [
       "<Figure size 576x576 with 1 Axes>"
      ]
     },
     "metadata": {
      "needs_background": "light"
     },
     "output_type": "display_data"
    }
   ],
   "source": [
    "data = datasets.make_regression(\n",
    "    n_samples=10, \n",
    "    n_features=1, \n",
    "    n_informative=1, \n",
    "    n_targets=1, \n",
    "    noise=20,\n",
    "    random_state=3\n",
    ")\n",
    "\n",
    "df = pd.DataFrame({\"x\": data[0].flatten(), \"y\": data[1].tolist()})\n",
    "df.sample(3)\n",
    "\n",
    "df.loc[9, :] = [-1, 100]\n",
    "\n",
    "plt.figure(figsize=(8, 8))\n",
    "\n",
    "plt.scatter(df[\"x\"], df[\"y\"]);"
   ]
  },
  {
   "cell_type": "code",
   "execution_count": 4,
   "metadata": {},
   "outputs": [
    {
     "data": {
      "text/plain": [
       "LinearRegression(copy_X=True, fit_intercept=True, n_jobs=None, normalize=False)"
      ]
     },
     "execution_count": 4,
     "metadata": {},
     "output_type": "execute_result"
    }
   ],
   "source": [
    "lr = LinearRegression()\n",
    "\n",
    "X = np.c_[df.x]\n",
    "y = df.y\n",
    "\n",
    "lr.fit(X, y)"
   ]
  },
  {
   "cell_type": "code",
   "execution_count": 5,
   "metadata": {},
   "outputs": [
    {
     "data": {
      "text/plain": [
       "(array([[-2],\n",
       "        [ 2]]), array([-92.47316061, 109.8882757 ]))"
      ]
     },
     "execution_count": 5,
     "metadata": {},
     "output_type": "execute_result"
    }
   ],
   "source": [
    "Xplot = np.array([\n",
    "    [-2],\n",
    "    [2]\n",
    "])\n",
    "\n",
    "yplot = lr.predict(Xplot)\n",
    "\n",
    "Xplot, yplot"
   ]
  },
  {
   "cell_type": "code",
   "execution_count": 6,
   "metadata": {},
   "outputs": [
    {
     "data": {
      "image/png": "[encoded data removed]",
      "text/plain": [
       "<Figure size 576x576 with 1 Axes>"
      ]
     },
     "metadata": {
      "needs_background": "light"
     },
     "output_type": "display_data"
    }
   ],
   "source": [
    "plt.figure(figsize=(8, 8))\n",
    "\n",
    "plt.scatter(df[\"x\"], df[\"y\"])\n",
    "plt.plot(Xplot.flatten(), yplot, color=\"red\");"
   ]
  },
  {
   "cell_type": "markdown",
   "metadata": {},
   "source": [
    "### Regressão Linear para Múltiplas Váriaveis"
   ]
  },
  {
   "cell_type": "code",
   "execution_count": 7,
   "metadata": {},
   "outputs": [
    {
     "name": "stdout",
     "output_type": "stream",
     "text": [
      "0.5279198995709651\n",
      "0.452606602161738\n",
      "2868.55\n",
      "2900.17\n"
     ]
    }
   ],
   "source": [
    "X, y = datasets.load_diabetes(return_X_y=True)\n",
    "\n",
    "X_train, X_test, y_train, y_test = train_test_split(X, y, test_size=0.2, random_state=42)\n",
    "\n",
    "lr2 = LinearRegression()\n",
    "lr2.fit(X_train, y_train)\n",
    "\n",
    "y_pred_train = lr2.predict(X_train)\n",
    "y_pred_test = lr2.predict(X_test)\n",
    "\n",
    "print(lr2.score(X_train, y_train))\n",
    "print(lr2.score(X_test, y_test))\n",
    "print(np.round(mean_squared_error(y_train, y_pred_train), 2))\n",
    "print(np.round(mean_squared_error(y_test, y_pred_test), 2))"
   ]
  },
  {
   "cell_type": "code",
   "execution_count": 8,
   "metadata": {},
   "outputs": [
    {
     "data": {
      "image/png": "[encoded data removed]",
      "text/plain": [
       "<Figure size 432x288 with 1 Axes>"
      ]
     },
     "metadata": {
      "needs_background": "light"
     },
     "output_type": "display_data"
    }
   ],
   "source": [
    "results_lr = pd.DataFrame(data=np.c_[y_test, y_pred_test], columns=[\"y_true\", \"y_pred\"])\n",
    "results_lr[\"diff\"] = results_lr[\"y_true\"] - results_lr[\"y_pred\"]\n",
    "\n",
    "plt.hist(results_lr[\"diff\"]);"
   ]
  },
  {
   "cell_type": "code",
   "execution_count": 9,
   "metadata": {},
   "outputs": [
    {
     "data": {
      "text/plain": [
       "(346.0, 25.0, 77.00574586945044)"
      ]
     },
     "execution_count": 9,
     "metadata": {},
     "output_type": "execute_result"
    }
   ],
   "source": [
    "np.max(y), np.min(y), np.std(y)"
   ]
  },
  {
   "cell_type": "markdown",
   "metadata": {},
   "source": [
    "### Polynomial Regression"
   ]
  },
  {
   "cell_type": "code",
   "execution_count": 10,
   "metadata": {},
   "outputs": [
    {
     "name": "stderr",
     "output_type": "stream",
     "text": [
      "C:\\Users\\itolivei\\AppData\\Local\\Continuum\\anaconda3\\lib\\site-packages\\sklearn\\linear_model\\ridge.py:187: LinAlgWarning: Ill-conditioned matrix (rcond=4.45622e-18): result may not be accurate.\n",
      "  overwrite_a=False)\n",
      "C:\\Users\\itolivei\\AppData\\Local\\Continuum\\anaconda3\\lib\\site-packages\\sklearn\\linear_model\\ridge.py:187: LinAlgWarning: Ill-conditioned matrix (rcond=4.89859e-18): result may not be accurate.\n",
      "  overwrite_a=False)\n",
      "C:\\Users\\itolivei\\AppData\\Local\\Continuum\\anaconda3\\lib\\site-packages\\sklearn\\linear_model\\ridge.py:189: UserWarning: Singular matrix in solving dual problem. Using least-squares solution instead.\n",
      "  warnings.warn(\"Singular matrix in solving dual problem. Using \"\n"
     ]
    },
    {
     "data": {
      "text/html": [
       "<div>\n",
       "<style scoped>\n",
       "    .dataframe tbody tr th:only-of-type {\n",
       "        vertical-align: middle;\n",
       "    }\n",
       "\n",
       "    .dataframe tbody tr th {\n",
       "        vertical-align: top;\n",
       "    }\n",
       "\n",
       "    .dataframe thead th {\n",
       "        text-align: right;\n",
       "    }\n",
       "</style>\n",
       "<table border=\"1\" class=\"dataframe\">\n",
       "  <thead>\n",
       "    <tr style=\"text-align: right;\">\n",
       "      <th></th>\n",
       "      <th>degree</th>\n",
       "      <th>train_mean_squared_error</th>\n",
       "      <th>test_mean_squared_error</th>\n",
       "    </tr>\n",
       "  </thead>\n",
       "  <tbody>\n",
       "    <tr>\n",
       "      <td>0</td>\n",
       "      <td>1</td>\n",
       "      <td>2868.547</td>\n",
       "      <td>2900.173</td>\n",
       "    </tr>\n",
       "    <tr>\n",
       "      <td>1</td>\n",
       "      <td>2</td>\n",
       "      <td>2393.155</td>\n",
       "      <td>3095.775</td>\n",
       "    </tr>\n",
       "    <tr>\n",
       "      <td>2</td>\n",
       "      <td>3</td>\n",
       "      <td>745.321</td>\n",
       "      <td>97681.252</td>\n",
       "    </tr>\n",
       "    <tr>\n",
       "      <td>3</td>\n",
       "      <td>4</td>\n",
       "      <td>0.000</td>\n",
       "      <td>146911.272</td>\n",
       "    </tr>\n",
       "    <tr>\n",
       "      <td>4</td>\n",
       "      <td>5</td>\n",
       "      <td>0.000</td>\n",
       "      <td>143015.841</td>\n",
       "    </tr>\n",
       "    <tr>\n",
       "      <td>5</td>\n",
       "      <td>10</td>\n",
       "      <td>0.000</td>\n",
       "      <td>142923.750</td>\n",
       "    </tr>\n",
       "  </tbody>\n",
       "</table>\n",
       "</div>"
      ],
      "text/plain": [
       "   degree  train_mean_squared_error  test_mean_squared_error\n",
       "0       1                  2868.547                 2900.173\n",
       "1       2                  2393.155                 3095.775\n",
       "2       3                   745.321                97681.252\n",
       "3       4                     0.000               146911.272\n",
       "4       5                     0.000               143015.841\n",
       "5      10                     0.000               142923.750"
      ]
     },
     "execution_count": 10,
     "metadata": {},
     "output_type": "execute_result"
    }
   ],
   "source": [
    "results = {\"degree\": [], \"train_mean_squared_error\": [], \"test_mean_squared_error\": []}\n",
    "\n",
    "degrees = [1, 2, 3, 4, 5, 10]\n",
    "for degree in degrees:\n",
    "    X_poly = PolynomialFeatures(degree).fit_transform(X)\n",
    "    \n",
    "    X_train, X_test, y_train, y_test = train_test_split(X_poly, y, test_size=0.2, random_state=42)\n",
    "    \n",
    "    pr = Ridge(alpha=0)\n",
    "    pr.fit(X_train, y_train)\n",
    "    \n",
    "    y_pred_train = pr.predict(X_train)\n",
    "    y_pred_test = pr.predict(X_test)\n",
    "\n",
    "    error_train = np.round(mean_squared_error(y_train, y_pred_train), 3)\n",
    "    error_test = np.round(mean_squared_error(y_test, y_pred_test), 3)\n",
    "    \n",
    "    results[\"degree\"].append(degree)\n",
    "    results[\"train_mean_squared_error\"].append(error_train)\n",
    "    results[\"test_mean_squared_error\"].append(error_test)\n",
    "    \n",
    "    \n",
    "pd.DataFrame(results)"
   ]
  }
 ],
 "metadata": {
  "kernelspec": {
   "display_name": "Python 3",
   "language": "python",
   "name": "python3"
  },
  "language_info": {
   "codemirror_mode": {
    "name": "ipython",
    "version": 3
   },
   "file_extension": ".py",
   "mimetype": "text/x-python",
   "name": "python",
   "nbconvert_exporter": "python",
   "pygments_lexer": "ipython3",
   "version": "3.7.4"
  }
 },
 "nbformat": 4,
 "nbformat_minor": 2
}
