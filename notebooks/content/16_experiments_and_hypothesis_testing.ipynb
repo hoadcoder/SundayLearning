{
 "cells": [
  {
   "cell_type": "markdown",
   "metadata": {},
   "source": [
    "# Chapter #3: Statistical Experiments and Significance Testing\n",
    "\n",
    "Based on Practical Statistics for Data Scientists\n",
    "\n",
    "Existe uma pipeline para a clássifca inferência estatística:\n",
    "1. Levantamento de Hipóteses\n",
    "2. Design do experimento\n",
    "3. Coletagem de dados\n",
    "4. Inferências ou conclusões"
   ]
  },
  {
   "cell_type": "code",
   "execution_count": 1,
   "metadata": {},
   "outputs": [],
   "source": [
    "import pandas as pd\n",
    "import numpy as np\n",
    "import scipy.stats as stats\n",
    "import matplotlib.pyplot as plt\n",
    "import seaborn as sns\n",
    "import random"
   ]
  },
  {
   "cell_type": "markdown",
   "metadata": {},
   "source": [
    "### A/B TEST\n",
    "\n",
    "É um experimento com dois grupos que recebem tratamentos diferentes. No ramo empresarial é muito utilizado em marketing ou web design, exemplos:\n",
    "- Teste de dois preços para determinar qual gera mais lucro.\n",
    "- Teste de dois títulos para uma página web a fim de determinar qual produz mais clicks.\n",
    "- Teste de dois ads para determinar qual gera mais conversão.\n",
    "\n",
    "Os indivíduos que participarão do teste A/B são atribuídos ao grupo A ou B aleatoriamente.\n",
    "Qualquer diferença entre os grupos é motivada por uma das duas coisas:\n",
    "- Pura chance.\n",
    "- Efeito distinto de cada tratamento.\n",
    "\n",
    "Deve-se estabelecer também a métrica de teste que usaremos para comparar os dois grupos. \n",
    "\n",
    "Podemos utilizar uma variável binária:"
   ]
  },
  {
   "cell_type": "code",
   "execution_count": 2,
   "metadata": {},
   "outputs": [
    {
     "data": {
      "text/html": [
       "<div>\n",
       "<style scoped>\n",
       "    .dataframe tbody tr th:only-of-type {\n",
       "        vertical-align: middle;\n",
       "    }\n",
       "\n",
       "    .dataframe tbody tr th {\n",
       "        vertical-align: top;\n",
       "    }\n",
       "\n",
       "    .dataframe thead th {\n",
       "        text-align: right;\n",
       "    }\n",
       "</style>\n",
       "<table border=\"1\" class=\"dataframe\">\n",
       "  <thead>\n",
       "    <tr style=\"text-align: right;\">\n",
       "      <th></th>\n",
       "      <th>Conversion</th>\n",
       "      <th>Ad 1</th>\n",
       "      <th>Ad 2</th>\n",
       "    </tr>\n",
       "  </thead>\n",
       "  <tbody>\n",
       "    <tr>\n",
       "      <td>0</td>\n",
       "      <td>True</td>\n",
       "      <td>200</td>\n",
       "      <td>182</td>\n",
       "    </tr>\n",
       "    <tr>\n",
       "      <td>1</td>\n",
       "      <td>False</td>\n",
       "      <td>23539</td>\n",
       "      <td>22406</td>\n",
       "    </tr>\n",
       "  </tbody>\n",
       "</table>\n",
       "</div>"
      ],
      "text/plain": [
       "   Conversion   Ad 1   Ad 2\n",
       "0        True    200    182\n",
       "1       False  23539  22406"
      ]
     },
     "execution_count": 2,
     "metadata": {},
     "output_type": "execute_result"
    }
   ],
   "source": [
    "pd.DataFrame({\n",
    "    \"Conversion\": [True, False],\n",
    "    \"Ad 1\": [200, 23539],\n",
    "    \"Ad 2\": [182, 22406]\n",
    "})"
   ]
  },
  {
   "cell_type": "markdown",
   "metadata": {},
   "source": [
    "Ou variáveis contínuas:"
   ]
  },
  {
   "cell_type": "code",
   "execution_count": 3,
   "metadata": {},
   "outputs": [
    {
     "data": {
      "text/html": [
       "<div>\n",
       "<style scoped>\n",
       "    .dataframe tbody tr th:only-of-type {\n",
       "        vertical-align: middle;\n",
       "    }\n",
       "\n",
       "    .dataframe tbody tr th {\n",
       "        vertical-align: top;\n",
       "    }\n",
       "\n",
       "    .dataframe thead th {\n",
       "        text-align: right;\n",
       "    }\n",
       "</style>\n",
       "<table border=\"1\" class=\"dataframe\">\n",
       "  <thead>\n",
       "    <tr style=\"text-align: right;\">\n",
       "      <th></th>\n",
       "      <th></th>\n",
       "      <th>Preço A</th>\n",
       "      <th>Preço B</th>\n",
       "    </tr>\n",
       "  </thead>\n",
       "  <tbody>\n",
       "    <tr>\n",
       "      <td>0</td>\n",
       "      <td>Média de venda por página</td>\n",
       "      <td>3.87</td>\n",
       "      <td>4.11</td>\n",
       "    </tr>\n",
       "  </tbody>\n",
       "</table>\n",
       "</div>"
      ],
      "text/plain": [
       "                              Preço A  Preço B\n",
       "0  Média de venda por página     3.87     4.11"
      ]
     },
     "execution_count": 3,
     "metadata": {},
     "output_type": "execute_result"
    }
   ],
   "source": [
    "pd.DataFrame({\n",
    "    \"\": [\"Média de venda por página\"],\n",
    "    \"Preço A\": [3.87],\n",
    "    \"Preço B\": [4.11]\n",
    "})"
   ]
  },
  {
   "cell_type": "markdown",
   "metadata": {},
   "source": [
    "### HYPOTHESIS TESTS (SIGNIFICANCE TESTS)\n",
    "\n",
    "Propósito de ajudar voce a aprender se a chance aleatória foi responsável pelo efeito observado. Nós tendemos a subestimar a manifestação dos black swans\n",
    "\n",
    "#### KEY TERMS FOR HYPOTHESIS TESTS\n",
    "- **Null Hypothesis**: A hipótese em que a chance é a culpada\n",
    "- **Alternative Hypothesis**: Contra-ponto da hipótese nula\n",
    "\n",
    "#### The Null Hypothesis $H_0$\n",
    "É a construção lógica que incorpora a noção de que nada especial aconteceu, e qualquer efeito observado é devido à chance.\n",
    "- Envolve a premissa de que os tratamentos são equivalentes e qualquer diferença é devido à chance.\n",
    "- Em relação a fórmulas matemáticas, normalmente está associada aos sinais de $=$, $\\ge$, $\\le$\n",
    "\n",
    "#### The Alternative Hypothesis $H_1$\n",
    "- A natureza da hipótese nula determina a hipótese alternativa, pois deve ser o contra-ponto da hipótese nula.\n",
    "- Em relação a fórmulas matemáticas, normalmente está associada aos sinais de $\\ne$, $\\gt$, $\\lt$"
   ]
  },
  {
   "cell_type": "markdown",
   "metadata": {},
   "source": [
    "### RESAMPLING\n",
    "\n",
    "- Usado para analisar a variabilidade aleatória em estatística\n",
    "- Usado para melhorar a acurácia de algum modelo de ML\n",
    "\n",
    "Existem dois tipos principais de procedimentos de reamostragem: bootstrap e testes de permutação. O bootstrap nos ajuda com intervalos de confiança e os testes de permutação nos ajudam com testes de hipóteses.\n",
    "\n",
    "#### Permutation Test\n",
    "Permutar significa mudar a ordem de um conjunto de valores. No teste de hipótese, o primeiro passo é a combinação dos resultados dos grupos A e B. Essa é a incorporação da hipótese nula que diz que qualquer diferença é devido à chance. \n",
    "1. Combine os resultados dos diferentes grupos em um único data set.\n",
    "2. Embaralhe os dados combinados e retire aleatoriamente (sem substituição) uma amostra do mesmo tamanho do grupo A.\n",
    "3. Os dados restantes pertencerão ao grupo B*\n",
    "4. Calcule a estatística escolhida e anote.\n",
    "5. Os passos anteriores constituem uma única iteração da permutação, então repita os passos anteriores R vezes para produzir a distribuição da permutação da estatística escolhida.\n",
    "\n",
    "Agora volte à diferença observada antes da permutação e compare com a distribuição criada acima. Se a diferença observada estiver no meio da distribuição, falhamos em rejeitar a hipótese nula, portanto a diferença não é significativa estatisticamente.\n",
    "\n",
    "**EXEMPLO 1**: Uma empresa vendendo serviços de alto-valor quer testar qual design da página faz um trabalho melhor em termos de vendas.\n",
    "\n",
    "**Observações**:\n",
    "1. Serviço de alto-valor, portanto, poucos \"eventos de sucesso\"\n",
    "2. Google Analytics não mede o tempo de sessão da última sessão que alguém visita. Ao invés de deletar esses dados, Google .Analytics grava como um 0."
   ]
  },
  {
   "cell_type": "markdown",
   "metadata": {},
   "source": [
    "$\\large{H_0: \\mu_{pageA} - \\mu_{pageB} \\ge 0}$ \n",
    "\n",
    "\n",
    "$\\large{H_1: \\mu_{pageA} - \\mu_{pageB} \\lt 0}$ "
   ]
  },
  {
   "cell_type": "code",
   "execution_count": 4,
   "metadata": {},
   "outputs": [
    {
     "data": {
      "text/html": [
       "<div>\n",
       "<style scoped>\n",
       "    .dataframe tbody tr th:only-of-type {\n",
       "        vertical-align: middle;\n",
       "    }\n",
       "\n",
       "    .dataframe tbody tr th {\n",
       "        vertical-align: top;\n",
       "    }\n",
       "\n",
       "    .dataframe thead th {\n",
       "        text-align: right;\n",
       "    }\n",
       "</style>\n",
       "<table border=\"1\" class=\"dataframe\">\n",
       "  <thead>\n",
       "    <tr style=\"text-align: right;\">\n",
       "      <th></th>\n",
       "      <th>Page</th>\n",
       "      <th>Time</th>\n",
       "    </tr>\n",
       "  </thead>\n",
       "  <tbody>\n",
       "    <tr>\n",
       "      <td>32</td>\n",
       "      <td>B</td>\n",
       "      <td>3.732708</td>\n",
       "    </tr>\n",
       "    <tr>\n",
       "      <td>27</td>\n",
       "      <td>B</td>\n",
       "      <td>4.997996</td>\n",
       "    </tr>\n",
       "    <tr>\n",
       "      <td>3</td>\n",
       "      <td>A</td>\n",
       "      <td>3.493293</td>\n",
       "    </tr>\n",
       "    <tr>\n",
       "      <td>33</td>\n",
       "      <td>B</td>\n",
       "      <td>3.123858</td>\n",
       "    </tr>\n",
       "    <tr>\n",
       "      <td>19</td>\n",
       "      <td>A</td>\n",
       "      <td>2.636156</td>\n",
       "    </tr>\n",
       "  </tbody>\n",
       "</table>\n",
       "</div>"
      ],
      "text/plain": [
       "   Page      Time\n",
       "32    B  3.732708\n",
       "27    B  4.997996\n",
       "3     A  3.493293\n",
       "33    B  3.123858\n",
       "19    A  2.636156"
      ]
     },
     "execution_count": 4,
     "metadata": {},
     "output_type": "execute_result"
    }
   ],
   "source": [
    "np.random.seed(10)\n",
    "\n",
    "hvs = pd.concat([\n",
    "    pd.DataFrame({\"Page\": [\"A\"]*21, \"Time\": stats.norm.rvs(3.5, 0.8, size=21)}),\n",
    "    pd.DataFrame({\"Page\": [\"B\"]*15, \"Time\": stats.norm.rvs(3.5, 1, size=15) + .1})\n",
    "]).reset_index(drop=True)\n",
    "\n",
    "hvs.sample(5)"
   ]
  },
  {
   "cell_type": "code",
   "execution_count": 5,
   "metadata": {},
   "outputs": [
    {
     "name": "stdout",
     "output_type": "stream",
     "text": [
      "Diferença observada é de -0.4773\n"
     ]
    }
   ],
   "source": [
    "mean_A = hvs.query(\"Page == 'A'\").Time.mean()\n",
    "mean_B = hvs.query(\"Page == 'B'\").Time.mean()\n",
    "\n",
    "diff_obs = mean_A - mean_B\n",
    "print(\"Diferença observada é de\", np.round(diff_obs, 4))"
   ]
  },
  {
   "cell_type": "code",
   "execution_count": 6,
   "metadata": {},
   "outputs": [],
   "source": [
    "def permutation_function(df, nA, nB, col):\n",
    "    \"\"\"\n",
    "    Essa função executa um único passo do processo de reamostragem por permutação.\n",
    "    \"\"\"\n",
    "    n = nA + nB\n",
    "    idx_A = np.random.choice(np.arange(n), nA, replace=False)\n",
    "    idx_B = np.setdiff1d(np.arange(n), idx_A)\n",
    "    return df.loc[idx_A, col].mean() - df.loc[idx_B, col].mean()"
   ]
  },
  {
   "cell_type": "code",
   "execution_count": 7,
   "metadata": {},
   "outputs": [
    {
     "data": {
      "image/png": "[encoded data removed]",
      "text/plain": [
       "<Figure size 1008x432 with 1 Axes>"
      ]
     },
     "metadata": {
      "needs_background": "light"
     },
     "output_type": "display_data"
    }
   ],
   "source": [
    "nA = hvs.Page.value_counts()[\"A\"]\n",
    "nB = hvs.Page.value_counts()[\"B\"]\n",
    "\n",
    "perm_diff = [permutation_function(hvs, nA, nB, \"Time\") for _ in range(1000)]\n",
    "\n",
    "plt.figure(figsize=(14, 6))\n",
    "plt.title(\"Distribution for time differences between pages A and B under the Null Hypothesis\".upper(), loc=\"left\")\n",
    "plt.hist(perm_diff)\n",
    "plt.axvline(diff_obs, color=\"orange\", label=\"Observed mean difference\")\n",
    "plt.legend();"
   ]
  },
  {
   "cell_type": "markdown",
   "metadata": {},
   "source": [
    "O grafico acima mostra que a diferença observada está dentro do que é esperado no intervalo de variação apenas por chance. Portanto, a diferença observada não é estatisticamente significativa.\n",
    "\n",
    "#### p-Value\n",
    "Representa a probabilidade de obter resultados tão, ou ainda mais, extremos que o resultado observado considerando que a hipótese nula é a correta.\n",
    "No caso acima, o p-Value é a probabilidade dos valores à esquerda da linha laranja ocorrerem. Podemos calculá-lo da seguinte forma:"
   ]
  },
  {
   "cell_type": "code",
   "execution_count": 8,
   "metadata": {},
   "outputs": [
    {
     "name": "stdout",
     "output_type": "stream",
     "text": [
      "p-Value: 0.054\n",
      "Considerando que não há diferença estatística significativa entre os tempos médios de cada página, podemos esperar que haja diferenças tão extremas como a observada simplesmente por chance em 5.4% do tempo\n"
     ]
    }
   ],
   "source": [
    "p_value = np.mean(np.array(perm_diff) < diff_obs)\n",
    "\n",
    "print(\"p-Value:\", p_value)\n",
    "print(\"Considerando que não há diferença estatística significativa entre os tempos médios de cada página, podemos esperar que haja diferenças tão extremas como a observada simplesmente por chance em {}% do tempo\".format(100*p_value))"
   ]
  },
  {
   "cell_type": "markdown",
   "metadata": {},
   "source": [
    "#### Alpha\n",
    "Nesse caso, mesmo havendo a chance de se observar diferenças tão extremas ou ainda mais extremas que a observada, ela é baixa. Portanto, criaram o **Alpha** que é basicamente um limite de aceitação de p-Value. Você passa o poder rejeitar a hipótese nula caso a probabilidade de se encontrar valores extremos superiores ao valor observado seja inferior ao valor definido por Alpha.\n",
    "\n",
    "A escolha do Alpha é arbitrária. Mas seus valores tipicamente são 5% ou 1%, ou seja, 0.05 ou 0.01."
   ]
  },
  {
   "cell_type": "code",
   "execution_count": 9,
   "metadata": {},
   "outputs": [
    {
     "name": "stdout",
     "output_type": "stream",
     "text": [
      "p-Value > Alpha\n",
      "\n",
      "Aceitamos a hipótese nula.\n",
      "\n",
      "A diferença entre as médias de tempo em cada página não são estatísticamente significativas, ou seja, se houver diferença, é devido à chance.\n"
     ]
    }
   ],
   "source": [
    "alpha = 0.05\n",
    "\n",
    "if p_value <= alpha:\n",
    "    print(\"p-Value <= Alpha\\n\")\n",
    "    print(\"Rejeitamos a hipótese nula.\\n\")\n",
    "    print(\"A diferença entre as médias de tempo em cada página são estatísticamente significativas\")\n",
    "else:\n",
    "    print(\"p-Value > Alpha\\n\")\n",
    "    print(\"Aceitamos a hipótese nula.\\n\")\n",
    "    print(\"A diferença entre as médias de tempo em cada página não são estatísticamente significativas, ou seja, se houver diferença, é devido à chance.\")"
   ]
  },
  {
   "cell_type": "markdown",
   "metadata": {},
   "source": [
    "#### Type 1 and Type 2 Errors\n",
    "\n",
    "||Aceitar $H_0$|Rejeitar $H_0$|\n",
    "|---|---|---|\n",
    "|$H_0$ Verdadeira|Alright|Erro **Tipo I**|\n",
    "|$H_0$ Falsa|Erro **Tipo II**|Alright|\n",
    "\n",
    "$\\alpha$ = P(Erro tipo I)\n",
    "\n",
    "$\\beta$ = P(Erro tipo II)\n",
    "\n",
    "O teste de hipótese serva para te proteger de ser enganado pela aleatoriedade.\n",
    "\n",
    "O apha é exatamente a probabilidade de acontecer o erro do tipo I. Portanto, quanto menor o alpha, menor a chance de cometer o erro do tipo 1.\n",
    "\n",
    "**EXEMPLO 2**: Desejam verificar qual preço A ou B converte mais. \n",
    "\n",
    "**Observações**:\n",
    "1.  Cerca de 45,000 pessoas participaram do teste A/B (sem saber)\n",
    "2. Apesar de termos um alto volume de dados e ser tentador considerar o caso como BIG DATA (que não costuma precisar de testes de significância estatística), a taxa de conversão é muito baixa e acaba que precisamos verificar se a diferença de cerca de 4% é devida à chance ou não.\n",
    "\n",
    "$\\large{H_0: \\mu_{priceA} - \\mu_{priceB} \\le 0}$ \n",
    "\n",
    "\n",
    "$\\large{H_1: \\mu_{priceA} - \\mu_{priceB} \\gt 0}$ "
   ]
  },
  {
   "cell_type": "code",
   "execution_count": 10,
   "metadata": {},
   "outputs": [
    {
     "data": {
      "text/html": [
       "<div>\n",
       "<style scoped>\n",
       "    .dataframe tbody tr th:only-of-type {\n",
       "        vertical-align: middle;\n",
       "    }\n",
       "\n",
       "    .dataframe tbody tr th {\n",
       "        vertical-align: top;\n",
       "    }\n",
       "\n",
       "    .dataframe thead th {\n",
       "        text-align: right;\n",
       "    }\n",
       "</style>\n",
       "<table border=\"1\" class=\"dataframe\">\n",
       "  <thead>\n",
       "    <tr style=\"text-align: right;\">\n",
       "      <th></th>\n",
       "      <th>price</th>\n",
       "      <th>conversion</th>\n",
       "      <th>count</th>\n",
       "    </tr>\n",
       "  </thead>\n",
       "  <tbody>\n",
       "    <tr>\n",
       "      <td>1</td>\n",
       "      <td>A</td>\n",
       "      <td>1</td>\n",
       "      <td>200</td>\n",
       "    </tr>\n",
       "    <tr>\n",
       "      <td>0</td>\n",
       "      <td>A</td>\n",
       "      <td>0</td>\n",
       "      <td>23539</td>\n",
       "    </tr>\n",
       "    <tr>\n",
       "      <td>3</td>\n",
       "      <td>B</td>\n",
       "      <td>1</td>\n",
       "      <td>182</td>\n",
       "    </tr>\n",
       "    <tr>\n",
       "      <td>2</td>\n",
       "      <td>B</td>\n",
       "      <td>0</td>\n",
       "      <td>22406</td>\n",
       "    </tr>\n",
       "  </tbody>\n",
       "</table>\n",
       "</div>"
      ],
      "text/plain": [
       "  price  conversion  count\n",
       "1     A           1    200\n",
       "0     A           0  23539\n",
       "3     B           1    182\n",
       "2     B           0  22406"
      ]
     },
     "execution_count": 10,
     "metadata": {},
     "output_type": "execute_result"
    }
   ],
   "source": [
    "nA = 23739\n",
    "nB = 22588\n",
    "cA = 200\n",
    "cB = 182\n",
    "\n",
    "df = pd.DataFrame({\n",
    "    \"price\": [\"A\"] * nA + [\"B\"] * nB,\n",
    "    \"conversion\": [1] * cA + [0] * (nA - cA) + [1] * cB + [0] * (nB - cB)\n",
    "})\n",
    "\n",
    "cont_table = pd.DataFrame(df.groupby(\"price\").conversion.value_counts()).rename(columns={\"conversion\": \"count\"}).reset_index().sort_values(by=[\"price\", \"conversion\"], ascending=[True, False])\n",
    "cont_table"
   ]
  },
  {
   "cell_type": "code",
   "execution_count": 11,
   "metadata": {},
   "outputs": [
    {
     "data": {
      "text/plain": [
       "0.0003675791182059275"
      ]
     },
     "execution_count": 11,
     "metadata": {},
     "output_type": "execute_result"
    }
   ],
   "source": [
    "props = df.groupby(\"price\").conversion.mean()\n",
    "\n",
    "prop_a = props[\"A\"]\n",
    "prop_b = props[\"B\"]\n",
    "\n",
    "real_diff = prop_a - prop_b\n",
    "real_diff"
   ]
  },
  {
   "cell_type": "code",
   "execution_count": 12,
   "metadata": {},
   "outputs": [
    {
     "data": {
      "image/png": "[encoded data removed]",
      "text/plain": [
       "<Figure size 1008x432 with 1 Axes>"
      ]
     },
     "metadata": {
      "needs_background": "light"
     },
     "output_type": "display_data"
    }
   ],
   "source": [
    "perm_diffs = [permutation_function(df, nA, nB, col=\"conversion\") for _ in range(1_000)]\n",
    "\n",
    "plt.figure(figsize=(14, 6))\n",
    "plt.title(\"Distribution for prices A and B under the Null Hypothesis\".upper(), loc=\"left\")\n",
    "plt.hist(perm_diffs)\n",
    "plt.axvline(real_diff, color=\"orange\", label=\"Observed mean difference\")\n",
    "plt.legend();"
   ]
  },
  {
   "cell_type": "code",
   "execution_count": 13,
   "metadata": {},
   "outputs": [
    {
     "name": "stdout",
     "output_type": "stream",
     "text": [
      "p-Value: 0.315\n"
     ]
    }
   ],
   "source": [
    "p_value = np.mean(np.array(perm_diffs) > np.array(real_diff)).mean()\n",
    "print(\"p-Value:\", p_value)"
   ]
  },
  {
   "cell_type": "markdown",
   "metadata": {},
   "source": [
    "### t-Tests\n",
    "\n",
    "- Antigamente, era mais complicado fazer permutações, então os estatísticos usavam t-Tests"
   ]
  },
  {
   "cell_type": "code",
   "execution_count": 14,
   "metadata": {},
   "outputs": [
    {
     "data": {
      "text/plain": [
       "Ttest_indResult(statistic=-1.5860538358675174, pvalue=0.12198514440835194)"
      ]
     },
     "execution_count": 14,
     "metadata": {},
     "output_type": "execute_result"
    }
   ],
   "source": [
    "stats.ttest_ind(hvs.query(\"Page == 'A'\").Time, hvs.query(\"Page == 'B'\").Time)"
   ]
  },
  {
   "cell_type": "markdown",
   "metadata": {},
   "source": [
    "### MULTIPLE TESTING\n",
    "\n",
    "Estamos testando 4 novas fórmulas para psoríase e queremos verificar se seus resultados são diferentes um do outro. Temos um teste A/B/C/D, podemos perguntar:\n",
    "- A é diferente de B?\n",
    "- A é diferente de C?\n",
    "- A é diferente de D?\n",
    "- B é diferente de C?\n",
    "- B é diferente de D?\n",
    "- C é diferente de D?\n",
    "\n",
    "\n",
    "Isso leva ao fenômeno de inflação do Alpha.\n",
    "\n",
    "**Alpha Inflation**: A probabilidade de cair em um erro do tipo I aumenta a medida que conduz mais testes.\n",
    "\n",
    "Existem procedimentos estatísticos ajustados para comparações múltiplas."
   ]
  },
  {
   "cell_type": "markdown",
   "metadata": {},
   "source": [
    "### ANOVA\n",
    "\n",
    "Quando estamos comparando resultados numéricos de múltiplos grupos (A/B/C/D), o procedimento estatístico para testar a significância estatística entre as diferenças desses grupos é chamado ANOVA (analysis of variance)."
   ]
  },
  {
   "cell_type": "code",
   "execution_count": 15,
   "metadata": {},
   "outputs": [
    {
     "data": {
      "image/png": "[encoded data removed]",
      "text/plain": [
       "<Figure size 432x288 with 1 Axes>"
      ]
     },
     "metadata": {
      "needs_background": "light"
     },
     "output_type": "display_data"
    },
    {
     "data": {
      "text/plain": [
       "page\n",
       "1    172.8\n",
       "2    182.6\n",
       "3    175.6\n",
       "4    164.6\n",
       "Name: seconds, dtype: float64"
      ]
     },
     "execution_count": 15,
     "metadata": {},
     "output_type": "execute_result"
    }
   ],
   "source": [
    "test_abcd = pd.DataFrame({\n",
    "    \"page\": [1] * 5 + [2] * 5 + [3] * 5 + [4] * 5,\n",
    "    \"seconds\": [164, 172, 177, 156, 195, 178, 191, 182, 185, 177, 175, 193, 171, 163, 176, 155, 166, 164, 170, 168]\n",
    "})\n",
    "\n",
    "test_abcd[\"page\"] = test_abcd[\"page\"].astype(\"category\")\n",
    "\n",
    "sns.boxplot(x=\"page\", y=\"seconds\", data=test_abcd)\n",
    "plt.show();\n",
    "\n",
    "test_abcd.groupby(\"page\").seconds.mean()"
   ]
  },
  {
   "cell_type": "markdown",
   "metadata": {},
   "source": [
    "Poderíamos comparar:\n",
    "- Page 1 com page 2\n",
    "- Page 1 com page 3\n",
    "- Page 1 com page 4\n",
    "- Page 2 com page 3\n",
    "- Page 2 com page 4\n",
    "- Page 3 com page 4\n",
    "\n",
    "Porém, teríamos inflação do alpha e poderíamos ser enganos apenas pela chance aleatória. Então, ao invés de fazer cada uma das comparações entre pares de página individuais, fazemos uma única pergunta: \n",
    "**Poderia essas páginas ter a mesma retenção e suas diferenças ser apenas devidas à chance?**\n",
    "\n",
    "Para testar isso, usamos o ANOVA:\n",
    "1. Combine os dados de todos os grupos como se fossem um.\n",
    "2. Embaralhe os dados e sorteie 4 amostragens com 5 valores cada.\n",
    "3. Anote a média de cada um dos 4 grupos.\n",
    "4. Anote a variância das médias dos 4 grupos.\n",
    "5. Repita os passos 2-4 X vezes.\n",
    "\n",
    "#### F-Statistic\n",
    "Assim como o t-Test poderia ser usado ao invés do teste de permutação para comparar a média de dois grupo, existe um teste estatístico para ANOVA baseado na F-Statistic.\n",
    "\n",
    "**Atentar para testes one-way, two-way**\n",
    "\n",
    "#### KEY IDEAS\n",
    "- ANOVA é um procedimento estatístico para analisar resultados de experimentos de múltiplos grupos"
   ]
  },
  {
   "cell_type": "markdown",
   "metadata": {},
   "source": [
    "### CHI-SQUARE TEST\n",
    "Imagine que você quer testar 3 manchetes diferentes para a sua notícia e voce testa cada uma delas em 1,000 visitantes aleatórios.\n",
    "\n",
    "**Observado**\n",
    "\n",
    "||M. 1|M. 2|M. 3|\n",
    "|---|---|---|---|\n",
    "|Click|14|8|12|\n",
    "|No-click|986|992|988|\n",
    "\n",
    "**Esperado**\n",
    "\n",
    "||M. 1|M. 2|M. 3|\n",
    "|---|---|---|---|\n",
    "|Click|11.33|11.33|11.33|\n",
    "|No-click|988.67|988.67|988.67|\n",
    "\n",
    "#### Fisher's Exact Test\n",
    "Usado quando você tem contages muito baixas (<= 5)"
   ]
  },
  {
   "cell_type": "markdown",
   "metadata": {},
   "source": [
    "### MULTI-ARM BANDIT ALGORITHM\n",
    "\n",
    "Pensando em uma máquina caça-níqueis especial que tem 3 braços (A/B/C).\n",
    "\n",
    "**Observado**\n",
    "\n",
    "|Arm|Wins|Out of|\n",
    "|---|---|---|\n",
    "|A|10|50|\n",
    "|B|2|50|\n",
    "|C|4|50|\n",
    "\n",
    "- Epsilon"
   ]
  },
  {
   "cell_type": "code",
   "execution_count": 16,
   "metadata": {},
   "outputs": [],
   "source": [
    "def define_design(n, epsilon):\n",
    "    if n > epsilon:\n",
    "        return \"b\"\n",
    "    else:\n",
    "        return np.random.choice([\"a\", \"c\"])\n",
    "    \n",
    "atribuicoes = pd.Series([define_design(np.random.random(), epsilon=.3) for _ in range(10_000)])"
   ]
  },
  {
   "cell_type": "code",
   "execution_count": 17,
   "metadata": {},
   "outputs": [
    {
     "data": {
      "text/plain": [
       "b    7033\n",
       "a    1491\n",
       "c    1476\n",
       "dtype: int64"
      ]
     },
     "execution_count": 17,
     "metadata": {},
     "output_type": "execute_result"
    }
   ],
   "source": [
    "atribuicoes.value_counts()"
   ]
  }
 ],
 "metadata": {
  "kernelspec": {
   "display_name": "Python 3",
   "language": "python",
   "name": "python3"
  },
  "language_info": {
   "codemirror_mode": {
    "name": "ipython",
    "version": 3
   },
   "file_extension": ".py",
   "mimetype": "text/x-python",
   "name": "python",
   "nbconvert_exporter": "python",
   "pygments_lexer": "ipython3",
   "version": "3.7.4"
  }
 },
 "nbformat": 4,
 "nbformat_minor": 2
}
