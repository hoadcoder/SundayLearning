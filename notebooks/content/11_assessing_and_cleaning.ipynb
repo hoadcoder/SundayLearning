{
 "cells": [
  {
   "cell_type": "code",
   "execution_count": null,
   "metadata": {},
   "outputs": [],
   "source": [
    "# Import main libraries\n",
    "import pandas as pd\n",
    "import numpy as np\n",
    "import os\n",
    "import matplotlib.pyplot as plt\n",
    "import math"
   ]
  },
  {
   "cell_type": "markdown",
   "metadata": {},
   "source": [
    "## 1. Data Gathering"
   ]
  },
  {
   "cell_type": "code",
   "execution_count": null,
   "metadata": {},
   "outputs": [],
   "source": [
    "url = \"https://filebin.net/axvze9ujhh6e15k6/patients_data.zip?t=v1j8o2xr\""
   ]
  },
  {
   "cell_type": "markdown",
   "metadata": {},
   "source": [
    "## 2. Data Assessing"
   ]
  },
  {
   "cell_type": "markdown",
   "metadata": {},
   "source": [
    "The assessing in divided into two mains aspects:\n",
    "\n",
    "* Quality of the dataset\n",
    "* Tidiness of the dataset\n",
    "\n",
    "#### 2.1 Quality\n",
    "\n",
    "Low quality dataset is related to a dirty dataset, which means the content quality of data.\n",
    "\n",
    "Commom issues:\n",
    "\n",
    "* Missing values\n",
    "* Non standard units (km, meters, inches, etc. all mixed)\n",
    "* Innacurate data, invalid data, inconsistent data, etc.\n",
    "\n",
    "#### Data Quality Dimensions\n",
    "* **Completeness**: - Worst\n",
    "    - Do we have all the records that we should?\n",
    "    - Do we have missing records or not?\n",
    "    - Are there specific rows, columns, or cells missing?\n",
    "    \n",
    "* **Validity**: - 2nd worst\n",
    "    - We have the records, but they're not valid, i.e. they don't confirm to a defined schema. Schema is a defined set of rules for data. The rules can be read as world constraints (e.g. negative height is impossible).\n",
    "    \n",
    "* **Accuracy**: - 3rd worst\n",
    "    - Innacurate data is wrong data that is valid. It adheres to the defined schema, but it's not still corrrect. Example: a typo of height = 27 in when it should be 72 in.\n",
    "    \n",
    "* **Consistency**: - least worst\n",
    "    - Inconsistent data is both valid and accurate, but there are multiple correct ways of referring to the same thing. Consistency is a standard format.\n",
    "\n",
    ">One dataset may be high enough quality for one application but not for another.\n",
    "\n",
    "\n",
    "\n",
    "#### Tidiness\n",
    "\n",
    "Untidy data or _messy_ data, is about the structure of the dataset.\n",
    "\n",
    "* Each obsevation by rows, and;\n",
    "* Each variable/features by column;\n",
    "\n",
    "This is the Hadley Wickham definition of tidy data.\n",
    "\n",
    "### Assessing the data\n",
    "\n",
    "There are two ways to assess the data.\n",
    "\n",
    "* Visual, and;\n",
    "* Programmatic.\n",
    "\n",
    "#### Visual Assessment\n",
    "\n",
    "Using regular tools, such as Graphics, Excel, tables, etc. It means, there is a human assessing the data.\n",
    "\n",
    "#### Programmatic Assessment\n",
    "\n",
    "Using automation to dataset evaluation is scalable, and allows you to handle a very huge quantity of data.\n",
    "\n",
    "Examples of \"Programmatic Assessment\": Analysing the data using `.info()`, `.head()`, `.describe()`, plotting graphics (`.plot()`), etc.."
   ]
  },
  {
   "cell_type": "markdown",
   "metadata": {},
   "source": [
    "#### 2.1 Patients Table"
   ]
  },
  {
   "cell_type": "code",
   "execution_count": null,
   "metadata": {
    "scrolled": true
   },
   "outputs": [],
   "source": [
    "patients.sample(30)"
   ]
  },
  {
   "cell_type": "code",
   "execution_count": null,
   "metadata": {},
   "outputs": [],
   "source": [
    "patients.info()"
   ]
  },
  {
   "cell_type": "code",
   "execution_count": null,
   "metadata": {},
   "outputs": [],
   "source": [
    "patients[patients[[\"given_name\", \"surname\"]].duplicated(keep=\"first\")]"
   ]
  },
  {
   "cell_type": "code",
   "execution_count": null,
   "metadata": {},
   "outputs": [],
   "source": [
    "plt.hist(patients.height)"
   ]
  },
  {
   "cell_type": "code",
   "execution_count": null,
   "metadata": {
    "scrolled": false
   },
   "outputs": [],
   "source": [
    "imc_calculado = np.round((patients[\"weight\"] * 0.453592) / (((patients[\"height\"] * 2.54)/100)**2), 1)\n",
    "imc_dado = patients.bmi\n",
    "\n",
    "imc_comparisons = pd.DataFrame({\n",
    "    \"imc_dado\": patients[(imc_dado != imc_calculado)][\"bmi\"],\n",
    "    \"imc_calculado\": imc_calculado[imc_dado != imc_calculado]\n",
    "})\n",
    "\n",
    "imc_comparisons[\"diff\"] = imc_comparisons[\"imc_calculado\"] - imc_comparisons[\"imc_dado\"]\n",
    "\n",
    "imc_comparisons"
   ]
  },
  {
   "cell_type": "markdown",
   "metadata": {},
   "source": [
    "#### 2.2 Treatments Table"
   ]
  },
  {
   "cell_type": "code",
   "execution_count": null,
   "metadata": {
    "scrolled": true
   },
   "outputs": [],
   "source": [
    "treatments.sample(30)"
   ]
  },
  {
   "cell_type": "markdown",
   "metadata": {},
   "source": [
    "#### 2.3 Adverse Reactions Table"
   ]
  },
  {
   "cell_type": "code",
   "execution_count": null,
   "metadata": {
    "scrolled": true
   },
   "outputs": [],
   "source": [
    "adverse_reactions.sample(30)"
   ]
  },
  {
   "cell_type": "code",
   "execution_count": null,
   "metadata": {},
   "outputs": [],
   "source": [
    "adverse_reactions.adverse_reaction.value_counts()"
   ]
  },
  {
   "cell_type": "markdown",
   "metadata": {},
   "source": [
    "#### Quality\n",
    "*PATIENTS Table*\n",
    "- X Coluna `state` tem estados por extenso. California. New York. Illionois. Florida. Nebraska\n",
    "- X Coluna `patient_id` como inteiro. Deveria ser string\n",
    "- X Coluna `brithdate` como string. Deveria ser datetime.\n",
    "- X Paciente John Doe tem mais de um registro com as mesmas informações, exceto a patient_id.\n",
    "- X Paciente Jakob Jakobsen tem 2 registros, um com o nome Jake. Jake's row index = 29\n",
    "- X Paciente Patrick Gersten tem 2 registros, um com o nome Pat. Pat's row index = 502\n",
    "- X Paciente Sandra Taylor tem 2 registros, um com o nome Sandy. Sandy's row index = 282\n",
    "- X Paciente Camilla Zaitseva tem peso em kg ao inves de lbs.\n",
    "- X Paciente Tim Neudorf tem altura 27 lb. O certo são 72 lbs.\n",
    "\n",
    "- X Coluna `contact` números de telefone não seguem o mesmo padrão.\n",
    "\n",
    "\n",
    "*TREATMENTS Table*\n",
    "- Colunas `given_name` e `surname` com nomes em minúsculo. Deve-se entitular\n",
    "- Coluna `hba1c_change` com valores missing e cálculos errados.\n",
    "- Doses iniciais e finais com \"u\". E como string\n",
    "\n",
    "\n",
    "*ADVERSE REACTIONS Table*\n",
    "- Colunas `given_name` e `surname` tem nomes minúsculos.\n",
    "\n",
    "#### Tidiness\n",
    "*PATIENTS Table*\n",
    "- X Coluna `contact` apresenta email e número de telefone. O número de telefone.\n",
    "\n",
    "*TREATMENTS Table*\n",
    "- Colunas `auralin` e `novodra` devem ser separadas em:\n",
    "    - Auralin e Novodra são valores que devem estar na coluna `medicine`\n",
    "    - Doses iniciais e finais devem estar em colunas separadas."
   ]
  },
  {
   "cell_type": "markdown",
   "metadata": {},
   "source": [
    "## 3. Data Cleaning"
   ]
  },
  {
   "cell_type": "markdown",
   "metadata": {},
   "source": [
    "#### 3.1 Patients Table"
   ]
  },
  {
   "cell_type": "code",
   "execution_count": null,
   "metadata": {},
   "outputs": [],
   "source": [
    "patients_clean = patients.copy()"
   ]
  },
  {
   "cell_type": "markdown",
   "metadata": {},
   "source": [
    "**ISSUE**: Coluna state ora apresenta as siglas dos estados, ora o nome por extenso dos estados.\n",
    "\n",
    "**Plan**: Abreviar nomes que estão por extenso"
   ]
  },
  {
   "cell_type": "code",
   "execution_count": null,
   "metadata": {},
   "outputs": [],
   "source": [
    "abbreviation_dic = {\n",
    "    \"California\": \"CA\",\n",
    "    \"New York\": \"NY\",\n",
    "    \"Illinois\": \"IL\",\n",
    "    \"Florida\": \"FL\",\n",
    "    \"Nebraska\": \"NE\"\n",
    "}\n",
    "\n",
    "# Forma iterativa\n",
    "#patients_clean[\"state\"] = patients_clean.apply(lambda row: abbreviation_dic[row[\"state\"]] if row[\"state\"] in abbreviation_dic else row[\"state\"], axis=1)\n",
    "\n",
    "# Forma vetoriza\n",
    "for k, v in abbreviation_dic.items():\n",
    "    patients_clean[\"state\"] = patients_clean[\"state\"].str.replace(k, v)"
   ]
  },
  {
   "cell_type": "code",
   "execution_count": null,
   "metadata": {},
   "outputs": [],
   "source": [
    "# Test\n",
    "patients_clean.state.value_counts()"
   ]
  },
  {
   "cell_type": "markdown",
   "metadata": {},
   "source": [
    "**ISSUE**: Coluna `contact` apresenta email e número de telefone. O número de telefone.\n",
    "\n",
    "**Plan**: Separar telefone de email usando regex e colocá-los em colunas diferentes. Deletar a coluna contact."
   ]
  },
  {
   "cell_type": "code",
   "execution_count": null,
   "metadata": {},
   "outputs": [],
   "source": [
    "patients_clean[\"phone_number\"] = patients_clean[\"contact\"].str.extract(\"((?:\\+\\d{1,2}\\s)?\\(?\\d{3}\\)?[\\s.-]?\\d{3}[\\s.-]?\\d{4})\")\n",
    "patients_clean[\"email\"] = patients_clean[\"contact\"].str.extract(\"([A-Za-z][\\S^@]+@\\w+\\.[A-Za-z]+)\")\n",
    "\n",
    "patients_clean.drop([\"contact\"], axis=1, inplace=True)"
   ]
  },
  {
   "cell_type": "code",
   "execution_count": null,
   "metadata": {
    "scrolled": true
   },
   "outputs": [],
   "source": [
    "#Test\n",
    "patients_clean[[\"phone_number\", \"email\"]][:60]"
   ]
  },
  {
   "cell_type": "markdown",
   "metadata": {},
   "source": [
    "**ISSUE**: Coluna `patient_id` como inteiro\n",
    "\n",
    "**Plan**: Transformar tipo de dado da coluna para objeto"
   ]
  },
  {
   "cell_type": "code",
   "execution_count": null,
   "metadata": {},
   "outputs": [],
   "source": [
    "patients_clean[\"patient_id\"] = patients_clean[\"patient_id\"].astype(\"str\")"
   ]
  },
  {
   "cell_type": "code",
   "execution_count": null,
   "metadata": {},
   "outputs": [],
   "source": [
    "# Test\n",
    "patients_clean.info()"
   ]
  },
  {
   "cell_type": "markdown",
   "metadata": {},
   "source": [
    "**ISSUE**: Coluna `birthdate` como inteiro\n",
    "\n",
    "**Plan**: Transformar para datetime"
   ]
  },
  {
   "cell_type": "code",
   "execution_count": null,
   "metadata": {},
   "outputs": [],
   "source": [
    "patients_clean[\"birthdate\"] = pd.to_datetime(patients_clean[\"birthdate\"], format=\"%m/%d/%Y\")"
   ]
  },
  {
   "cell_type": "code",
   "execution_count": null,
   "metadata": {},
   "outputs": [],
   "source": [
    "# Testar\n",
    "patients_clean.info()"
   ]
  },
  {
   "cell_type": "markdown",
   "metadata": {},
   "source": [
    "**ISSUE**: Paciente John Doe tem vários registros semelhantes\n",
    "\n",
    "**Plan**: Verificar os índices para deletar John Doe e usar df.drop(lista_indices, axis=0, inplace=True)"
   ]
  },
  {
   "cell_type": "code",
   "execution_count": null,
   "metadata": {},
   "outputs": [],
   "source": [
    "lista_indices = patients_clean[patients_clean[[\"given_name\", \"surname\"]].duplicated(keep=\"first\")].index\n",
    "\n",
    "patients_clean.drop(lista_indices, axis=0, inplace=True)"
   ]
  },
  {
   "cell_type": "code",
   "execution_count": null,
   "metadata": {},
   "outputs": [],
   "source": [
    "# Test\n",
    "patients_clean[patients_clean[[\"given_name\", \"surname\"]].duplicated(keep=\"first\")]"
   ]
  },
  {
   "cell_type": "markdown",
   "metadata": {},
   "source": [
    "**ISSUE**: Pacientes com registros para seu nome verdadeiro e apelido.\n",
    "\n",
    "**Plan**: Dropar índices dos registros dos apelidos"
   ]
  },
  {
   "cell_type": "code",
   "execution_count": null,
   "metadata": {},
   "outputs": [],
   "source": [
    "patients_clean.drop([29, 502, 282], axis=0, inplace=True)"
   ]
  },
  {
   "cell_type": "code",
   "execution_count": null,
   "metadata": {},
   "outputs": [],
   "source": [
    "# Test\n",
    "patients_clean[patients_clean[\"given_name\"] == \"Jake\"]\n",
    "patients_clean[patients_clean[\"given_name\"] == \"Pat\"]\n",
    "patients_clean[patients_clean[\"given_name\"] == \"Sandy\"]"
   ]
  },
  {
   "cell_type": "markdown",
   "metadata": {},
   "source": [
    "**ISSUE**: Paciente Camilla Zaitseva com peso em kg\n",
    "\n",
    "**Plan**: Passar seu peso para lb"
   ]
  },
  {
   "cell_type": "code",
   "execution_count": null,
   "metadata": {},
   "outputs": [],
   "source": [
    "patients_clean[patients_clean[\"given_name\"] == \"Camilla\"]\n",
    "\n",
    "patients_clean.loc[210, \"weight\"] = np.round(48.8 * 2.20462, 1)"
   ]
  },
  {
   "cell_type": "code",
   "execution_count": null,
   "metadata": {},
   "outputs": [],
   "source": [
    "# Test\n",
    "patients_clean.loc[210, :]"
   ]
  },
  {
   "cell_type": "markdown",
   "metadata": {},
   "source": [
    "**ISSUE**: Paciente Tim Neudorf tem altura com caracteres trocados\n",
    "\n",
    "**Plan**: Destrocar caracteres"
   ]
  },
  {
   "cell_type": "code",
   "execution_count": null,
   "metadata": {},
   "outputs": [],
   "source": [
    "patients_clean.loc[4, \"height\"] = 72"
   ]
  },
  {
   "cell_type": "code",
   "execution_count": null,
   "metadata": {},
   "outputs": [],
   "source": [
    "# Test\n",
    "patients_clean.loc[4, \"height\"]"
   ]
  }
 ],
 "metadata": {
  "kernelspec": {
   "display_name": "Python 3",
   "language": "python",
   "name": "python3"
  },
  "language_info": {
   "codemirror_mode": {
    "name": "ipython",
    "version": 3
   },
   "file_extension": ".py",
   "mimetype": "text/x-python",
   "name": "python",
   "nbconvert_exporter": "python",
   "pygments_lexer": "ipython3",
   "version": "3.7.4"
  }
 },
 "nbformat": 4,
 "nbformat_minor": 2
}
