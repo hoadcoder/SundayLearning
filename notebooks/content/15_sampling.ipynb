{
 "cells": [
  {
   "cell_type": "markdown",
   "metadata": {},
   "source": [
    "# Data & Sampling Distribution\n",
    "\n",
    "Based on Practical Statistics for Data Scientists\n",
    "\n",
    "A proliferação de dados de qualidade e relevância distintos reinforça a necessidade de amostragem como uma ferramente para trabalhar eficientemente com uma variedade de dados e para minimizar bias.\n",
    "Mesmo em um projeto de Big Data, modelos preditivos são tipicamente desenvolvidos e têm seu piloto com amostras\n",
    "\n",
    "### RANDOM SAMPLING & SAMPLE BIAS\n",
    "\n",
    "**Samples/Amostra**: É um subconjunto (subset) dos dados de um conjunto de dados maior.\n",
    "\n",
    "**Random Sampling/Amostragem Aleatória** é o processo em que cada membro disponível de uma população tem chances iguais de serem escolhidos para a amostra em cada sorteio. O resultado de uma random sampling é uma amostra aleatória simples (simple random sample).\n",
    "\n",
    "A amostragem pode ser feita ou não com replacement.\n",
    "\n",
    "**A qualidade dos dados frequentemente importa mais do que a quantidade de dados quando se faz uma estimativa ou modeo baseado em uma amostra**\n",
    "\n",
    "#### KEY TERMS FOR DATA SAMPLING\n",
    "- **Sample**: É um subset de um dataset maior\n",
    "- **Population**: É o dataset maior ou a ideia deste dataset\n",
    "- **N/n**: Tamanho da população / Tamanho da amostra\n",
    "- **Random Sampling**: Sorteio aleatório de elementos para uma amostra \n",
    "- **Stratified Sampling**: Divisão da população em stratas. Amostragem aleatória dos elementos de cada strata.\n",
    "- **Stratum/Strata**: Subgrupo homogêneo de uma população com características comuns.\n",
    "- **Simple random sample**: A amostra resultante de uma amostragem aleatória sem estratificação da população.\n",
    "- **Bias**: Erro sistemático\n",
    "- **Sample bias**: Amostra que falha em representar a população.\n",
    "\n",
    "##### Sample Bias\n",
    "Dificilmente uma amostra representará exatamente a sua população. O sample bias ocorre quando essa diferença é significativa e pode se esperar de que continue para outras amostrar sorteadas da mesma forma que a primeira.\n",
    "\n",
    "**Self-selection sampling bias** é um exemplo comum de sample bias.\n",
    "\n",
    "##### Bias\n",
    "Refere-se aos erros de medição ou amostragem que são sistemáticos e produzidos pelo processo de medição e amostragem.\n",
    "\n",
    "Um processo unbiased também produzirá erro, mas é aleatório e não tende fortemente em nenhuma direção. Um biased process possui random error (erro aleatório), mas também bias."
   ]
  },
  {
   "cell_type": "code",
   "execution_count": 128,
   "metadata": {},
   "outputs": [
    {
     "data": {
      "image/png": "[encoded data removed]",
      "text/plain": [
       "<Figure size 864x432 with 2 Axes>"
      ]
     },
     "metadata": {
      "needs_background": "light"
     },
     "output_type": "display_data"
    }
   ],
   "source": [
    "import matplotlib.pyplot as plt\n",
    "import numpy as np\n",
    "\n",
    "np.random.seed(0)\n",
    "\n",
    "n = 100\n",
    "b = .2\n",
    "\n",
    "points_x = np.random.normal(0, 1, n)\n",
    "points_y = np.random.normal(0, 1, n)\n",
    "\n",
    "unbiased_x = points_x\n",
    "unbiased_y = points_y\n",
    "\n",
    "biased_x, biased_y = zip(*[(x * (1+b), y * (1+b)) if (x >= 0 and y >= 0)\n",
    "                      else (x * (1-b), y * (1-b))\n",
    "                      for x, y in zip(points_x, points_y)])\n",
    "\n",
    "\n",
    "fig, (ax1, ax2) = plt.subplots(1, 2, sharex=True, sharey=True, figsize=(12, 6))\n",
    "\n",
    "ax1.set_xlim(-5, 5)\n",
    "ax1.set_ylim(-5, 5)\n",
    "\n",
    "ax1.scatter(unbiased_x, unbiased_y)\n",
    "ax1.axvline(0, color=\"orange\"), ax1.axhline(0, color=\"orange\")\n",
    "ax1.set_title(\"Unbiased aims\".upper())\n",
    "\n",
    "ax2.scatter(biased_x, biased_y)\n",
    "ax2.axvline(0, color=\"orange\"), ax2.axhline(0, color=\"orange\")\n",
    "ax2.set_title(\"Biased aims\".upper());"
   ]
  },
  {
   "cell_type": "markdown",
   "metadata": {},
   "source": [
    "#### Random Selection\n",
    "Existe um leque de métodos de amostragem, mas no coração de todos eles está o random sampling.\n",
    "\n",
    "#### Size vs Quality: When does size matter?\n",
    "Tempo e esforço gasto na amostragem aleatória não apenas reduz o bias, mas tabmém permite maior atenção ao EDA e à qualidade dos dados. O cenário clássico para o Big Data é quando os dados não são apenas volumoso, mas também escasso.\n",
    "\n",
    "#### KEY IDEAS\n",
    "- Mesmo na era do big data, amostragem aleatória continua senndo um ponto importante.\n",
    "- O bias ocorre quando medidas ou observações estão sistematicamente com cerro porque não são representativas de toda a população\n",
    "- A qualidade dos dados é frequentemente mais importante que a quantidade, random sampling pode reduzir o bias e facilitar a melhoria da qualidade que, sem ela, seria muito custoso.\n"
   ]
  },
  {
   "cell_type": "markdown",
   "metadata": {},
   "source": [
    "### SELECTION BIAS\n",
    "Refere-se a seleção de dados de uma forma que leva a uma conclusão enganosa ou efêmera.\n",
    "\n",
    "#### KEY TERMS FOR SELECTION BIAS\n",
    "- **Selection Bias**: Bias resultante da forma em que observações são selecionadas.\n",
    "- **Data Snooping**: Caça extensiva nos dados em busca de algo interessante.\n",
    "- **Vast Search Effect**: Bias ou non-reproducibility resultante de repetidas modelagem de dados or modelagem de dados com grande número de variáveis preditoras.\n",
    "\n",
    "#### Regression to the Mean\n",
    "Refere-se ao fenômeno envolvendo medidas sucessivas de uma variável. Valores extremos tendem a ser seguidos de valores mais ao próximos às medidas centrais. \n",
    "Dar foco especial e significado aos valores extremos pode levar a uma forma de selecion bias.\n",
    "\n",
    "#### KEY IDEAS\n",
    "- Especificar a hipótese e coletar dados seguindo randomização e princípios de random samplings é uma prevenção contra bias.\n",
    "- Todas as outras formas de análise de dados corre o risco de bias. Resultante da coleta de dados ou processo de análise."
   ]
  },
  {
   "cell_type": "markdown",
   "metadata": {},
   "source": [
    "### SAMPLING DISTRIBUTION OF A STATISTIC\n",
    "O termo sampling distribution de uma estatística se refere à distribuição de alguma estatística de amostra em muitas amostras sorteadas de uma mesma população.\n",
    "\n",
    "#### KEY TERMS FOR SAMPLING DISTRIBUTION\n",
    "- **Sample Statistic**: Uma métrica calculada para a amostra de dados.\n",
    "- **Data Distribtuion**: É a distribuição da frequência dev alores individuais de um dataset.\n",
    "- **Sampling Distribution**: É a distribuição da sample statistica de muitas amostragens ou re-amostragens.\n",
    "- **Central Limit Theorem**: É a tendência de uma samplings distribution tomar uma forma normal a medida que o tamanho da samplea aumenta.\n",
    "- **Standard Error**: É a \"standard deviation\" de uma sample statistic de muitas amostragens (não confunda com standard deviation).\n",
    "\n",
    "Usualmente, uma amostra é sorteada com o objetivo de:\n",
    "\n",
    "- Medir alguma coisa (com uma sample statistic)\n",
    "- Modelar alguma coisa (comum modelo estatístico ou de Machine Learning)\n",
    "\n",
    "Como nossa estimativa ou modelo é baseado em uma amostra, ele pode conter erro, ou seja, nossa estimativa ou modelo pode ser diferente se sorteássemos uma amostra diferente. Nós estamos interessados em quão diferente eles serão (samplings variability). Se tivermos muitos dados, podemos sortear amostras adicionais e observar a distribuição de uma sample statistic. Tipicamente, nós vamos calcular nossa estimativa ou modelo usando o máximo de dados facilmente disponíveis então a opção de sortear amostras adicionais da população não está disponível.\n"
   ]
  },
  {
   "cell_type": "code",
   "execution_count": 211,
   "metadata": {},
   "outputs": [
    {
     "data": {
      "image/png": "[encoded data removed]",
      "text/plain": [
       "<Figure size 1152x288 with 1 Axes>"
      ]
     },
     "metadata": {
      "needs_background": "light"
     },
     "output_type": "display_data"
    }
   ],
   "source": [
    "from scipy.stats import skewnorm\n",
    "import pandas as pd\n",
    "import seaborn as sns\n",
    "\n",
    "N = 100_000\n",
    "population = pd.Series(np.abs(skewnorm.rvs(40, size=N)) + 0.5)\n",
    "\n",
    "plt.figure(figsize=(16, 4))\n",
    "plt.hist(population, bins=30)\n",
    "plt.title(\"Empréstimos solicitados em R$1000 Jun/2020\", loc=\"left\");"
   ]
  },
  {
   "cell_type": "code",
   "execution_count": 212,
   "metadata": {},
   "outputs": [],
   "source": [
    "sample_data = pd.Series(population.sample(1000))\n",
    "sample_mean_05 = pd.Series([population.sample(5).mean() for _ in range(1000)])\n",
    "sample_mean_20 = pd.Series([population.sample(20).mean() for _ in range(1000)])\n",
    "\n",
    "results = pd.DataFrame({\n",
    "    \"sample_values\": sample_data.reset_index(drop=True),\n",
    "    \"sample_mean_05\": sample_mean_05.reset_index(drop=True),\n",
    "    \"sample_mean_20\": sample_mean_20.reset_index(drop=True)\n",
    "})\n"
   ]
  },
  {
   "cell_type": "code",
   "execution_count": 213,
   "metadata": {},
   "outputs": [
    {
     "data": {
      "image/png": "[encoded data removed]",
      "text/plain": [
       "<Figure size 1152x864 with 3 Axes>"
      ]
     },
     "metadata": {
      "needs_background": "light"
     },
     "output_type": "display_data"
    }
   ],
   "source": [
    "fig, axs = plt.subplots(3, 1, sharex=True, figsize=(16, 12))\n",
    "\n",
    "titles = [\"Sample\", \"Sample Mean 5\", \"Sample Mean 20\"]\n",
    "\n",
    "for column, axi, title in zip(results.columns, axs, titles):\n",
    "    axi.hist(results[column])\n",
    "    axi.set_title(title.upper(), loc=\"left\");"
   ]
  },
  {
   "cell_type": "code",
   "execution_count": 221,
   "metadata": {},
   "outputs": [
    {
     "name": "stdout",
     "output_type": "stream",
     "text": [
      "Média da População:                1.2984909165647407       \n",
      "Média da Samp. Distrib. 5          1.2973831756919467       \n",
      "Média da Samp. Distrib. 20         1.2989323737918144       \n"
     ]
    }
   ],
   "source": [
    "print(\"{:<35}{:<25}\\n{:<35}{:<25}\\n{:<35}{:<25}\".format(\n",
    "    \"Média da População:\", population.mean(),\n",
    "    \"Média da Samp. Distrib. 5\", sample_mean_05.mean(),\n",
    "    \"Média da Samp. Distrib. 20\", sample_mean_20.mean(),\n",
    "    \n",
    "))"
   ]
  },
  {
   "cell_type": "markdown",
   "metadata": {},
   "source": [
    "#### Teorema do Limite Central\n",
    "O fenômeno acima é chamado de Central Limit Theorem e diz que as sample statistics de múltiplas amostragens assemelham-se à curva normal, mesmo que a população não seja distribuída com a curva normal, dado que o tamanho da amostra é grande o suficiente. \n",
    "\n",
    "O teorema permite que métodos estatísticos e probabilísticos que funcionam para distribuições normais possam ser aplicados a muitos problemas com outros tipos de distribuição.\n",
    "\n",
    "**Obs**: O teorema recebe muita atenção na estatística tradicional e os cientistas devem conhecê-lo, porém, como testes de hipóteses formais e intervalos de confiança não são tão presentes na ciência de dados e o **bootstrap** está disponível em qualquer caso, o teorama não é tão central na prática da ciência de dados.\n",
    "\n",
    "#### Standard Error\n",
    "O standard error é uma métrica que soma a variabilidade da sampling distribution. O standard error pode ser estimado usando uma estatística baseada na standard deviation (s) dos valores da amostra e o tamanho da amostra (n).\n",
    "\n",
    "Standard error = $SE=\\huge\\frac{s}{\\sqrt{n}}$\n",
    "\n",
    "\n",
    "Veja que a medida que o tamanho da amostra aumenta, o standard erro diminui.\n",
    "\n",
    "#### KEY IDEAS\n",
    "- A distribuição da frequência de uma sample statistic nos fala como uma métrica seria diferente de amostra em amostra.\n",
    "- A sampling distribution pode ser estimada via bootstrap, ou via formulas que se baseiam no teorema de limite central.\n",
    "- Uma métrica que soma a variabilidade da sample statistic é o standard error."
   ]
  },
  {
   "cell_type": "markdown",
   "metadata": {},
   "source": [
    "### THE BOOTSTRAP\n",
    "Uma maneira fácil e efetiva de estimar a sampling distribution de uma estatística, ou de parâmetros de um modelo, é sortear amostras adicionais com substituição da própria amostra e recalcular a estatística ou modelo para cada re-amostragem.\n",
    "\n",
    "#### KEY TERMS FOR BOOTSTRAP\n",
    "- **Bootstrap Sample**: Uma amostra tomada com substituição.\n",
    "- **Resampling**: O processo de tomar repetidas amostras dos dados. Inclui procedimentos de bootstrap e permutação.\n",
    "\n",
    "O algorítmo para o boostrap da média, para uma amostra de tamanho **n**, é o seguinte:\n",
    "1. Retire um valor, anote, e devolva o valor.\n",
    "2. Repita **n** vezes.\n",
    "3. Anote a média dos valores \"reamostrados\".\n",
    "4. Repita os passos 1-3 **R** vezes.\n",
    "5. Use os **R** resultados para:\n",
    "    - Calcular seu desvio padrão (estimativa do standard error da média da amostra)\n",
    "    - Produzir um histograma ou boxplot.\n",
    "    - Achar um intervalo de confiança\n",
    "\n",
    "R é o número de iterações do bootsrap e é definido arbitrariamente. Quanto mais iterações você faz, mais acurada é a estimativa do standard error ou do intervalo de confiança. O resultado desse procedimento é um conjunto boostrap de sample statistics ou parâmetros estimados de um modelo."
   ]
  },
  {
   "cell_type": "code",
   "execution_count": 260,
   "metadata": {},
   "outputs": [],
   "source": [
    "from sklearn.utils import resample\n",
    "\n",
    "R = 1000\n",
    "\n",
    "results = []\n",
    "for _ in range(R):\n",
    "    sample = resample(sample_data)\n",
    "    results.append(sample.median())\n",
    "\n",
    "results = pd.Series(results)"
   ]
  },
  {
   "cell_type": "code",
   "execution_count": 268,
   "metadata": {},
   "outputs": [
    {
     "name": "stdout",
     "output_type": "stream",
     "text": [
      "BOOTSTRAP STATISTICS:\n",
      "original:      1.175753311890228\n",
      "bootstrap:     1.1908120792849042\n",
      "bias:          0.015058767394676265\n",
      "std. error:    0.02660762561810023\n"
     ]
    }
   ],
   "source": [
    "print(\"Bootstrap Statistics:\".upper())\n",
    "print(\"original:      {}\".format(population.median()))\n",
    "print(\"bootstrap:     {}\".format(results.mean()))\n",
    "print(\"bias:          {}\".format(results.mean() - population.median()))\n",
    "print(\"std. error:    {}\".format(results.std()))"
   ]
  }
 ],
 "metadata": {
  "kernelspec": {
   "display_name": "Python 3",
   "language": "python",
   "name": "python3"
  },
  "language_info": {
   "codemirror_mode": {
    "name": "ipython",
    "version": 3
   },
   "file_extension": ".py",
   "mimetype": "text/x-python",
   "name": "python",
   "nbconvert_exporter": "python",
   "pygments_lexer": "ipython3",
   "version": "3.7.4"
  }
 },
 "nbformat": 4,
 "nbformat_minor": 2
}
