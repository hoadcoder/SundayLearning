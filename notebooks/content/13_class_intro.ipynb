{
 "cells": [
  {
   "cell_type": "code",
   "execution_count": 50,
   "metadata": {},
   "outputs": [],
   "source": [
    "class Person():\n",
    "    def __init__(self, first_name, last_name, age, gender):\n",
    "        self.full_name = (first_name + \" \" + last_name).title()\n",
    "        self.age = age\n",
    "        self.gender = gender\n",
    "        \n",
    "        if gender.lower() == \"female\":\n",
    "            print(\"Sou mulher\")\n",
    "        \n",
    "    def say_hi(self):\n",
    "        print(\"Hi, my name is {}\".format(self.full_name))\n",
    "        \n",
    "    def aniversario(self):\n",
    "        self.age = self.age + 1\n",
    "        print(\"{} acabou de fazer aniversário e agora tem {} anos\".format(self.name, self.age))"
   ]
  },
  {
   "cell_type": "code",
   "execution_count": 51,
   "metadata": {},
   "outputs": [
    {
     "name": "stdout",
     "output_type": "stream",
     "text": [
      "Sou mulher\n"
     ]
    }
   ],
   "source": [
    "mauraia = Person(\"Mauraia\", \"Souza\", age=43, gender=\"Female\")"
   ]
  },
  {
   "cell_type": "code",
   "execution_count": null,
   "metadata": {},
   "outputs": [],
   "source": []
  },
  {
   "cell_type": "code",
   "execution_count": 49,
   "metadata": {},
   "outputs": [
    {
     "name": "stdout",
     "output_type": "stream",
     "text": [
      "Hi, my name is Mauraia Souza\n"
     ]
    }
   ],
   "source": [
    "mauraia.say_hi()"
   ]
  },
  {
   "cell_type": "code",
   "execution_count": 32,
   "metadata": {},
   "outputs": [
    {
     "name": "stdout",
     "output_type": "stream",
     "text": [
      "Mauraia Souza Aguiar acabou de fazer aniversário e agora tem 62 anos\n"
     ]
    }
   ],
   "source": [
    "mauraia.aniversario()"
   ]
  },
  {
   "cell_type": "code",
   "execution_count": 41,
   "metadata": {},
   "outputs": [],
   "source": [
    "class Bombeiro(Person):\n",
    "    def __init__(self, name, age, gender):\n",
    "        super().__init__(name, age, gender)\n",
    "        \n",
    "    def apagar_fogo(self):\n",
    "        print(\"{} acabou de apagar um fogo.\".format(self.name))\n",
    "        \n",
    "    def say_hi(self):\n",
    "        print(\"Hi, my name is {} e eu sou um bombeirão\".format(self.name))"
   ]
  },
  {
   "cell_type": "code",
   "execution_count": 42,
   "metadata": {},
   "outputs": [],
   "source": [
    "bruna = Bombeiro(\"Bruna Silva Jardim\", age=89, gender=\"Female\")"
   ]
  },
  {
   "cell_type": "code",
   "execution_count": 43,
   "metadata": {},
   "outputs": [
    {
     "name": "stdout",
     "output_type": "stream",
     "text": [
      "Hi, my name is Bruna Silva Jardim e eu sou um bombeirão\n"
     ]
    }
   ],
   "source": [
    "bruna.say_hi()"
   ]
  },
  {
   "cell_type": "code",
   "execution_count": 38,
   "metadata": {},
   "outputs": [
    {
     "name": "stdout",
     "output_type": "stream",
     "text": [
      "Bruna Silva Jardim acabou de fazer aniversário e agora tem 90 anos\n"
     ]
    }
   ],
   "source": [
    "bruna.aniversario()"
   ]
  },
  {
   "cell_type": "code",
   "execution_count": 39,
   "metadata": {},
   "outputs": [
    {
     "name": "stdout",
     "output_type": "stream",
     "text": [
      "Bruna Silva Jardim acabou de apagar um fogo.\n"
     ]
    }
   ],
   "source": [
    "bruna.apagar_fogo()"
   ]
  },
  {
   "cell_type": "code",
   "execution_count": null,
   "metadata": {},
   "outputs": [],
   "source": []
  }
 ],
 "metadata": {
  "kernelspec": {
   "display_name": "Python 3 (ipykernel)",
   "language": "python",
   "name": "python3"
  },
  "language_info": {
   "codemirror_mode": {
    "name": "ipython",
    "version": 3
   },
   "file_extension": ".py",
   "mimetype": "text/x-python",
   "name": "python",
   "nbconvert_exporter": "python",
   "pygments_lexer": "ipython3",
   "version": "3.7.4"
  }
 },
 "nbformat": 4,
 "nbformat_minor": 2
}
