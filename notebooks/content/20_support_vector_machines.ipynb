{
 "cells": [
  {
   "cell_type": "code",
   "execution_count": 73,
   "metadata": {},
   "outputs": [],
   "source": [
    "import pandas as pd\n",
    "import numpy as np\n",
    "import matplotlib.pyplot as plt\n",
    "import plotly.express as px\n",
    "\n",
    "from sklearn import datasets\n",
    "from sklearn.pipeline import Pipeline\n",
    "from sklearn.preprocessing import StandardScaler\n",
    "from sklearn.svm import LinearSVC, SVC\n",
    "\n",
    "from scipy.special import expit"
   ]
  },
  {
   "cell_type": "markdown",
   "metadata": {},
   "source": [
    "### Support Vector Machines\n",
    "\n",
    "Vista alternativa da Regressão logística\n",
    "\n",
    "$\\Large{h_{\\theta}(x) = \\frac{1}{1+e^{-z} }, z=\\theta^{T}x}$"
   ]
  },
  {
   "cell_type": "code",
   "execution_count": 23,
   "metadata": {},
   "outputs": [
    {
     "data": {
      "image/png": "[encoded data removed]",
      "text/plain": [
       "<Figure size 720x216 with 1 Axes>"
      ]
     },
     "metadata": {
      "needs_background": "light"
     },
     "output_type": "display_data"
    }
   ],
   "source": [
    "x = np.arange(-10, 10)\n",
    "y = expit(x)\n",
    "\n",
    "plt.figure(figsize=(10, 3))\n",
    "\n",
    "plt.plot(x, y)\n",
    "plt.xlabel(\"z\", fontsize=20), plt.ylabel(\"hipótese\", fontsize=16);"
   ]
  },
  {
   "cell_type": "markdown",
   "metadata": {},
   "source": [
    "Se y = 1, nós queremos $\\large{h_{\\theta}(x)}$ aproximadamente igual a 1, ou seja, $\\large{z >> 0}$ \n",
    "\n",
    "Se y = 0, nós queremos $\\large{h_{\\theta}(x)}$ aproximadamente igual a 0, ou seja, $\\large{z << 0}$ \n",
    "\n",
    "##### Custo da Regressão Logística X Custo da SVM\n",
    "![](https://camo.githubusercontent.com/e22920c7ba70cb0a5aeefe7edeb0df9c7843b9c04e0e969cd1b0c3462496c3a6/68747470733a2f2f692e696d6775722e636f6d2f4b55654f534b332e706e67)\n",
    "\n",
    "As linhas retas desenhadas são uma aproximação à função de custo da Regressão Logística, exceto que elas são criadas por 2 segmentos de reta que proporcionam às SVM **vantagem computacionais** e **problema de otimização facilitado**\n",
    "\n",
    "### LR\n",
    "$$\\Large{J(\\theta) = \\frac{-1}{m} [\\sum_{i=1}^{m} (y^{(i)}*log(h_{\\theta})) + ((1-y^{(i)})*log(1-h_{\\theta}))] + \\frac{\\lambda}{2m} \\sum_{j=1}^{n} \\theta^2}$$\n",
    "\n",
    "### SVM\n",
    "$$\\Large{J(\\theta) = C*\\sum_{i=1}^{m}[y^{(i)} cost_1(z) + (1-y^{(i)}) cost_0(z)] + \\frac{1}{2} \\sum_{j=1}^{n} \\theta^2}$$\n",
    "\n",
    "$$\\Large{C = \\frac{1}{\\lambda}}$$\n",
    "\n",
    "### Intuição da Large Margin do SVM**\n",
    "\n",
    "### Kernels\n",
    "Solução para adaptar as SVMs a desenvolverem classificadores não-lineares"
   ]
  },
  {
   "cell_type": "code",
   "execution_count": 55,
   "metadata": {},
   "outputs": [],
   "source": [
    "X, y = datasets.make_moons(n_samples=100, noise=0.15)"
   ]
  },
  {
   "cell_type": "code",
   "execution_count": 69,
   "metadata": {
    "scrolled": false
   },
   "outputs": [
    {
     "data": {
      "application/vnd.plotly.v1+json": {
       "config": {
        "plotlyServerURL": "https://plot.ly"
       },
       "data": [
        {
         "hovertemplate": "color=1<br>x=%{x}<br>y=%{y}<extra></extra>",
         "legendgroup": "1",
         "marker": {
          "color": "#636efa",
          "symbol": "circle"
         },
         "mode": "markers",
         "name": "1",
         "orientation": "v",
         "showlegend": true,
         "type": "scatter",
         "x": [
          0.9841324479958213,
          0.6504713410913954,
          1.1509094643938171,
          0.8410719576132241,
          0.1462041606871483,
          1.6283758950787186,
          2.0495733891899097,
          1.0905804757792839,
          1.2165232554080725,
          0.6586724934719064,
          0.22073559398411452,
          0.2743249043130093,
          1.644950973686112,
          0.3308075937399161,
          0.02015964619769489,
          1.6037018428365128,
          1.96396217283185,
          1.8068445524934544,
          0.42064604956601875,
          0.18509777806861505,
          1.873213338864896,
          1.7229652503502928,
          0.28035514423653246,
          1.8665335470342153,
          1.6593198761119703,
          2.0170859780527173,
          1.1857977096060461,
          0.08559725718880892,
          -0.06924816334053976,
          0.06708696305586531,
          0.6343854406001416,
          1.1468792132163703,
          2.0894457796290506,
          -0.338673126585501,
          0.47460308829641484,
          1.300704072571792,
          1.229748536687678,
          -0.005940739857793836,
          1.8488398884941624,
          0.9195122559766225,
          1.7125536951466038,
          0.17827176752061136,
          1.9770855623549597,
          0.26628973285773755,
          -0.09828277043587917,
          0.8161852719185597,
          1.86892992025569,
          1.246451007081104,
          0.3575725920646695,
          1.4332376063092818
         ],
         "xaxis": "x",
         "y": [
          -0.37362266769837105,
          -0.275025986540696,
          -0.623855106473499,
          -0.5222459157972204,
          0.04582640911684331,
          -0.35885051108140553,
          -0.03278377490346401,
          -0.3945335412547776,
          -0.6959615207696365,
          -0.500637177715599,
          -0.2955909137151841,
          -0.18217641512106317,
          -0.3044071799179263,
          -0.20213563297651013,
          -0.12689864159367464,
          -0.2137535667081674,
          0.33259281400560664,
          -0.26636456876594233,
          -0.08313181851854229,
          0.019086856251314663,
          -0.09502530369588773,
          -0.0009151851255089424,
          -0.0896324983907771,
          -0.41588575845597137,
          0.38937403620062605,
          0.5130775007438355,
          -0.230931786075674,
          -0.1687551296231881,
          0.44413450987085756,
          0.10890607873659112,
          -0.253994645945089,
          -0.3082035788046579,
          0.325156194421792,
          0.5423385480853259,
          -0.20040371136122792,
          -0.19873524972703327,
          -0.1501574306469305,
          0.2629844752718462,
          -0.0008870543953059529,
          -0.5102367621069159,
          -0.14456618622417183,
          0.352716631290597,
          0.22919118516995157,
          0.09517560821234758,
          0.6577622411651091,
          -0.39453132679493275,
          0.3598647977946665,
          -0.8024148299681809,
          -0.22630180379848497,
          -0.23826547667474304
         ],
         "yaxis": "y"
        },
        {
         "hovertemplate": "color=0<br>x=%{x}<br>y=%{y}<extra></extra>",
         "legendgroup": "0",
         "marker": {
          "color": "#EF553B",
          "symbol": "circle"
         },
         "mode": "markers",
         "name": "0",
         "orientation": "v",
         "showlegend": true,
         "type": "scatter",
         "x": [
          -0.44374770796453245,
          -0.3389530221259405,
          -0.3370725979088692,
          0.8410820526944226,
          0.7827190183619146,
          1.330312524867132,
          -0.8224912004854027,
          0.6645487450814251,
          0.4774581875569549,
          -0.9265923871449386,
          -0.6049482367201597,
          -0.7834481500067261,
          -0.06862871796750537,
          -0.1586534528158251,
          -0.7687949788254113,
          0.8320053486102732,
          -0.9687297607472649,
          -0.757860903832299,
          -0.8994032673269329,
          -1.111974165499152,
          0.37134806033969725,
          0.5268426026471352,
          0.1894130373300695,
          0.6835575904431849,
          0.4540526663087253,
          0.6632348172927707,
          -0.9419852590308686,
          -0.5109596250580639,
          1.0511432893246082,
          0.24885711544620492,
          -0.8366478341325653,
          0.8533027613123321,
          -0.37684961645283077,
          0.8009308777084829,
          -1.4786098388401243,
          1.103848938513002,
          -0.37662997731748493,
          -0.30193959011416077,
          0.16537216390694023,
          -1.1500930982952169,
          0.2566014839140957,
          -0.8030366206259726,
          -1.050317649548604,
          1.020110831648537,
          0.48656555337362245,
          -0.3440417401109096,
          0.2383253170628672,
          1.0379523543125686,
          0.3214440761774227,
          0.4115802790355478
         ],
         "xaxis": "x",
         "y": [
          0.9958210050831219,
          1.1225127105462556,
          0.7849187875008188,
          0.32592829679600643,
          0.578296652095094,
          0.21303581158541354,
          0.70525715623219,
          0.6650260060137996,
          1.1611826526019204,
          0.6126245960781618,
          0.717872559204568,
          0.2857699949803577,
          0.7769903080087053,
          0.750492344638911,
          0.6466047399387654,
          0.2375615101212984,
          0.08274094068080454,
          0.9489668893591129,
          0.8108864383852101,
          0.4000316711669668,
          0.31680889895725156,
          0.9334108375896835,
          0.8860716228061167,
          0.8647713062586085,
          0.7010965619567525,
          0.16829381652510897,
          0.18250712057081783,
          0.787972407794552,
          0.3467790182282978,
          0.998335701359228,
          0.11622361726184019,
          0.6463871086165813,
          0.8373052225955694,
          0.49378094453024607,
          0.27331476977683394,
          -0.030009326077901823,
          0.7548141885176309,
          0.5631419443010144,
          0.8465466464659465,
          -0.13765821554693794,
          1.0085529342850028,
          0.4544196341786604,
          0.7482140488298528,
          0.3682928859197094,
          0.9163549772447628,
          0.8888688818718099,
          1.0726887782025372,
          0.10879482733913245,
          0.8489688956104988,
          0.5433944977469256
         ],
         "yaxis": "y"
        }
       ],
       "layout": {
        "legend": {
         "title": {
          "text": "color"
         },
         "tracegroupgap": 0
        },
        "margin": {
         "t": 60
        },
        "template": {
         "data": {
          "bar": [
           {
            "error_x": {
             "color": "#2a3f5f"
            },
            "error_y": {
             "color": "#2a3f5f"
            },
            "marker": {
             "line": {
              "color": "#E5ECF6",
              "width": 0.5
             }
            },
            "type": "bar"
           }
          ],
          "barpolar": [
           {
            "marker": {
             "line": {
              "color": "#E5ECF6",
              "width": 0.5
             }
            },
            "type": "barpolar"
           }
          ],
          "carpet": [
           {
            "aaxis": {
             "endlinecolor": "#2a3f5f",
             "gridcolor": "white",
             "linecolor": "white",
             "minorgridcolor": "white",
             "startlinecolor": "#2a3f5f"
            },
            "baxis": {
             "endlinecolor": "#2a3f5f",
             "gridcolor": "white",
             "linecolor": "white",
             "minorgridcolor": "white",
             "startlinecolor": "#2a3f5f"
            },
            "type": "carpet"
           }
          ],
          "choropleth": [
           {
            "colorbar": {
             "outlinewidth": 0,
             "ticks": ""
            },
            "type": "choropleth"
           }
          ],
          "contour": [
           {
            "colorbar": {
             "outlinewidth": 0,
             "ticks": ""
            },
            "colorscale": [
             [
              0,
              "#0d0887"
             ],
             [
              0.1111111111111111,
              "#46039f"
             ],
             [
              0.2222222222222222,
              "#7201a8"
             ],
             [
              0.3333333333333333,
              "#9c179e"
             ],
             [
              0.4444444444444444,
              "#bd3786"
             ],
             [
              0.5555555555555556,
              "#d8576b"
             ],
             [
              0.6666666666666666,
              "#ed7953"
             ],
             [
              0.7777777777777778,
              "#fb9f3a"
             ],
             [
              0.8888888888888888,
              "#fdca26"
             ],
             [
              1,
              "#f0f921"
             ]
            ],
            "type": "contour"
           }
          ],
          "contourcarpet": [
           {
            "colorbar": {
             "outlinewidth": 0,
             "ticks": ""
            },
            "type": "contourcarpet"
           }
          ],
          "heatmap": [
           {
            "colorbar": {
             "outlinewidth": 0,
             "ticks": ""
            },
            "colorscale": [
             [
              0,
              "#0d0887"
             ],
             [
              0.1111111111111111,
              "#46039f"
             ],
             [
              0.2222222222222222,
              "#7201a8"
             ],
             [
              0.3333333333333333,
              "#9c179e"
             ],
             [
              0.4444444444444444,
              "#bd3786"
             ],
             [
              0.5555555555555556,
              "#d8576b"
             ],
             [
              0.6666666666666666,
              "#ed7953"
             ],
             [
              0.7777777777777778,
              "#fb9f3a"
             ],
             [
              0.8888888888888888,
              "#fdca26"
             ],
             [
              1,
              "#f0f921"
             ]
            ],
            "type": "heatmap"
           }
          ],
          "heatmapgl": [
           {
            "colorbar": {
             "outlinewidth": 0,
             "ticks": ""
            },
            "colorscale": [
             [
              0,
              "#0d0887"
             ],
             [
              0.1111111111111111,
              "#46039f"
             ],
             [
              0.2222222222222222,
              "#7201a8"
             ],
             [
              0.3333333333333333,
              "#9c179e"
             ],
             [
              0.4444444444444444,
              "#bd3786"
             ],
             [
              0.5555555555555556,
              "#d8576b"
             ],
             [
              0.6666666666666666,
              "#ed7953"
             ],
             [
              0.7777777777777778,
              "#fb9f3a"
             ],
             [
              0.8888888888888888,
              "#fdca26"
             ],
             [
              1,
              "#f0f921"
             ]
            ],
            "type": "heatmapgl"
           }
          ],
          "histogram": [
           {
            "marker": {
             "colorbar": {
              "outlinewidth": 0,
              "ticks": ""
             }
            },
            "type": "histogram"
           }
          ],
          "histogram2d": [
           {
            "colorbar": {
             "outlinewidth": 0,
             "ticks": ""
            },
            "colorscale": [
             [
              0,
              "#0d0887"
             ],
             [
              0.1111111111111111,
              "#46039f"
             ],
             [
              0.2222222222222222,
              "#7201a8"
             ],
             [
              0.3333333333333333,
              "#9c179e"
             ],
             [
              0.4444444444444444,
              "#bd3786"
             ],
             [
              0.5555555555555556,
              "#d8576b"
             ],
             [
              0.6666666666666666,
              "#ed7953"
             ],
             [
              0.7777777777777778,
              "#fb9f3a"
             ],
             [
              0.8888888888888888,
              "#fdca26"
             ],
             [
              1,
              "#f0f921"
             ]
            ],
            "type": "histogram2d"
           }
          ],
          "histogram2dcontour": [
           {
            "colorbar": {
             "outlinewidth": 0,
             "ticks": ""
            },
            "colorscale": [
             [
              0,
              "#0d0887"
             ],
             [
              0.1111111111111111,
              "#46039f"
             ],
             [
              0.2222222222222222,
              "#7201a8"
             ],
             [
              0.3333333333333333,
              "#9c179e"
             ],
             [
              0.4444444444444444,
              "#bd3786"
             ],
             [
              0.5555555555555556,
              "#d8576b"
             ],
             [
              0.6666666666666666,
              "#ed7953"
             ],
             [
              0.7777777777777778,
              "#fb9f3a"
             ],
             [
              0.8888888888888888,
              "#fdca26"
             ],
             [
              1,
              "#f0f921"
             ]
            ],
            "type": "histogram2dcontour"
           }
          ],
          "mesh3d": [
           {
            "colorbar": {
             "outlinewidth": 0,
             "ticks": ""
            },
            "type": "mesh3d"
           }
          ],
          "parcoords": [
           {
            "line": {
             "colorbar": {
              "outlinewidth": 0,
              "ticks": ""
             }
            },
            "type": "parcoords"
           }
          ],
          "pie": [
           {
            "automargin": true,
            "type": "pie"
           }
          ],
          "scatter": [
           {
            "marker": {
             "colorbar": {
              "outlinewidth": 0,
              "ticks": ""
             }
            },
            "type": "scatter"
           }
          ],
          "scatter3d": [
           {
            "line": {
             "colorbar": {
              "outlinewidth": 0,
              "ticks": ""
             }
            },
            "marker": {
             "colorbar": {
              "outlinewidth": 0,
              "ticks": ""
             }
            },
            "type": "scatter3d"
           }
          ],
          "scattercarpet": [
           {
            "marker": {
             "colorbar": {
              "outlinewidth": 0,
              "ticks": ""
             }
            },
            "type": "scattercarpet"
           }
          ],
          "scattergeo": [
           {
            "marker": {
             "colorbar": {
              "outlinewidth": 0,
              "ticks": ""
             }
            },
            "type": "scattergeo"
           }
          ],
          "scattergl": [
           {
            "marker": {
             "colorbar": {
              "outlinewidth": 0,
              "ticks": ""
             }
            },
            "type": "scattergl"
           }
          ],
          "scattermapbox": [
           {
            "marker": {
             "colorbar": {
              "outlinewidth": 0,
              "ticks": ""
             }
            },
            "type": "scattermapbox"
           }
          ],
          "scatterpolar": [
           {
            "marker": {
             "colorbar": {
              "outlinewidth": 0,
              "ticks": ""
             }
            },
            "type": "scatterpolar"
           }
          ],
          "scatterpolargl": [
           {
            "marker": {
             "colorbar": {
              "outlinewidth": 0,
              "ticks": ""
             }
            },
            "type": "scatterpolargl"
           }
          ],
          "scatterternary": [
           {
            "marker": {
             "colorbar": {
              "outlinewidth": 0,
              "ticks": ""
             }
            },
            "type": "scatterternary"
           }
          ],
          "surface": [
           {
            "colorbar": {
             "outlinewidth": 0,
             "ticks": ""
            },
            "colorscale": [
             [
              0,
              "#0d0887"
             ],
             [
              0.1111111111111111,
              "#46039f"
             ],
             [
              0.2222222222222222,
              "#7201a8"
             ],
             [
              0.3333333333333333,
              "#9c179e"
             ],
             [
              0.4444444444444444,
              "#bd3786"
             ],
             [
              0.5555555555555556,
              "#d8576b"
             ],
             [
              0.6666666666666666,
              "#ed7953"
             ],
             [
              0.7777777777777778,
              "#fb9f3a"
             ],
             [
              0.8888888888888888,
              "#fdca26"
             ],
             [
              1,
              "#f0f921"
             ]
            ],
            "type": "surface"
           }
          ],
          "table": [
           {
            "cells": {
             "fill": {
              "color": "#EBF0F8"
             },
             "line": {
              "color": "white"
             }
            },
            "header": {
             "fill": {
              "color": "#C8D4E3"
             },
             "line": {
              "color": "white"
             }
            },
            "type": "table"
           }
          ]
         },
         "layout": {
          "annotationdefaults": {
           "arrowcolor": "#2a3f5f",
           "arrowhead": 0,
           "arrowwidth": 1
          },
          "coloraxis": {
           "colorbar": {
            "outlinewidth": 0,
            "ticks": ""
           }
          },
          "colorscale": {
           "diverging": [
            [
             0,
             "#8e0152"
            ],
            [
             0.1,
             "#c51b7d"
            ],
            [
             0.2,
             "#de77ae"
            ],
            [
             0.3,
             "#f1b6da"
            ],
            [
             0.4,
             "#fde0ef"
            ],
            [
             0.5,
             "#f7f7f7"
            ],
            [
             0.6,
             "#e6f5d0"
            ],
            [
             0.7,
             "#b8e186"
            ],
            [
             0.8,
             "#7fbc41"
            ],
            [
             0.9,
             "#4d9221"
            ],
            [
             1,
             "#276419"
            ]
           ],
           "sequential": [
            [
             0,
             "#0d0887"
            ],
            [
             0.1111111111111111,
             "#46039f"
            ],
            [
             0.2222222222222222,
             "#7201a8"
            ],
            [
             0.3333333333333333,
             "#9c179e"
            ],
            [
             0.4444444444444444,
             "#bd3786"
            ],
            [
             0.5555555555555556,
             "#d8576b"
            ],
            [
             0.6666666666666666,
             "#ed7953"
            ],
            [
             0.7777777777777778,
             "#fb9f3a"
            ],
            [
             0.8888888888888888,
             "#fdca26"
            ],
            [
             1,
             "#f0f921"
            ]
           ],
           "sequentialminus": [
            [
             0,
             "#0d0887"
            ],
            [
             0.1111111111111111,
             "#46039f"
            ],
            [
             0.2222222222222222,
             "#7201a8"
            ],
            [
             0.3333333333333333,
             "#9c179e"
            ],
            [
             0.4444444444444444,
             "#bd3786"
            ],
            [
             0.5555555555555556,
             "#d8576b"
            ],
            [
             0.6666666666666666,
             "#ed7953"
            ],
            [
             0.7777777777777778,
             "#fb9f3a"
            ],
            [
             0.8888888888888888,
             "#fdca26"
            ],
            [
             1,
             "#f0f921"
            ]
           ]
          },
          "colorway": [
           "#636efa",
           "#EF553B",
           "#00cc96",
           "#ab63fa",
           "#FFA15A",
           "#19d3f3",
           "#FF6692",
           "#B6E880",
           "#FF97FF",
           "#FECB52"
          ],
          "font": {
           "color": "#2a3f5f"
          },
          "geo": {
           "bgcolor": "white",
           "lakecolor": "white",
           "landcolor": "#E5ECF6",
           "showlakes": true,
           "showland": true,
           "subunitcolor": "white"
          },
          "hoverlabel": {
           "align": "left"
          },
          "hovermode": "closest",
          "mapbox": {
           "style": "light"
          },
          "paper_bgcolor": "white",
          "plot_bgcolor": "#E5ECF6",
          "polar": {
           "angularaxis": {
            "gridcolor": "white",
            "linecolor": "white",
            "ticks": ""
           },
           "bgcolor": "#E5ECF6",
           "radialaxis": {
            "gridcolor": "white",
            "linecolor": "white",
            "ticks": ""
           }
          },
          "scene": {
           "xaxis": {
            "backgroundcolor": "#E5ECF6",
            "gridcolor": "white",
            "gridwidth": 2,
            "linecolor": "white",
            "showbackground": true,
            "ticks": "",
            "zerolinecolor": "white"
           },
           "yaxis": {
            "backgroundcolor": "#E5ECF6",
            "gridcolor": "white",
            "gridwidth": 2,
            "linecolor": "white",
            "showbackground": true,
            "ticks": "",
            "zerolinecolor": "white"
           },
           "zaxis": {
            "backgroundcolor": "#E5ECF6",
            "gridcolor": "white",
            "gridwidth": 2,
            "linecolor": "white",
            "showbackground": true,
            "ticks": "",
            "zerolinecolor": "white"
           }
          },
          "shapedefaults": {
           "line": {
            "color": "#2a3f5f"
           }
          },
          "ternary": {
           "aaxis": {
            "gridcolor": "white",
            "linecolor": "white",
            "ticks": ""
           },
           "baxis": {
            "gridcolor": "white",
            "linecolor": "white",
            "ticks": ""
           },
           "bgcolor": "#E5ECF6",
           "caxis": {
            "gridcolor": "white",
            "linecolor": "white",
            "ticks": ""
           }
          },
          "title": {
           "x": 0.05
          },
          "xaxis": {
           "automargin": true,
           "gridcolor": "white",
           "linecolor": "white",
           "ticks": "",
           "title": {
            "standoff": 15
           },
           "zerolinecolor": "white",
           "zerolinewidth": 2
          },
          "yaxis": {
           "automargin": true,
           "gridcolor": "white",
           "linecolor": "white",
           "ticks": "",
           "title": {
            "standoff": 15
           },
           "zerolinecolor": "white",
           "zerolinewidth": 2
          }
         }
        },
        "xaxis": {
         "anchor": "y",
         "domain": [
          0,
          1
         ],
         "title": {
          "text": "x"
         }
        },
        "yaxis": {
         "anchor": "x",
         "domain": [
          0,
          1
         ],
         "title": {
          "text": "y"
         }
        }
       }
      },
      "text/html": [
       "<div>                            <div id=\"5f6cf156-c6f1-4337-a0e6-5ba5e45b4426\" class=\"plotly-graph-div\" style=\"height:525px; width:100%;\"></div>            <script type=\"text/javascript\">                require([\"plotly\"], function(Plotly) {                    window.PLOTLYENV=window.PLOTLYENV || {};                                    if (document.getElementById(\"5f6cf156-c6f1-4337-a0e6-5ba5e45b4426\")) {                    Plotly.newPlot(                        \"5f6cf156-c6f1-4337-a0e6-5ba5e45b4426\",                        [{\"hovertemplate\": \"color=1<br>x=%{x}<br>y=%{y}<extra></extra>\", \"legendgroup\": \"1\", \"marker\": {\"color\": \"#636efa\", \"symbol\": \"circle\"}, \"mode\": \"markers\", \"name\": \"1\", \"orientation\": \"v\", \"showlegend\": true, \"type\": \"scatter\", \"x\": [0.9841324479958213, 0.6504713410913954, 1.1509094643938171, 0.8410719576132241, 0.1462041606871483, 1.6283758950787186, 2.0495733891899097, 1.0905804757792839, 1.2165232554080725, 0.6586724934719064, 0.22073559398411452, 0.2743249043130093, 1.644950973686112, 0.3308075937399161, 0.02015964619769489, 1.6037018428365128, 1.96396217283185, 1.8068445524934544, 0.42064604956601875, 0.18509777806861505, 1.873213338864896, 1.7229652503502928, 0.28035514423653246, 1.8665335470342153, 1.6593198761119703, 2.0170859780527173, 1.1857977096060461, 0.08559725718880892, -0.06924816334053976, 0.06708696305586531, 0.6343854406001416, 1.1468792132163703, 2.0894457796290506, -0.338673126585501, 0.47460308829641484, 1.300704072571792, 1.229748536687678, -0.005940739857793836, 1.8488398884941624, 0.9195122559766225, 1.7125536951466038, 0.17827176752061136, 1.9770855623549597, 0.26628973285773755, -0.09828277043587917, 0.8161852719185597, 1.86892992025569, 1.246451007081104, 0.3575725920646695, 1.4332376063092818], \"xaxis\": \"x\", \"y\": [-0.37362266769837105, -0.275025986540696, -0.623855106473499, -0.5222459157972204, 0.04582640911684331, -0.35885051108140553, -0.03278377490346401, -0.3945335412547776, -0.6959615207696365, -0.500637177715599, -0.2955909137151841, -0.18217641512106317, -0.3044071799179263, -0.20213563297651013, -0.12689864159367464, -0.2137535667081674, 0.33259281400560664, -0.26636456876594233, -0.08313181851854229, 0.019086856251314663, -0.09502530369588773, -0.0009151851255089424, -0.0896324983907771, -0.41588575845597137, 0.38937403620062605, 0.5130775007438355, -0.230931786075674, -0.1687551296231881, 0.44413450987085756, 0.10890607873659112, -0.253994645945089, -0.3082035788046579, 0.325156194421792, 0.5423385480853259, -0.20040371136122792, -0.19873524972703327, -0.1501574306469305, 0.2629844752718462, -0.0008870543953059529, -0.5102367621069159, -0.14456618622417183, 0.352716631290597, 0.22919118516995157, 0.09517560821234758, 0.6577622411651091, -0.39453132679493275, 0.3598647977946665, -0.8024148299681809, -0.22630180379848497, -0.23826547667474304], \"yaxis\": \"y\"}, {\"hovertemplate\": \"color=0<br>x=%{x}<br>y=%{y}<extra></extra>\", \"legendgroup\": \"0\", \"marker\": {\"color\": \"#EF553B\", \"symbol\": \"circle\"}, \"mode\": \"markers\", \"name\": \"0\", \"orientation\": \"v\", \"showlegend\": true, \"type\": \"scatter\", \"x\": [-0.44374770796453245, -0.3389530221259405, -0.3370725979088692, 0.8410820526944226, 0.7827190183619146, 1.330312524867132, -0.8224912004854027, 0.6645487450814251, 0.4774581875569549, -0.9265923871449386, -0.6049482367201597, -0.7834481500067261, -0.06862871796750537, -0.1586534528158251, -0.7687949788254113, 0.8320053486102732, -0.9687297607472649, -0.757860903832299, -0.8994032673269329, -1.111974165499152, 0.37134806033969725, 0.5268426026471352, 0.1894130373300695, 0.6835575904431849, 0.4540526663087253, 0.6632348172927707, -0.9419852590308686, -0.5109596250580639, 1.0511432893246082, 0.24885711544620492, -0.8366478341325653, 0.8533027613123321, -0.37684961645283077, 0.8009308777084829, -1.4786098388401243, 1.103848938513002, -0.37662997731748493, -0.30193959011416077, 0.16537216390694023, -1.1500930982952169, 0.2566014839140957, -0.8030366206259726, -1.050317649548604, 1.020110831648537, 0.48656555337362245, -0.3440417401109096, 0.2383253170628672, 1.0379523543125686, 0.3214440761774227, 0.4115802790355478], \"xaxis\": \"x\", \"y\": [0.9958210050831219, 1.1225127105462556, 0.7849187875008188, 0.32592829679600643, 0.578296652095094, 0.21303581158541354, 0.70525715623219, 0.6650260060137996, 1.1611826526019204, 0.6126245960781618, 0.717872559204568, 0.2857699949803577, 0.7769903080087053, 0.750492344638911, 0.6466047399387654, 0.2375615101212984, 0.08274094068080454, 0.9489668893591129, 0.8108864383852101, 0.4000316711669668, 0.31680889895725156, 0.9334108375896835, 0.8860716228061167, 0.8647713062586085, 0.7010965619567525, 0.16829381652510897, 0.18250712057081783, 0.787972407794552, 0.3467790182282978, 0.998335701359228, 0.11622361726184019, 0.6463871086165813, 0.8373052225955694, 0.49378094453024607, 0.27331476977683394, -0.030009326077901823, 0.7548141885176309, 0.5631419443010144, 0.8465466464659465, -0.13765821554693794, 1.0085529342850028, 0.4544196341786604, 0.7482140488298528, 0.3682928859197094, 0.9163549772447628, 0.8888688818718099, 1.0726887782025372, 0.10879482733913245, 0.8489688956104988, 0.5433944977469256], \"yaxis\": \"y\"}],                        {\"legend\": {\"title\": {\"text\": \"color\"}, \"tracegroupgap\": 0}, \"margin\": {\"t\": 60}, \"template\": {\"data\": {\"bar\": [{\"error_x\": {\"color\": \"#2a3f5f\"}, \"error_y\": {\"color\": \"#2a3f5f\"}, \"marker\": {\"line\": {\"color\": \"#E5ECF6\", \"width\": 0.5}}, \"type\": \"bar\"}], \"barpolar\": [{\"marker\": {\"line\": {\"color\": \"#E5ECF6\", \"width\": 0.5}}, \"type\": \"barpolar\"}], \"carpet\": [{\"aaxis\": {\"endlinecolor\": \"#2a3f5f\", \"gridcolor\": \"white\", \"linecolor\": \"white\", \"minorgridcolor\": \"white\", \"startlinecolor\": \"#2a3f5f\"}, \"baxis\": {\"endlinecolor\": \"#2a3f5f\", \"gridcolor\": \"white\", \"linecolor\": \"white\", \"minorgridcolor\": \"white\", \"startlinecolor\": \"#2a3f5f\"}, \"type\": \"carpet\"}], \"choropleth\": [{\"colorbar\": {\"outlinewidth\": 0, \"ticks\": \"\"}, \"type\": \"choropleth\"}], \"contour\": [{\"colorbar\": {\"outlinewidth\": 0, \"ticks\": \"\"}, \"colorscale\": [[0.0, \"#0d0887\"], [0.1111111111111111, \"#46039f\"], [0.2222222222222222, \"#7201a8\"], [0.3333333333333333, \"#9c179e\"], [0.4444444444444444, \"#bd3786\"], [0.5555555555555556, \"#d8576b\"], [0.6666666666666666, \"#ed7953\"], [0.7777777777777778, \"#fb9f3a\"], [0.8888888888888888, \"#fdca26\"], [1.0, \"#f0f921\"]], \"type\": \"contour\"}], \"contourcarpet\": [{\"colorbar\": {\"outlinewidth\": 0, \"ticks\": \"\"}, \"type\": \"contourcarpet\"}], \"heatmap\": [{\"colorbar\": {\"outlinewidth\": 0, \"ticks\": \"\"}, \"colorscale\": [[0.0, \"#0d0887\"], [0.1111111111111111, \"#46039f\"], [0.2222222222222222, \"#7201a8\"], [0.3333333333333333, \"#9c179e\"], [0.4444444444444444, \"#bd3786\"], [0.5555555555555556, \"#d8576b\"], [0.6666666666666666, \"#ed7953\"], [0.7777777777777778, \"#fb9f3a\"], [0.8888888888888888, \"#fdca26\"], [1.0, \"#f0f921\"]], \"type\": \"heatmap\"}], \"heatmapgl\": [{\"colorbar\": {\"outlinewidth\": 0, \"ticks\": \"\"}, \"colorscale\": [[0.0, \"#0d0887\"], [0.1111111111111111, \"#46039f\"], [0.2222222222222222, \"#7201a8\"], [0.3333333333333333, \"#9c179e\"], [0.4444444444444444, \"#bd3786\"], [0.5555555555555556, \"#d8576b\"], [0.6666666666666666, \"#ed7953\"], [0.7777777777777778, \"#fb9f3a\"], [0.8888888888888888, \"#fdca26\"], [1.0, \"#f0f921\"]], \"type\": \"heatmapgl\"}], \"histogram\": [{\"marker\": {\"colorbar\": {\"outlinewidth\": 0, \"ticks\": \"\"}}, \"type\": \"histogram\"}], \"histogram2d\": [{\"colorbar\": {\"outlinewidth\": 0, \"ticks\": \"\"}, \"colorscale\": [[0.0, \"#0d0887\"], [0.1111111111111111, \"#46039f\"], [0.2222222222222222, \"#7201a8\"], [0.3333333333333333, \"#9c179e\"], [0.4444444444444444, \"#bd3786\"], [0.5555555555555556, \"#d8576b\"], [0.6666666666666666, \"#ed7953\"], [0.7777777777777778, \"#fb9f3a\"], [0.8888888888888888, \"#fdca26\"], [1.0, \"#f0f921\"]], \"type\": \"histogram2d\"}], \"histogram2dcontour\": [{\"colorbar\": {\"outlinewidth\": 0, \"ticks\": \"\"}, \"colorscale\": [[0.0, \"#0d0887\"], [0.1111111111111111, \"#46039f\"], [0.2222222222222222, \"#7201a8\"], [0.3333333333333333, \"#9c179e\"], [0.4444444444444444, \"#bd3786\"], [0.5555555555555556, \"#d8576b\"], [0.6666666666666666, \"#ed7953\"], [0.7777777777777778, \"#fb9f3a\"], [0.8888888888888888, \"#fdca26\"], [1.0, \"#f0f921\"]], \"type\": \"histogram2dcontour\"}], \"mesh3d\": [{\"colorbar\": {\"outlinewidth\": 0, \"ticks\": \"\"}, \"type\": \"mesh3d\"}], \"parcoords\": [{\"line\": {\"colorbar\": {\"outlinewidth\": 0, \"ticks\": \"\"}}, \"type\": \"parcoords\"}], \"pie\": [{\"automargin\": true, \"type\": \"pie\"}], \"scatter\": [{\"marker\": {\"colorbar\": {\"outlinewidth\": 0, \"ticks\": \"\"}}, \"type\": \"scatter\"}], \"scatter3d\": [{\"line\": {\"colorbar\": {\"outlinewidth\": 0, \"ticks\": \"\"}}, \"marker\": {\"colorbar\": {\"outlinewidth\": 0, \"ticks\": \"\"}}, \"type\": \"scatter3d\"}], \"scattercarpet\": [{\"marker\": {\"colorbar\": {\"outlinewidth\": 0, \"ticks\": \"\"}}, \"type\": \"scattercarpet\"}], \"scattergeo\": [{\"marker\": {\"colorbar\": {\"outlinewidth\": 0, \"ticks\": \"\"}}, \"type\": \"scattergeo\"}], \"scattergl\": [{\"marker\": {\"colorbar\": {\"outlinewidth\": 0, \"ticks\": \"\"}}, \"type\": \"scattergl\"}], \"scattermapbox\": [{\"marker\": {\"colorbar\": {\"outlinewidth\": 0, \"ticks\": \"\"}}, \"type\": \"scattermapbox\"}], \"scatterpolar\": [{\"marker\": {\"colorbar\": {\"outlinewidth\": 0, \"ticks\": \"\"}}, \"type\": \"scatterpolar\"}], \"scatterpolargl\": [{\"marker\": {\"colorbar\": {\"outlinewidth\": 0, \"ticks\": \"\"}}, \"type\": \"scatterpolargl\"}], \"scatterternary\": [{\"marker\": {\"colorbar\": {\"outlinewidth\": 0, \"ticks\": \"\"}}, \"type\": \"scatterternary\"}], \"surface\": [{\"colorbar\": {\"outlinewidth\": 0, \"ticks\": \"\"}, \"colorscale\": [[0.0, \"#0d0887\"], [0.1111111111111111, \"#46039f\"], [0.2222222222222222, \"#7201a8\"], [0.3333333333333333, \"#9c179e\"], [0.4444444444444444, \"#bd3786\"], [0.5555555555555556, \"#d8576b\"], [0.6666666666666666, \"#ed7953\"], [0.7777777777777778, \"#fb9f3a\"], [0.8888888888888888, \"#fdca26\"], [1.0, \"#f0f921\"]], \"type\": \"surface\"}], \"table\": [{\"cells\": {\"fill\": {\"color\": \"#EBF0F8\"}, \"line\": {\"color\": \"white\"}}, \"header\": {\"fill\": {\"color\": \"#C8D4E3\"}, \"line\": {\"color\": \"white\"}}, \"type\": \"table\"}]}, \"layout\": {\"annotationdefaults\": {\"arrowcolor\": \"#2a3f5f\", \"arrowhead\": 0, \"arrowwidth\": 1}, \"coloraxis\": {\"colorbar\": {\"outlinewidth\": 0, \"ticks\": \"\"}}, \"colorscale\": {\"diverging\": [[0, \"#8e0152\"], [0.1, \"#c51b7d\"], [0.2, \"#de77ae\"], [0.3, \"#f1b6da\"], [0.4, \"#fde0ef\"], [0.5, \"#f7f7f7\"], [0.6, \"#e6f5d0\"], [0.7, \"#b8e186\"], [0.8, \"#7fbc41\"], [0.9, \"#4d9221\"], [1, \"#276419\"]], \"sequential\": [[0.0, \"#0d0887\"], [0.1111111111111111, \"#46039f\"], [0.2222222222222222, \"#7201a8\"], [0.3333333333333333, \"#9c179e\"], [0.4444444444444444, \"#bd3786\"], [0.5555555555555556, \"#d8576b\"], [0.6666666666666666, \"#ed7953\"], [0.7777777777777778, \"#fb9f3a\"], [0.8888888888888888, \"#fdca26\"], [1.0, \"#f0f921\"]], \"sequentialminus\": [[0.0, \"#0d0887\"], [0.1111111111111111, \"#46039f\"], [0.2222222222222222, \"#7201a8\"], [0.3333333333333333, \"#9c179e\"], [0.4444444444444444, \"#bd3786\"], [0.5555555555555556, \"#d8576b\"], [0.6666666666666666, \"#ed7953\"], [0.7777777777777778, \"#fb9f3a\"], [0.8888888888888888, \"#fdca26\"], [1.0, \"#f0f921\"]]}, \"colorway\": [\"#636efa\", \"#EF553B\", \"#00cc96\", \"#ab63fa\", \"#FFA15A\", \"#19d3f3\", \"#FF6692\", \"#B6E880\", \"#FF97FF\", \"#FECB52\"], \"font\": {\"color\": \"#2a3f5f\"}, \"geo\": {\"bgcolor\": \"white\", \"lakecolor\": \"white\", \"landcolor\": \"#E5ECF6\", \"showlakes\": true, \"showland\": true, \"subunitcolor\": \"white\"}, \"hoverlabel\": {\"align\": \"left\"}, \"hovermode\": \"closest\", \"mapbox\": {\"style\": \"light\"}, \"paper_bgcolor\": \"white\", \"plot_bgcolor\": \"#E5ECF6\", \"polar\": {\"angularaxis\": {\"gridcolor\": \"white\", \"linecolor\": \"white\", \"ticks\": \"\"}, \"bgcolor\": \"#E5ECF6\", \"radialaxis\": {\"gridcolor\": \"white\", \"linecolor\": \"white\", \"ticks\": \"\"}}, \"scene\": {\"xaxis\": {\"backgroundcolor\": \"#E5ECF6\", \"gridcolor\": \"white\", \"gridwidth\": 2, \"linecolor\": \"white\", \"showbackground\": true, \"ticks\": \"\", \"zerolinecolor\": \"white\"}, \"yaxis\": {\"backgroundcolor\": \"#E5ECF6\", \"gridcolor\": \"white\", \"gridwidth\": 2, \"linecolor\": \"white\", \"showbackground\": true, \"ticks\": \"\", \"zerolinecolor\": \"white\"}, \"zaxis\": {\"backgroundcolor\": \"#E5ECF6\", \"gridcolor\": \"white\", \"gridwidth\": 2, \"linecolor\": \"white\", \"showbackground\": true, \"ticks\": \"\", \"zerolinecolor\": \"white\"}}, \"shapedefaults\": {\"line\": {\"color\": \"#2a3f5f\"}}, \"ternary\": {\"aaxis\": {\"gridcolor\": \"white\", \"linecolor\": \"white\", \"ticks\": \"\"}, \"baxis\": {\"gridcolor\": \"white\", \"linecolor\": \"white\", \"ticks\": \"\"}, \"bgcolor\": \"#E5ECF6\", \"caxis\": {\"gridcolor\": \"white\", \"linecolor\": \"white\", \"ticks\": \"\"}}, \"title\": {\"x\": 0.05}, \"xaxis\": {\"automargin\": true, \"gridcolor\": \"white\", \"linecolor\": \"white\", \"ticks\": \"\", \"title\": {\"standoff\": 15}, \"zerolinecolor\": \"white\", \"zerolinewidth\": 2}, \"yaxis\": {\"automargin\": true, \"gridcolor\": \"white\", \"linecolor\": \"white\", \"ticks\": \"\", \"title\": {\"standoff\": 15}, \"zerolinecolor\": \"white\", \"zerolinewidth\": 2}}}, \"xaxis\": {\"anchor\": \"y\", \"domain\": [0.0, 1.0], \"title\": {\"text\": \"x\"}}, \"yaxis\": {\"anchor\": \"x\", \"domain\": [0.0, 1.0], \"title\": {\"text\": \"y\"}}},                        {\"responsive\": true}                    ).then(function(){\n",
       "                            \n",
       "var gd = document.getElementById('5f6cf156-c6f1-4337-a0e6-5ba5e45b4426');\n",
       "var x = new MutationObserver(function (mutations, observer) {{\n",
       "        var display = window.getComputedStyle(gd).display;\n",
       "        if (!display || display === 'none') {{\n",
       "            console.log([gd, 'removed!']);\n",
       "            Plotly.purge(gd);\n",
       "            observer.disconnect();\n",
       "        }}\n",
       "}});\n",
       "\n",
       "// Listen for the removal of the full notebook cells\n",
       "var notebookContainer = gd.closest('#notebook-container');\n",
       "if (notebookContainer) {{\n",
       "    x.observe(notebookContainer, {childList: true});\n",
       "}}\n",
       "\n",
       "// Listen for the clearing of the current output cell\n",
       "var outputEl = gd.closest('.output');\n",
       "if (outputEl) {{\n",
       "    x.observe(outputEl, {childList: true});\n",
       "}}\n",
       "\n",
       "                        })                };                });            </script>        </div>"
      ]
     },
     "metadata": {},
     "output_type": "display_data"
    }
   ],
   "source": [
    "px.scatter(x=X[:, 0], y=X[:, 1], color=pd.Series(y).astype(\"object\"))"
   ]
  },
  {
   "cell_type": "code",
   "execution_count": 71,
   "metadata": {},
   "outputs": [
    {
     "data": {
      "text/plain": [
       "Pipeline(steps=[('scaler', StandardScaler()),\n",
       "                ('linear_svc', LinearSVC(C=1, loss='hinge'))])"
      ]
     },
     "execution_count": 71,
     "metadata": {},
     "output_type": "execute_result"
    }
   ],
   "source": [
    "svm_clf = Pipeline([\n",
    "    (\"scaler\", StandardScaler()),\n",
    "    (\"linear_svc\", LinearSVC(C=1, loss=\"hinge\")),\n",
    "])\n",
    "\n",
    "svm_clf.fit(X, y)"
   ]
  },
  {
   "cell_type": "code",
   "execution_count": 72,
   "metadata": {},
   "outputs": [
    {
     "data": {
      "text/plain": [
       "array([0], dtype=int64)"
      ]
     },
     "execution_count": 72,
     "metadata": {},
     "output_type": "execute_result"
    }
   ],
   "source": [
    "svm_clf.predict([[0, .2]])"
   ]
  },
  {
   "cell_type": "code",
   "execution_count": 75,
   "metadata": {},
   "outputs": [
    {
     "data": {
      "text/plain": [
       "Pipeline(steps=[('scaler', StandardScaler()), ('rbf_svc', SVC())])"
      ]
     },
     "execution_count": 75,
     "metadata": {},
     "output_type": "execute_result"
    }
   ],
   "source": [
    "svm_nn_clf = Pipeline([\n",
    "    (\"scaler\", StandardScaler()),\n",
    "    (\"rbf_svc\", SVC(kernel=\"rbf\")),\n",
    "])\n",
    "\n",
    "svm_nn_clf.fit(X, y)"
   ]
  },
  {
   "cell_type": "code",
   "execution_count": 76,
   "metadata": {},
   "outputs": [
    {
     "data": {
      "text/plain": [
       "array([1], dtype=int64)"
      ]
     },
     "execution_count": 76,
     "metadata": {},
     "output_type": "execute_result"
    }
   ],
   "source": [
    "svm_nn_clf.predict([[0, .2]])"
   ]
  },
  {
   "cell_type": "markdown",
   "metadata": {},
   "source": [
    "#### Hiperparametros\n",
    "- **kernel**: \"linear\", \"poly\", \"rbf\" (gaussiano), \"precomputed\",\n",
    "- **C**: Quanto maior o C, menos a regularização. Ou seja, mais chances de overfitting.\n",
    "- **gamma**: Define qual distante é a influência dos exemplos de treino. Low values: Decision Boundary menos curvilínea. High values: mais curvilínea (favorecendo overfitting)."
   ]
  },
  {
   "cell_type": "markdown",
   "metadata": {},
   "source": [
    "#### Logistic Regression vs Support Vector Machines\n",
    "- Se **n** for maior em relação a **m** $n > m; n = 10,000; m = 10-1,000$\n",
    "        LR  ou SVM sem Kernel (SVM linear)\n",
    "    \n",
    "- Se **n** é pequeno e **m** é \"mais ou menos\" $n = 1-1,000; m=10,000\"$\n",
    "        SVM com Kernel Gaussiano (~rbf)\n",
    "    \n",
    "- Se **n** é pequeno e **m** é muito grande $m >> n; n = 1-1,000; m=100,000$\n",
    "        Criar ou adicionar mais features e, então, usar LR ou SVM sem Kernel (SVM Linear)"
   ]
  },
  {
   "cell_type": "markdown",
   "metadata": {},
   "source": [
    "#### Forças\n",
    "- Funciona bem quando existe uma margem clara entre as classes\n",
    "\n",
    "#### Fraquezas\n",
    "- Não desempenha tão bem em datasets muito largos, pois o tempo de treino é o cubo do tamanho do dataset O(n³). Sugestão: conjunto de treino menor.\n",
    "- Não funciona tão bem quando existem muitos ruídos, quando as classes costumam se sobrepor muito."
   ]
  }
 ],
 "metadata": {
  "kernelspec": {
   "display_name": "Python 3",
   "language": "python",
   "name": "python3"
  },
  "language_info": {
   "codemirror_mode": {
    "name": "ipython",
    "version": 3
   },
   "file_extension": ".py",
   "mimetype": "text/x-python",
   "name": "python",
   "nbconvert_exporter": "python",
   "pygments_lexer": "ipython3",
   "version": "3.7.4"
  }
 },
 "nbformat": 4,
 "nbformat_minor": 2
}
