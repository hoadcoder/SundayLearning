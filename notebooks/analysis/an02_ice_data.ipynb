{
 "cells": [
  {
   "cell_type": "markdown",
   "metadata": {},
   "source": [
    "### INFORMAÇÕES\n",
    "As únicas informações que obitve no site de onde baixei este dataset estão descrita abaixo\n",
    "\n",
    "##### CONTEXT\n",
    "The National Snow and Ice Data Center (NSIDC) supports research into our world’s frozen realms: the snow, ice, glaciers, frozen ground, and climate interactions that make up Earth’s cryosphere. NSIDC manages and distributes scientific data, creates tools for data access, supports data users, performs scientific research, and educates the public about the cryosphere.\n",
    "\n",
    "##### CONTENT\n",
    "- The dataset provides the total extent for each day for the entire time period (1978-2015). There are 7 variables:\n",
    "- Year\n",
    "- Month\n",
    "- Day\n",
    "- Extent: unit is 10^6 sq km\n",
    "- Missing: unit is 10^6 sq km\n",
    "- Source: Source data product web site: http://nsidc.org/data/nsidc-0051.html\n",
    "- hemisphere"
   ]
  },
  {
   "cell_type": "markdown",
   "metadata": {},
   "source": [
    "### Tarefas\n",
    "\n",
    "#### 1. Quero que você faça uma rápida análise do dataframe, sua estrutura e dados. A ideia é encontrar possíveis problemas bem como ter um rápido entendimento do dataframe. Encontrando possíveis problemas ou correções, peço que listem cada observação e problema na célula Markdown ISSUES abaixo.\n",
    "\n",
    "Dicas:\n",
    ".head()\n",
    ".info()\n",
    ".describe()\n",
    ".duplicated()\n",
    "\n",
    "Obs: Vou colocar apenas os problemas que observei para essas duas tarefas na última célula desse notebook. Recomendo olhar a célula apenas depois de ter certeza que já observou tudo. Lembre-se que vc pode encontrar muitas coisas além das que eu encontrei.\n",
    "\n",
    "É interessante, também, usar a função plt.hist(vetor_coluna) para anlisar a distribuição, onde a variável vetor_coluna é uma coluna do dataframe.\n",
    "\n",
    "#### 2. Corrija cada um dos problemas sem alterar o dataframe original\n",
    "\n",
    "#### 3. Ordene o dataframe por data e reset os index\n",
    "#### 4. Verifique qual o intervalo de datas do dataframe.\n",
    "#### 5. Dentro do intervalo verificado acima, existe algum dia que está faltando? (DIFÍCIL)\n",
    "#### 6. Qual a média de extensão para cada ano do registro?\n",
    "#### 7. Qual hemisfério teve uma perda de extensão mais acentuada ao longo dos anos?\n",
    "Dica: crie uma variável que armazenará o dataframe com dados do hemisfério sul e faça o mesmo para o norte. Sugiro, então, calcular a média de extensão dos últimos dois anos (com todos ou a maioria dos dias do ano) e dividir pela média de extensão dos primeiros dois anos. Pode haver metodologia melhor, como uma regressão linear, calculando o declive da reta, mas não vimos como fazer esse tipo de coisa ainda.\n",
    "#### 8. Em qual data e em qual hemisfério tivemos a maior extensão? E em que data?\n",
    "#### 9. Tente plotar um gráfico de linhas para cada hemisfério para verificar o padrão das extensões de gelo no mar. Os picos e vales de extensão certamente variam graças às estações do ano. A estação que provoca pico de extensão no hemisfério norte é a mesma que provoca pico de extensão no mesmo hemifério sul? DAMDAMDAMDAM\n",
    "\n",
    "lembre-se, basta usar o código abaixo para cada hemisfério\n",
    "\n",
    "Y = hemispher[\"extension\"]\n",
    "X = np.arange(len(Y))\n",
    "\n",
    "plt.subplots(1, 1, figsize=(16, 8))\n",
    "\n",
    "plt.plot(X, Y)"
   ]
  },
  {
   "cell_type": "markdown",
   "metadata": {},
   "source": [
    "### OBSERVATIONS\n",
    "1. Obs #1\n",
    "2. Obs #2\n",
    "3. \n",
    "\n",
    "### ISSUES\n",
    "1. Problem #1\n",
    "2. Problem #2\n",
    "3. "
   ]
  },
  {
   "cell_type": "code",
   "execution_count": 1,
   "metadata": {},
   "outputs": [],
   "source": [
    "import pandas as pd"
   ]
  },
  {
   "cell_type": "code",
   "execution_count": 75,
   "metadata": {},
   "outputs": [],
   "source": [
    "df = pd.read_csv(\"world_data/seaice.csv\", sep=\",\")"
   ]
  },
  {
   "cell_type": "code",
   "execution_count": 76,
   "metadata": {},
   "outputs": [
    {
     "data": {
      "text/html": [
       "<div>\n",
       "<style scoped>\n",
       "    .dataframe tbody tr th:only-of-type {\n",
       "        vertical-align: middle;\n",
       "    }\n",
       "\n",
       "    .dataframe tbody tr th {\n",
       "        vertical-align: top;\n",
       "    }\n",
       "\n",
       "    .dataframe thead th {\n",
       "        text-align: right;\n",
       "    }\n",
       "</style>\n",
       "<table border=\"1\" class=\"dataframe\">\n",
       "  <thead>\n",
       "    <tr style=\"text-align: right;\">\n",
       "      <th></th>\n",
       "      <th>Year</th>\n",
       "      <th>Month</th>\n",
       "      <th>Day</th>\n",
       "      <th>Extent</th>\n",
       "      <th>Missing</th>\n",
       "      <th>Source Data</th>\n",
       "      <th>hemisphere</th>\n",
       "    </tr>\n",
       "  </thead>\n",
       "  <tbody>\n",
       "    <tr>\n",
       "      <td>0</td>\n",
       "      <td>2004.0</td>\n",
       "      <td>10.0</td>\n",
       "      <td>16.0</td>\n",
       "      <td>7.982</td>\n",
       "      <td>0.0</td>\n",
       "      <td>['ftp://sidads.colorado.edu/pub/DATASETS/nsid...</td>\n",
       "      <td>north</td>\n",
       "    </tr>\n",
       "    <tr>\n",
       "      <td>1</td>\n",
       "      <td>2017.0</td>\n",
       "      <td>12.0</td>\n",
       "      <td>4.0</td>\n",
       "      <td>12.139</td>\n",
       "      <td>0.0</td>\n",
       "      <td>['ftp://sidads.colorado.edu/pub/DATASETS/nsid...</td>\n",
       "      <td>south</td>\n",
       "    </tr>\n",
       "    <tr>\n",
       "      <td>2</td>\n",
       "      <td>1989.0</td>\n",
       "      <td>1.0</td>\n",
       "      <td>29.0</td>\n",
       "      <td>15.364</td>\n",
       "      <td>0.0</td>\n",
       "      <td>['ftp://sidads.colorado.edu/pub/DATASETS/nsid...</td>\n",
       "      <td>north</td>\n",
       "    </tr>\n",
       "    <tr>\n",
       "      <td>3</td>\n",
       "      <td>1998.0</td>\n",
       "      <td>5.0</td>\n",
       "      <td>4.0</td>\n",
       "      <td>9.077</td>\n",
       "      <td>0.0</td>\n",
       "      <td>['ftp://sidads.colorado.edu/pub/DATASETS/nsid...</td>\n",
       "      <td>south</td>\n",
       "    </tr>\n",
       "    <tr>\n",
       "      <td>4</td>\n",
       "      <td>2014.0</td>\n",
       "      <td>2.0</td>\n",
       "      <td>18.0</td>\n",
       "      <td>14.381</td>\n",
       "      <td>0.0</td>\n",
       "      <td>['ftp://sidads.colorado.edu/pub/DATASETS/nsid...</td>\n",
       "      <td>north</td>\n",
       "    </tr>\n",
       "  </tbody>\n",
       "</table>\n",
       "</div>"
      ],
      "text/plain": [
       "     Year   Month   Day       Extent      Missing  \\\n",
       "0  2004.0    10.0  16.0        7.982          0.0   \n",
       "1  2017.0    12.0   4.0       12.139          0.0   \n",
       "2  1989.0     1.0  29.0       15.364          0.0   \n",
       "3  1998.0     5.0   4.0        9.077          0.0   \n",
       "4  2014.0     2.0  18.0       14.381          0.0   \n",
       "\n",
       "                                         Source Data hemisphere  \n",
       "0   ['ftp://sidads.colorado.edu/pub/DATASETS/nsid...      north  \n",
       "1   ['ftp://sidads.colorado.edu/pub/DATASETS/nsid...      south  \n",
       "2   ['ftp://sidads.colorado.edu/pub/DATASETS/nsid...      north  \n",
       "3   ['ftp://sidads.colorado.edu/pub/DATASETS/nsid...      south  \n",
       "4   ['ftp://sidads.colorado.edu/pub/DATASETS/nsid...      north  "
      ]
     },
     "execution_count": 76,
     "metadata": {},
     "output_type": "execute_result"
    }
   ],
   "source": [
    "df.head()"
   ]
  },
  {
   "cell_type": "code",
   "execution_count": 77,
   "metadata": {},
   "outputs": [
    {
     "data": {
      "text/plain": [
       "Index(['Year', ' Month', ' Day', '     Extent', '    Missing', ' Source Data',\n",
       "       'hemisphere'],\n",
       "      dtype='object')"
      ]
     },
     "execution_count": 77,
     "metadata": {},
     "output_type": "execute_result"
    }
   ],
   "source": [
    "df.columns"
   ]
  },
  {
   "cell_type": "code",
   "execution_count": 78,
   "metadata": {},
   "outputs": [
    {
     "data": {
      "text/html": [
       "<div>\n",
       "<style scoped>\n",
       "    .dataframe tbody tr th:only-of-type {\n",
       "        vertical-align: middle;\n",
       "    }\n",
       "\n",
       "    .dataframe tbody tr th {\n",
       "        vertical-align: top;\n",
       "    }\n",
       "\n",
       "    .dataframe thead th {\n",
       "        text-align: right;\n",
       "    }\n",
       "</style>\n",
       "<table border=\"1\" class=\"dataframe\">\n",
       "  <thead>\n",
       "    <tr style=\"text-align: right;\">\n",
       "      <th></th>\n",
       "      <th>Year</th>\n",
       "      <th>Month</th>\n",
       "      <th>Day</th>\n",
       "      <th>Extent</th>\n",
       "      <th>Missing</th>\n",
       "      <th>Source Data</th>\n",
       "      <th>hemisphere</th>\n",
       "    </tr>\n",
       "  </thead>\n",
       "  <tbody>\n",
       "    <tr>\n",
       "      <td>51</td>\n",
       "      <td>2019.0</td>\n",
       "      <td>1.0</td>\n",
       "      <td>6.0</td>\n",
       "      <td>4.591</td>\n",
       "      <td>0.0</td>\n",
       "      <td>['ftp://sidads.colorado.edu/pub/DATASETS/nsidc...</td>\n",
       "      <td>south</td>\n",
       "    </tr>\n",
       "    <tr>\n",
       "      <td>87</td>\n",
       "      <td>2019.0</td>\n",
       "      <td>1.0</td>\n",
       "      <td>18.0</td>\n",
       "      <td>13.670</td>\n",
       "      <td>0.0</td>\n",
       "      <td>['ftp://sidads.colorado.edu/pub/DATASETS/nsidc...</td>\n",
       "      <td>north</td>\n",
       "    </tr>\n",
       "    <tr>\n",
       "      <td>116</td>\n",
       "      <td>2019.0</td>\n",
       "      <td>4.0</td>\n",
       "      <td>14.0</td>\n",
       "      <td>5.594</td>\n",
       "      <td>0.0</td>\n",
       "      <td>['ftp://sidads.colorado.edu/pub/DATASETS/nsidc...</td>\n",
       "      <td>south</td>\n",
       "    </tr>\n",
       "    <tr>\n",
       "      <td>168</td>\n",
       "      <td>2019.0</td>\n",
       "      <td>3.0</td>\n",
       "      <td>8.0</td>\n",
       "      <td>2.643</td>\n",
       "      <td>0.0</td>\n",
       "      <td>['ftp://sidads.colorado.edu/pub/DATASETS/nsidc...</td>\n",
       "      <td>south</td>\n",
       "    </tr>\n",
       "    <tr>\n",
       "      <td>232</td>\n",
       "      <td>2019.0</td>\n",
       "      <td>4.0</td>\n",
       "      <td>10.0</td>\n",
       "      <td>13.547</td>\n",
       "      <td>0.0</td>\n",
       "      <td>['ftp://sidads.colorado.edu/pub/DATASETS/nsidc...</td>\n",
       "      <td>north</td>\n",
       "    </tr>\n",
       "    <tr>\n",
       "      <td>...</td>\n",
       "      <td>...</td>\n",
       "      <td>...</td>\n",
       "      <td>...</td>\n",
       "      <td>...</td>\n",
       "      <td>...</td>\n",
       "      <td>...</td>\n",
       "      <td>...</td>\n",
       "    </tr>\n",
       "    <tr>\n",
       "      <td>26041</td>\n",
       "      <td>2019.0</td>\n",
       "      <td>3.0</td>\n",
       "      <td>23.0</td>\n",
       "      <td>3.618</td>\n",
       "      <td>0.0</td>\n",
       "      <td>['ftp://sidads.colorado.edu/pub/DATASETS/nsidc...</td>\n",
       "      <td>south</td>\n",
       "    </tr>\n",
       "    <tr>\n",
       "      <td>26065</td>\n",
       "      <td>2019.0</td>\n",
       "      <td>4.0</td>\n",
       "      <td>16.0</td>\n",
       "      <td>13.433</td>\n",
       "      <td>0.0</td>\n",
       "      <td>['ftp://sidads.colorado.edu/pub/DATASETS/nsidc...</td>\n",
       "      <td>north</td>\n",
       "    </tr>\n",
       "    <tr>\n",
       "      <td>26086</td>\n",
       "      <td>2019.0</td>\n",
       "      <td>3.0</td>\n",
       "      <td>8.0</td>\n",
       "      <td>14.702</td>\n",
       "      <td>0.0</td>\n",
       "      <td>['ftp://sidads.colorado.edu/pub/DATASETS/nsidc...</td>\n",
       "      <td>north</td>\n",
       "    </tr>\n",
       "    <tr>\n",
       "      <td>26133</td>\n",
       "      <td>2019.0</td>\n",
       "      <td>1.0</td>\n",
       "      <td>19.0</td>\n",
       "      <td>13.688</td>\n",
       "      <td>0.0</td>\n",
       "      <td>['ftp://sidads.colorado.edu/pub/DATASETS/nsidc...</td>\n",
       "      <td>north</td>\n",
       "    </tr>\n",
       "    <tr>\n",
       "      <td>26399</td>\n",
       "      <td>2019.0</td>\n",
       "      <td>3.0</td>\n",
       "      <td>20.0</td>\n",
       "      <td>3.332</td>\n",
       "      <td>0.0</td>\n",
       "      <td>['ftp://sidads.colorado.edu/pub/DATASETS/nsidc...</td>\n",
       "      <td>south</td>\n",
       "    </tr>\n",
       "  </tbody>\n",
       "</table>\n",
       "<p>303 rows × 7 columns</p>\n",
       "</div>"
      ],
      "text/plain": [
       "         Year   Month   Day       Extent      Missing  \\\n",
       "51     2019.0     1.0   6.0        4.591          0.0   \n",
       "87     2019.0     1.0  18.0       13.670          0.0   \n",
       "116    2019.0     4.0  14.0        5.594          0.0   \n",
       "168    2019.0     3.0   8.0        2.643          0.0   \n",
       "232    2019.0     4.0  10.0       13.547          0.0   \n",
       "...       ...     ...   ...          ...          ...   \n",
       "26041  2019.0     3.0  23.0        3.618          0.0   \n",
       "26065  2019.0     4.0  16.0       13.433          0.0   \n",
       "26086  2019.0     3.0   8.0       14.702          0.0   \n",
       "26133  2019.0     1.0  19.0       13.688          0.0   \n",
       "26399  2019.0     3.0  20.0        3.332          0.0   \n",
       "\n",
       "                                             Source Data hemisphere  \n",
       "51     ['ftp://sidads.colorado.edu/pub/DATASETS/nsidc...      south  \n",
       "87     ['ftp://sidads.colorado.edu/pub/DATASETS/nsidc...      north  \n",
       "116    ['ftp://sidads.colorado.edu/pub/DATASETS/nsidc...      south  \n",
       "168    ['ftp://sidads.colorado.edu/pub/DATASETS/nsidc...      south  \n",
       "232    ['ftp://sidads.colorado.edu/pub/DATASETS/nsidc...      north  \n",
       "...                                                  ...        ...  \n",
       "26041  ['ftp://sidads.colorado.edu/pub/DATASETS/nsidc...      south  \n",
       "26065  ['ftp://sidads.colorado.edu/pub/DATASETS/nsidc...      north  \n",
       "26086  ['ftp://sidads.colorado.edu/pub/DATASETS/nsidc...      north  \n",
       "26133  ['ftp://sidads.colorado.edu/pub/DATASETS/nsidc...      north  \n",
       "26399  ['ftp://sidads.colorado.edu/pub/DATASETS/nsidc...      south  \n",
       "\n",
       "[303 rows x 7 columns]"
      ]
     },
     "execution_count": 78,
     "metadata": {},
     "output_type": "execute_result"
    }
   ],
   "source": [
    "df[df[\"Year\"] == 2019]"
   ]
  },
  {
   "cell_type": "code",
   "execution_count": 79,
   "metadata": {},
   "outputs": [
    {
     "data": {
      "text/plain": [
       "0        False\n",
       "1        False\n",
       "2        False\n",
       "3        False\n",
       "4        False\n",
       "         ...  \n",
       "26455    False\n",
       "26456    False\n",
       "26457    False\n",
       "26458    False\n",
       "26459    False\n",
       "Name: Year, Length: 26460, dtype: bool"
      ]
     },
     "execution_count": 79,
     "metadata": {},
     "output_type": "execute_result"
    }
   ],
   "source": [
    "df[\"Year\"] == 2019"
   ]
  },
  {
   "cell_type": "code",
   "execution_count": 80,
   "metadata": {},
   "outputs": [
    {
     "data": {
      "text/html": [
       "<div>\n",
       "<style scoped>\n",
       "    .dataframe tbody tr th:only-of-type {\n",
       "        vertical-align: middle;\n",
       "    }\n",
       "\n",
       "    .dataframe tbody tr th {\n",
       "        vertical-align: top;\n",
       "    }\n",
       "\n",
       "    .dataframe thead th {\n",
       "        text-align: right;\n",
       "    }\n",
       "</style>\n",
       "<table border=\"1\" class=\"dataframe\">\n",
       "  <thead>\n",
       "    <tr style=\"text-align: right;\">\n",
       "      <th></th>\n",
       "      <th>Year</th>\n",
       "      <th>Month</th>\n",
       "      <th>Day</th>\n",
       "      <th>Extent</th>\n",
       "      <th>Missing</th>\n",
       "      <th>Source Data</th>\n",
       "      <th>hemisphere</th>\n",
       "    </tr>\n",
       "  </thead>\n",
       "  <tbody>\n",
       "    <tr>\n",
       "      <td>51</td>\n",
       "      <td>2019.0</td>\n",
       "      <td>1.0</td>\n",
       "      <td>6.0</td>\n",
       "      <td>4.591</td>\n",
       "      <td>0.0</td>\n",
       "      <td>['ftp://sidads.colorado.edu/pub/DATASETS/nsidc...</td>\n",
       "      <td>south</td>\n",
       "    </tr>\n",
       "    <tr>\n",
       "      <td>87</td>\n",
       "      <td>2019.0</td>\n",
       "      <td>1.0</td>\n",
       "      <td>18.0</td>\n",
       "      <td>13.670</td>\n",
       "      <td>0.0</td>\n",
       "      <td>['ftp://sidads.colorado.edu/pub/DATASETS/nsidc...</td>\n",
       "      <td>north</td>\n",
       "    </tr>\n",
       "    <tr>\n",
       "      <td>116</td>\n",
       "      <td>2019.0</td>\n",
       "      <td>4.0</td>\n",
       "      <td>14.0</td>\n",
       "      <td>5.594</td>\n",
       "      <td>0.0</td>\n",
       "      <td>['ftp://sidads.colorado.edu/pub/DATASETS/nsidc...</td>\n",
       "      <td>south</td>\n",
       "    </tr>\n",
       "    <tr>\n",
       "      <td>168</td>\n",
       "      <td>2019.0</td>\n",
       "      <td>3.0</td>\n",
       "      <td>8.0</td>\n",
       "      <td>2.643</td>\n",
       "      <td>0.0</td>\n",
       "      <td>['ftp://sidads.colorado.edu/pub/DATASETS/nsidc...</td>\n",
       "      <td>south</td>\n",
       "    </tr>\n",
       "    <tr>\n",
       "      <td>232</td>\n",
       "      <td>2019.0</td>\n",
       "      <td>4.0</td>\n",
       "      <td>10.0</td>\n",
       "      <td>13.547</td>\n",
       "      <td>0.0</td>\n",
       "      <td>['ftp://sidads.colorado.edu/pub/DATASETS/nsidc...</td>\n",
       "      <td>north</td>\n",
       "    </tr>\n",
       "    <tr>\n",
       "      <td>...</td>\n",
       "      <td>...</td>\n",
       "      <td>...</td>\n",
       "      <td>...</td>\n",
       "      <td>...</td>\n",
       "      <td>...</td>\n",
       "      <td>...</td>\n",
       "      <td>...</td>\n",
       "    </tr>\n",
       "    <tr>\n",
       "      <td>26041</td>\n",
       "      <td>2019.0</td>\n",
       "      <td>3.0</td>\n",
       "      <td>23.0</td>\n",
       "      <td>3.618</td>\n",
       "      <td>0.0</td>\n",
       "      <td>['ftp://sidads.colorado.edu/pub/DATASETS/nsidc...</td>\n",
       "      <td>south</td>\n",
       "    </tr>\n",
       "    <tr>\n",
       "      <td>26065</td>\n",
       "      <td>2019.0</td>\n",
       "      <td>4.0</td>\n",
       "      <td>16.0</td>\n",
       "      <td>13.433</td>\n",
       "      <td>0.0</td>\n",
       "      <td>['ftp://sidads.colorado.edu/pub/DATASETS/nsidc...</td>\n",
       "      <td>north</td>\n",
       "    </tr>\n",
       "    <tr>\n",
       "      <td>26086</td>\n",
       "      <td>2019.0</td>\n",
       "      <td>3.0</td>\n",
       "      <td>8.0</td>\n",
       "      <td>14.702</td>\n",
       "      <td>0.0</td>\n",
       "      <td>['ftp://sidads.colorado.edu/pub/DATASETS/nsidc...</td>\n",
       "      <td>north</td>\n",
       "    </tr>\n",
       "    <tr>\n",
       "      <td>26133</td>\n",
       "      <td>2019.0</td>\n",
       "      <td>1.0</td>\n",
       "      <td>19.0</td>\n",
       "      <td>13.688</td>\n",
       "      <td>0.0</td>\n",
       "      <td>['ftp://sidads.colorado.edu/pub/DATASETS/nsidc...</td>\n",
       "      <td>north</td>\n",
       "    </tr>\n",
       "    <tr>\n",
       "      <td>26399</td>\n",
       "      <td>2019.0</td>\n",
       "      <td>3.0</td>\n",
       "      <td>20.0</td>\n",
       "      <td>3.332</td>\n",
       "      <td>0.0</td>\n",
       "      <td>['ftp://sidads.colorado.edu/pub/DATASETS/nsidc...</td>\n",
       "      <td>south</td>\n",
       "    </tr>\n",
       "  </tbody>\n",
       "</table>\n",
       "<p>303 rows × 7 columns</p>\n",
       "</div>"
      ],
      "text/plain": [
       "         Year   Month   Day       Extent      Missing  \\\n",
       "51     2019.0     1.0   6.0        4.591          0.0   \n",
       "87     2019.0     1.0  18.0       13.670          0.0   \n",
       "116    2019.0     4.0  14.0        5.594          0.0   \n",
       "168    2019.0     3.0   8.0        2.643          0.0   \n",
       "232    2019.0     4.0  10.0       13.547          0.0   \n",
       "...       ...     ...   ...          ...          ...   \n",
       "26041  2019.0     3.0  23.0        3.618          0.0   \n",
       "26065  2019.0     4.0  16.0       13.433          0.0   \n",
       "26086  2019.0     3.0   8.0       14.702          0.0   \n",
       "26133  2019.0     1.0  19.0       13.688          0.0   \n",
       "26399  2019.0     3.0  20.0        3.332          0.0   \n",
       "\n",
       "                                             Source Data hemisphere  \n",
       "51     ['ftp://sidads.colorado.edu/pub/DATASETS/nsidc...      south  \n",
       "87     ['ftp://sidads.colorado.edu/pub/DATASETS/nsidc...      north  \n",
       "116    ['ftp://sidads.colorado.edu/pub/DATASETS/nsidc...      south  \n",
       "168    ['ftp://sidads.colorado.edu/pub/DATASETS/nsidc...      south  \n",
       "232    ['ftp://sidads.colorado.edu/pub/DATASETS/nsidc...      north  \n",
       "...                                                  ...        ...  \n",
       "26041  ['ftp://sidads.colorado.edu/pub/DATASETS/nsidc...      south  \n",
       "26065  ['ftp://sidads.colorado.edu/pub/DATASETS/nsidc...      north  \n",
       "26086  ['ftp://sidads.colorado.edu/pub/DATASETS/nsidc...      north  \n",
       "26133  ['ftp://sidads.colorado.edu/pub/DATASETS/nsidc...      north  \n",
       "26399  ['ftp://sidads.colorado.edu/pub/DATASETS/nsidc...      south  \n",
       "\n",
       "[303 rows x 7 columns]"
      ]
     },
     "execution_count": 80,
     "metadata": {},
     "output_type": "execute_result"
    }
   ],
   "source": [
    "df[df[\"Year\"] == 2019]"
   ]
  },
  {
   "cell_type": "code",
   "execution_count": 81,
   "metadata": {},
   "outputs": [
    {
     "data": {
      "text/plain": [
       "0        False\n",
       "1        False\n",
       "2        False\n",
       "3        False\n",
       "4        False\n",
       "         ...  \n",
       "26455    False\n",
       "26456    False\n",
       "26457    False\n",
       "26458    False\n",
       "26459    False\n",
       "Length: 26460, dtype: bool"
      ]
     },
     "execution_count": 81,
     "metadata": {},
     "output_type": "execute_result"
    }
   ],
   "source": [
    "df.isnull().all(axis=1)"
   ]
  },
  {
   "cell_type": "code",
   "execution_count": 82,
   "metadata": {},
   "outputs": [],
   "source": [
    "df = df[~df.isnull().all(axis=1)]"
   ]
  },
  {
   "cell_type": "code",
   "execution_count": 83,
   "metadata": {},
   "outputs": [],
   "source": [
    "df = df[~df.duplicated()]"
   ]
  },
  {
   "cell_type": "code",
   "execution_count": 84,
   "metadata": {},
   "outputs": [],
   "source": [
    "df.drop_duplicates(inplace=True)"
   ]
  },
  {
   "cell_type": "code",
   "execution_count": 85,
   "metadata": {},
   "outputs": [
    {
     "data": {
      "text/plain": [
       "0        False\n",
       "1        False\n",
       "2        False\n",
       "3        False\n",
       "4        False\n",
       "         ...  \n",
       "26455    False\n",
       "26456    False\n",
       "26457    False\n",
       "26458    False\n",
       "26459    False\n",
       "Length: 26354, dtype: bool"
      ]
     },
     "execution_count": 85,
     "metadata": {},
     "output_type": "execute_result"
    }
   ],
   "source": [
    "df.duplicated()"
   ]
  },
  {
   "cell_type": "code",
   "execution_count": 86,
   "metadata": {},
   "outputs": [],
   "source": [
    "df.columns = [col.strip().lower().replace(\" \", \"_\") for col in df.columns]"
   ]
  },
  {
   "cell_type": "code",
   "execution_count": 87,
   "metadata": {},
   "outputs": [
    {
     "data": {
      "text/html": [
       "<div>\n",
       "<style scoped>\n",
       "    .dataframe tbody tr th:only-of-type {\n",
       "        vertical-align: middle;\n",
       "    }\n",
       "\n",
       "    .dataframe tbody tr th {\n",
       "        vertical-align: top;\n",
       "    }\n",
       "\n",
       "    .dataframe thead th {\n",
       "        text-align: right;\n",
       "    }\n",
       "</style>\n",
       "<table border=\"1\" class=\"dataframe\">\n",
       "  <thead>\n",
       "    <tr style=\"text-align: right;\">\n",
       "      <th></th>\n",
       "      <th>year</th>\n",
       "      <th>month</th>\n",
       "      <th>day</th>\n",
       "      <th>extent</th>\n",
       "      <th>missing</th>\n",
       "      <th>source_data</th>\n",
       "      <th>hemisphere</th>\n",
       "    </tr>\n",
       "  </thead>\n",
       "  <tbody>\n",
       "    <tr>\n",
       "      <td>0</td>\n",
       "      <td>2004.0</td>\n",
       "      <td>10.0</td>\n",
       "      <td>16.0</td>\n",
       "      <td>7.982</td>\n",
       "      <td>0.0</td>\n",
       "      <td>['ftp://sidads.colorado.edu/pub/DATASETS/nsid...</td>\n",
       "      <td>north</td>\n",
       "    </tr>\n",
       "    <tr>\n",
       "      <td>1</td>\n",
       "      <td>2017.0</td>\n",
       "      <td>12.0</td>\n",
       "      <td>4.0</td>\n",
       "      <td>12.139</td>\n",
       "      <td>0.0</td>\n",
       "      <td>['ftp://sidads.colorado.edu/pub/DATASETS/nsid...</td>\n",
       "      <td>south</td>\n",
       "    </tr>\n",
       "    <tr>\n",
       "      <td>2</td>\n",
       "      <td>1989.0</td>\n",
       "      <td>1.0</td>\n",
       "      <td>29.0</td>\n",
       "      <td>15.364</td>\n",
       "      <td>0.0</td>\n",
       "      <td>['ftp://sidads.colorado.edu/pub/DATASETS/nsid...</td>\n",
       "      <td>north</td>\n",
       "    </tr>\n",
       "    <tr>\n",
       "      <td>3</td>\n",
       "      <td>1998.0</td>\n",
       "      <td>5.0</td>\n",
       "      <td>4.0</td>\n",
       "      <td>9.077</td>\n",
       "      <td>0.0</td>\n",
       "      <td>['ftp://sidads.colorado.edu/pub/DATASETS/nsid...</td>\n",
       "      <td>south</td>\n",
       "    </tr>\n",
       "    <tr>\n",
       "      <td>4</td>\n",
       "      <td>2014.0</td>\n",
       "      <td>2.0</td>\n",
       "      <td>18.0</td>\n",
       "      <td>14.381</td>\n",
       "      <td>0.0</td>\n",
       "      <td>['ftp://sidads.colorado.edu/pub/DATASETS/nsid...</td>\n",
       "      <td>north</td>\n",
       "    </tr>\n",
       "  </tbody>\n",
       "</table>\n",
       "</div>"
      ],
      "text/plain": [
       "     year  month   day  extent  missing  \\\n",
       "0  2004.0   10.0  16.0   7.982      0.0   \n",
       "1  2017.0   12.0   4.0  12.139      0.0   \n",
       "2  1989.0    1.0  29.0  15.364      0.0   \n",
       "3  1998.0    5.0   4.0   9.077      0.0   \n",
       "4  2014.0    2.0  18.0  14.381      0.0   \n",
       "\n",
       "                                         source_data hemisphere  \n",
       "0   ['ftp://sidads.colorado.edu/pub/DATASETS/nsid...      north  \n",
       "1   ['ftp://sidads.colorado.edu/pub/DATASETS/nsid...      south  \n",
       "2   ['ftp://sidads.colorado.edu/pub/DATASETS/nsid...      north  \n",
       "3   ['ftp://sidads.colorado.edu/pub/DATASETS/nsid...      south  \n",
       "4   ['ftp://sidads.colorado.edu/pub/DATASETS/nsid...      north  "
      ]
     },
     "execution_count": 87,
     "metadata": {},
     "output_type": "execute_result"
    }
   ],
   "source": [
    "df.head()"
   ]
  },
  {
   "cell_type": "code",
   "execution_count": 88,
   "metadata": {},
   "outputs": [
    {
     "data": {
      "text/html": [
       "<div>\n",
       "<style scoped>\n",
       "    .dataframe tbody tr th:only-of-type {\n",
       "        vertical-align: middle;\n",
       "    }\n",
       "\n",
       "    .dataframe tbody tr th {\n",
       "        vertical-align: top;\n",
       "    }\n",
       "\n",
       "    .dataframe thead th {\n",
       "        text-align: right;\n",
       "    }\n",
       "</style>\n",
       "<table border=\"1\" class=\"dataframe\">\n",
       "  <thead>\n",
       "    <tr style=\"text-align: right;\">\n",
       "      <th></th>\n",
       "      <th>year</th>\n",
       "      <th>month</th>\n",
       "      <th>day</th>\n",
       "    </tr>\n",
       "  </thead>\n",
       "  <tbody>\n",
       "    <tr>\n",
       "      <td>0</td>\n",
       "      <td>2004</td>\n",
       "      <td>10</td>\n",
       "      <td>16</td>\n",
       "    </tr>\n",
       "    <tr>\n",
       "      <td>1</td>\n",
       "      <td>2017</td>\n",
       "      <td>12</td>\n",
       "      <td>4</td>\n",
       "    </tr>\n",
       "    <tr>\n",
       "      <td>2</td>\n",
       "      <td>1989</td>\n",
       "      <td>1</td>\n",
       "      <td>29</td>\n",
       "    </tr>\n",
       "    <tr>\n",
       "      <td>3</td>\n",
       "      <td>1998</td>\n",
       "      <td>5</td>\n",
       "      <td>4</td>\n",
       "    </tr>\n",
       "    <tr>\n",
       "      <td>4</td>\n",
       "      <td>2014</td>\n",
       "      <td>2</td>\n",
       "      <td>18</td>\n",
       "    </tr>\n",
       "    <tr>\n",
       "      <td>...</td>\n",
       "      <td>...</td>\n",
       "      <td>...</td>\n",
       "      <td>...</td>\n",
       "    </tr>\n",
       "    <tr>\n",
       "      <td>26455</td>\n",
       "      <td>1992</td>\n",
       "      <td>5</td>\n",
       "      <td>1</td>\n",
       "    </tr>\n",
       "    <tr>\n",
       "      <td>26456</td>\n",
       "      <td>1995</td>\n",
       "      <td>5</td>\n",
       "      <td>17</td>\n",
       "    </tr>\n",
       "    <tr>\n",
       "      <td>26457</td>\n",
       "      <td>1994</td>\n",
       "      <td>10</td>\n",
       "      <td>26</td>\n",
       "    </tr>\n",
       "    <tr>\n",
       "      <td>26458</td>\n",
       "      <td>1981</td>\n",
       "      <td>10</td>\n",
       "      <td>10</td>\n",
       "    </tr>\n",
       "    <tr>\n",
       "      <td>26459</td>\n",
       "      <td>1998</td>\n",
       "      <td>7</td>\n",
       "      <td>25</td>\n",
       "    </tr>\n",
       "  </tbody>\n",
       "</table>\n",
       "<p>26354 rows × 3 columns</p>\n",
       "</div>"
      ],
      "text/plain": [
       "       year month day\n",
       "0      2004    10  16\n",
       "1      2017    12   4\n",
       "2      1989     1  29\n",
       "3      1998     5   4\n",
       "4      2014     2  18\n",
       "...     ...   ...  ..\n",
       "26455  1992     5   1\n",
       "26456  1995     5  17\n",
       "26457  1994    10  26\n",
       "26458  1981    10  10\n",
       "26459  1998     7  25\n",
       "\n",
       "[26354 rows x 3 columns]"
      ]
     },
     "execution_count": 88,
     "metadata": {},
     "output_type": "execute_result"
    }
   ],
   "source": [
    "df_date_only = df[[\"year\", \"month\", \"day\"]].copy()\n",
    "\n",
    "df_date_only.astype(\"Int64\").astype(\"str\")"
   ]
  },
  {
   "cell_type": "code",
   "execution_count": 89,
   "metadata": {},
   "outputs": [],
   "source": [
    "df[\"date\"] = df_date_only.astype(\"Int64\").astype(\"str\").apply(lambda row: \"-\".join(row), axis=1)"
   ]
  },
  {
   "cell_type": "code",
   "execution_count": 90,
   "metadata": {},
   "outputs": [
    {
     "data": {
      "text/html": [
       "<div>\n",
       "<style scoped>\n",
       "    .dataframe tbody tr th:only-of-type {\n",
       "        vertical-align: middle;\n",
       "    }\n",
       "\n",
       "    .dataframe tbody tr th {\n",
       "        vertical-align: top;\n",
       "    }\n",
       "\n",
       "    .dataframe thead th {\n",
       "        text-align: right;\n",
       "    }\n",
       "</style>\n",
       "<table border=\"1\" class=\"dataframe\">\n",
       "  <thead>\n",
       "    <tr style=\"text-align: right;\">\n",
       "      <th></th>\n",
       "      <th>year</th>\n",
       "      <th>month</th>\n",
       "      <th>day</th>\n",
       "      <th>extent</th>\n",
       "      <th>missing</th>\n",
       "      <th>source_data</th>\n",
       "      <th>hemisphere</th>\n",
       "      <th>date</th>\n",
       "    </tr>\n",
       "  </thead>\n",
       "  <tbody>\n",
       "    <tr>\n",
       "      <td>0</td>\n",
       "      <td>2004.0</td>\n",
       "      <td>10.0</td>\n",
       "      <td>16.0</td>\n",
       "      <td>7.982</td>\n",
       "      <td>0.0</td>\n",
       "      <td>['ftp://sidads.colorado.edu/pub/DATASETS/nsid...</td>\n",
       "      <td>north</td>\n",
       "      <td>2004-10-16</td>\n",
       "    </tr>\n",
       "    <tr>\n",
       "      <td>1</td>\n",
       "      <td>2017.0</td>\n",
       "      <td>12.0</td>\n",
       "      <td>4.0</td>\n",
       "      <td>12.139</td>\n",
       "      <td>0.0</td>\n",
       "      <td>['ftp://sidads.colorado.edu/pub/DATASETS/nsid...</td>\n",
       "      <td>south</td>\n",
       "      <td>2017-12-4</td>\n",
       "    </tr>\n",
       "    <tr>\n",
       "      <td>2</td>\n",
       "      <td>1989.0</td>\n",
       "      <td>1.0</td>\n",
       "      <td>29.0</td>\n",
       "      <td>15.364</td>\n",
       "      <td>0.0</td>\n",
       "      <td>['ftp://sidads.colorado.edu/pub/DATASETS/nsid...</td>\n",
       "      <td>north</td>\n",
       "      <td>1989-1-29</td>\n",
       "    </tr>\n",
       "    <tr>\n",
       "      <td>3</td>\n",
       "      <td>1998.0</td>\n",
       "      <td>5.0</td>\n",
       "      <td>4.0</td>\n",
       "      <td>9.077</td>\n",
       "      <td>0.0</td>\n",
       "      <td>['ftp://sidads.colorado.edu/pub/DATASETS/nsid...</td>\n",
       "      <td>south</td>\n",
       "      <td>1998-5-4</td>\n",
       "    </tr>\n",
       "    <tr>\n",
       "      <td>4</td>\n",
       "      <td>2014.0</td>\n",
       "      <td>2.0</td>\n",
       "      <td>18.0</td>\n",
       "      <td>14.381</td>\n",
       "      <td>0.0</td>\n",
       "      <td>['ftp://sidads.colorado.edu/pub/DATASETS/nsid...</td>\n",
       "      <td>north</td>\n",
       "      <td>2014-2-18</td>\n",
       "    </tr>\n",
       "  </tbody>\n",
       "</table>\n",
       "</div>"
      ],
      "text/plain": [
       "     year  month   day  extent  missing  \\\n",
       "0  2004.0   10.0  16.0   7.982      0.0   \n",
       "1  2017.0   12.0   4.0  12.139      0.0   \n",
       "2  1989.0    1.0  29.0  15.364      0.0   \n",
       "3  1998.0    5.0   4.0   9.077      0.0   \n",
       "4  2014.0    2.0  18.0  14.381      0.0   \n",
       "\n",
       "                                         source_data hemisphere        date  \n",
       "0   ['ftp://sidads.colorado.edu/pub/DATASETS/nsid...      north  2004-10-16  \n",
       "1   ['ftp://sidads.colorado.edu/pub/DATASETS/nsid...      south   2017-12-4  \n",
       "2   ['ftp://sidads.colorado.edu/pub/DATASETS/nsid...      north   1989-1-29  \n",
       "3   ['ftp://sidads.colorado.edu/pub/DATASETS/nsid...      south    1998-5-4  \n",
       "4   ['ftp://sidads.colorado.edu/pub/DATASETS/nsid...      north   2014-2-18  "
      ]
     },
     "execution_count": 90,
     "metadata": {},
     "output_type": "execute_result"
    }
   ],
   "source": [
    "df.head()"
   ]
  },
  {
   "cell_type": "code",
   "execution_count": 91,
   "metadata": {},
   "outputs": [
    {
     "ename": "NameError",
     "evalue": "name 'df_date' is not defined",
     "output_type": "error",
     "traceback": [
      "\u001b[1;31m---------------------------------------------------------------------------\u001b[0m",
      "\u001b[1;31mNameError\u001b[0m                                 Traceback (most recent call last)",
      "\u001b[1;32m<ipython-input-91-9502c238de2e>\u001b[0m in \u001b[0;36m<module>\u001b[1;34m\u001b[0m\n\u001b[0;32m      8\u001b[0m \u001b[1;31m#df_date_non_null.date = pd.to_datetime(df_date_non_null.date).normalize()\u001b[0m\u001b[1;33m\u001b[0m\u001b[1;33m\u001b[0m\u001b[1;33m\u001b[0m\u001b[0m\n\u001b[0;32m      9\u001b[0m \u001b[1;31m#\u001b[0m\u001b[1;33m\u001b[0m\u001b[1;33m\u001b[0m\u001b[1;33m\u001b[0m\u001b[0m\n\u001b[1;32m---> 10\u001b[1;33m \u001b[0mdf_date_non_null\u001b[0m\u001b[1;33m.\u001b[0m\u001b[0mdate\u001b[0m \u001b[1;33m=\u001b[0m \u001b[0mpd\u001b[0m\u001b[1;33m.\u001b[0m\u001b[0mto_datetime\u001b[0m\u001b[1;33m(\u001b[0m\u001b[0mdf_date\u001b[0m\u001b[1;33m.\u001b[0m\u001b[0mdate\u001b[0m\u001b[1;33m)\u001b[0m\u001b[1;33m.\u001b[0m\u001b[0mdt\u001b[0m\u001b[1;33m.\u001b[0m\u001b[0mdate\u001b[0m\u001b[1;33m\u001b[0m\u001b[1;33m\u001b[0m\u001b[0m\n\u001b[0m",
      "\u001b[1;31mNameError\u001b[0m: name 'df_date' is not defined"
     ]
    }
   ],
   "source": [
    "## convertendo str para datetime por que vai nos dificultar futuramente\n",
    "#SALVEI METODOS Q USEI ANTES ABAIXO\n",
    "#link da solução: https://stackoverflow.com/questions/45858155/removing-the-timestamp-from-a-datetime-in-pandas-dataframe\n",
    "#df_date_non_null = df[~df[\"date\"].isna()]\n",
    "#from datetime import datetime\n",
    "\n",
    "#df_date_non_null.date = [datetime.strptime(x, \"%Y-%m-%d\") for x in df_date_non_null.date] \n",
    "#df_date_non_null.date = pd.to_datetime(df_date_non_null.date).normalize()\n",
    "#\n",
    "df_date_non_null.date = pd.to_datetime(df_date.date).dt.date"
   ]
  },
  {
   "cell_type": "code",
   "execution_count": 92,
   "metadata": {},
   "outputs": [
    {
     "data": {
      "text/html": [
       "<div>\n",
       "<style scoped>\n",
       "    .dataframe tbody tr th:only-of-type {\n",
       "        vertical-align: middle;\n",
       "    }\n",
       "\n",
       "    .dataframe tbody tr th {\n",
       "        vertical-align: top;\n",
       "    }\n",
       "\n",
       "    .dataframe thead th {\n",
       "        text-align: right;\n",
       "    }\n",
       "</style>\n",
       "<table border=\"1\" class=\"dataframe\">\n",
       "  <thead>\n",
       "    <tr style=\"text-align: right;\">\n",
       "      <th></th>\n",
       "      <th>year</th>\n",
       "      <th>month</th>\n",
       "      <th>day</th>\n",
       "      <th>extent</th>\n",
       "      <th>missing</th>\n",
       "      <th>source_data</th>\n",
       "      <th>hemisphere</th>\n",
       "      <th>date</th>\n",
       "    </tr>\n",
       "  </thead>\n",
       "  <tbody>\n",
       "    <tr>\n",
       "      <td>0</td>\n",
       "      <td>2004.0</td>\n",
       "      <td>10.0</td>\n",
       "      <td>16.0</td>\n",
       "      <td>7.982</td>\n",
       "      <td>0.0</td>\n",
       "      <td>['ftp://sidads.colorado.edu/pub/DATASETS/nsid...</td>\n",
       "      <td>north</td>\n",
       "      <td>2004-10-16</td>\n",
       "    </tr>\n",
       "    <tr>\n",
       "      <td>1</td>\n",
       "      <td>2017.0</td>\n",
       "      <td>12.0</td>\n",
       "      <td>4.0</td>\n",
       "      <td>12.139</td>\n",
       "      <td>0.0</td>\n",
       "      <td>['ftp://sidads.colorado.edu/pub/DATASETS/nsid...</td>\n",
       "      <td>south</td>\n",
       "      <td>2017-12-4</td>\n",
       "    </tr>\n",
       "    <tr>\n",
       "      <td>2</td>\n",
       "      <td>1989.0</td>\n",
       "      <td>1.0</td>\n",
       "      <td>29.0</td>\n",
       "      <td>15.364</td>\n",
       "      <td>0.0</td>\n",
       "      <td>['ftp://sidads.colorado.edu/pub/DATASETS/nsid...</td>\n",
       "      <td>north</td>\n",
       "      <td>1989-1-29</td>\n",
       "    </tr>\n",
       "    <tr>\n",
       "      <td>3</td>\n",
       "      <td>1998.0</td>\n",
       "      <td>5.0</td>\n",
       "      <td>4.0</td>\n",
       "      <td>9.077</td>\n",
       "      <td>0.0</td>\n",
       "      <td>['ftp://sidads.colorado.edu/pub/DATASETS/nsid...</td>\n",
       "      <td>south</td>\n",
       "      <td>1998-5-4</td>\n",
       "    </tr>\n",
       "    <tr>\n",
       "      <td>4</td>\n",
       "      <td>2014.0</td>\n",
       "      <td>2.0</td>\n",
       "      <td>18.0</td>\n",
       "      <td>14.381</td>\n",
       "      <td>0.0</td>\n",
       "      <td>['ftp://sidads.colorado.edu/pub/DATASETS/nsid...</td>\n",
       "      <td>north</td>\n",
       "      <td>2014-2-18</td>\n",
       "    </tr>\n",
       "  </tbody>\n",
       "</table>\n",
       "</div>"
      ],
      "text/plain": [
       "     year  month   day  extent  missing  \\\n",
       "0  2004.0   10.0  16.0   7.982      0.0   \n",
       "1  2017.0   12.0   4.0  12.139      0.0   \n",
       "2  1989.0    1.0  29.0  15.364      0.0   \n",
       "3  1998.0    5.0   4.0   9.077      0.0   \n",
       "4  2014.0    2.0  18.0  14.381      0.0   \n",
       "\n",
       "                                         source_data hemisphere        date  \n",
       "0   ['ftp://sidads.colorado.edu/pub/DATASETS/nsid...      north  2004-10-16  \n",
       "1   ['ftp://sidads.colorado.edu/pub/DATASETS/nsid...      south   2017-12-4  \n",
       "2   ['ftp://sidads.colorado.edu/pub/DATASETS/nsid...      north   1989-1-29  \n",
       "3   ['ftp://sidads.colorado.edu/pub/DATASETS/nsid...      south    1998-5-4  \n",
       "4   ['ftp://sidads.colorado.edu/pub/DATASETS/nsid...      north   2014-2-18  "
      ]
     },
     "execution_count": 92,
     "metadata": {},
     "output_type": "execute_result"
    }
   ],
   "source": [
    "df.head()"
   ]
  },
  {
   "cell_type": "code",
   "execution_count": 93,
   "metadata": {},
   "outputs": [
    {
     "ename": "SyntaxError",
     "evalue": "invalid syntax (<ipython-input-93-5dbda29a87c7>, line 1)",
     "output_type": "error",
     "traceback": [
      "\u001b[1;36m  File \u001b[1;32m\"<ipython-input-93-5dbda29a87c7>\"\u001b[1;36m, line \u001b[1;32m1\u001b[0m\n\u001b[1;33m    df[\"year\"].\u001b[0m\n\u001b[1;37m               ^\u001b[0m\n\u001b[1;31mSyntaxError\u001b[0m\u001b[1;31m:\u001b[0m invalid syntax\n"
     ]
    }
   ],
   "source": [
    "df[\"year\"]."
   ]
  },
  {
   "cell_type": "code",
   "execution_count": 94,
   "metadata": {},
   "outputs": [],
   "source": [
    "df[\"year\"] = df[\"year\"].astype(\"Int64\")\n",
    "df[\"month\"] = df[\"month\"].astype(\"Int64\")\n",
    "df[\"day\"] = df[\"day\"].astype(\"Int64\")"
   ]
  },
  {
   "cell_type": "code",
   "execution_count": 71,
   "metadata": {},
   "outputs": [],
   "source": [
    "#df[\"year\"] = pd.to_datetime(df[\"year\"], format=\"%Y\")\n",
    "#df[\"month\"] = pd.to_datetime(df[\"month\"], format=\"%m\")\n",
    "#df[\"day\"] = pd.to_datetime(df[\"day\"], format=\"%d\")"
   ]
  },
  {
   "cell_type": "code",
   "execution_count": 97,
   "metadata": {},
   "outputs": [
    {
     "data": {
      "text/html": [
       "<div>\n",
       "<style scoped>\n",
       "    .dataframe tbody tr th:only-of-type {\n",
       "        vertical-align: middle;\n",
       "    }\n",
       "\n",
       "    .dataframe tbody tr th {\n",
       "        vertical-align: top;\n",
       "    }\n",
       "\n",
       "    .dataframe thead th {\n",
       "        text-align: right;\n",
       "    }\n",
       "</style>\n",
       "<table border=\"1\" class=\"dataframe\">\n",
       "  <thead>\n",
       "    <tr style=\"text-align: right;\">\n",
       "      <th></th>\n",
       "      <th>year</th>\n",
       "      <th>month</th>\n",
       "      <th>day</th>\n",
       "      <th>extent</th>\n",
       "      <th>missing</th>\n",
       "      <th>source_data</th>\n",
       "      <th>hemisphere</th>\n",
       "      <th>date</th>\n",
       "    </tr>\n",
       "  </thead>\n",
       "  <tbody>\n",
       "    <tr>\n",
       "      <td>0</td>\n",
       "      <td>2004</td>\n",
       "      <td>10</td>\n",
       "      <td>16</td>\n",
       "      <td>7.982</td>\n",
       "      <td>0.0</td>\n",
       "      <td>['ftp://sidads.colorado.edu/pub/DATASETS/nsid...</td>\n",
       "      <td>north</td>\n",
       "      <td>2004-10-16</td>\n",
       "    </tr>\n",
       "    <tr>\n",
       "      <td>1</td>\n",
       "      <td>2017</td>\n",
       "      <td>12</td>\n",
       "      <td>4</td>\n",
       "      <td>12.139</td>\n",
       "      <td>0.0</td>\n",
       "      <td>['ftp://sidads.colorado.edu/pub/DATASETS/nsid...</td>\n",
       "      <td>south</td>\n",
       "      <td>2017-12-4</td>\n",
       "    </tr>\n",
       "    <tr>\n",
       "      <td>2</td>\n",
       "      <td>1989</td>\n",
       "      <td>1</td>\n",
       "      <td>29</td>\n",
       "      <td>15.364</td>\n",
       "      <td>0.0</td>\n",
       "      <td>['ftp://sidads.colorado.edu/pub/DATASETS/nsid...</td>\n",
       "      <td>north</td>\n",
       "      <td>1989-1-29</td>\n",
       "    </tr>\n",
       "    <tr>\n",
       "      <td>3</td>\n",
       "      <td>1998</td>\n",
       "      <td>5</td>\n",
       "      <td>4</td>\n",
       "      <td>9.077</td>\n",
       "      <td>0.0</td>\n",
       "      <td>['ftp://sidads.colorado.edu/pub/DATASETS/nsid...</td>\n",
       "      <td>south</td>\n",
       "      <td>1998-5-4</td>\n",
       "    </tr>\n",
       "    <tr>\n",
       "      <td>4</td>\n",
       "      <td>2014</td>\n",
       "      <td>2</td>\n",
       "      <td>18</td>\n",
       "      <td>14.381</td>\n",
       "      <td>0.0</td>\n",
       "      <td>['ftp://sidads.colorado.edu/pub/DATASETS/nsid...</td>\n",
       "      <td>north</td>\n",
       "      <td>2014-2-18</td>\n",
       "    </tr>\n",
       "  </tbody>\n",
       "</table>\n",
       "</div>"
      ],
      "text/plain": [
       "   year  month  day  extent  missing  \\\n",
       "0  2004     10   16   7.982      0.0   \n",
       "1  2017     12    4  12.139      0.0   \n",
       "2  1989      1   29  15.364      0.0   \n",
       "3  1998      5    4   9.077      0.0   \n",
       "4  2014      2   18  14.381      0.0   \n",
       "\n",
       "                                         source_data hemisphere        date  \n",
       "0   ['ftp://sidads.colorado.edu/pub/DATASETS/nsid...      north  2004-10-16  \n",
       "1   ['ftp://sidads.colorado.edu/pub/DATASETS/nsid...      south   2017-12-4  \n",
       "2   ['ftp://sidads.colorado.edu/pub/DATASETS/nsid...      north   1989-1-29  \n",
       "3   ['ftp://sidads.colorado.edu/pub/DATASETS/nsid...      south    1998-5-4  \n",
       "4   ['ftp://sidads.colorado.edu/pub/DATASETS/nsid...      north   2014-2-18  "
      ]
     },
     "execution_count": 97,
     "metadata": {},
     "output_type": "execute_result"
    }
   ],
   "source": [
    "df.head()"
   ]
  },
  {
   "cell_type": "code",
   "execution_count": 102,
   "metadata": {},
   "outputs": [],
   "source": [
    "df[\"date\"] = df.apply(lambda row: pd.to_datetime(\"{}.{}.{}\".format(row[\"year\"], row[\"month\"], row[\"day\"]), format=\"%Y.%m.%d\"), axis=1)"
   ]
  },
  {
   "cell_type": "code",
   "execution_count": 103,
   "metadata": {},
   "outputs": [
    {
     "data": {
      "text/html": [
       "<div>\n",
       "<style scoped>\n",
       "    .dataframe tbody tr th:only-of-type {\n",
       "        vertical-align: middle;\n",
       "    }\n",
       "\n",
       "    .dataframe tbody tr th {\n",
       "        vertical-align: top;\n",
       "    }\n",
       "\n",
       "    .dataframe thead th {\n",
       "        text-align: right;\n",
       "    }\n",
       "</style>\n",
       "<table border=\"1\" class=\"dataframe\">\n",
       "  <thead>\n",
       "    <tr style=\"text-align: right;\">\n",
       "      <th></th>\n",
       "      <th>year</th>\n",
       "      <th>month</th>\n",
       "      <th>day</th>\n",
       "      <th>extent</th>\n",
       "      <th>missing</th>\n",
       "      <th>source_data</th>\n",
       "      <th>hemisphere</th>\n",
       "      <th>date</th>\n",
       "    </tr>\n",
       "  </thead>\n",
       "  <tbody>\n",
       "    <tr>\n",
       "      <td>0</td>\n",
       "      <td>2004</td>\n",
       "      <td>10</td>\n",
       "      <td>16</td>\n",
       "      <td>7.982</td>\n",
       "      <td>0.0</td>\n",
       "      <td>['ftp://sidads.colorado.edu/pub/DATASETS/nsid...</td>\n",
       "      <td>north</td>\n",
       "      <td>2004-10-16</td>\n",
       "    </tr>\n",
       "    <tr>\n",
       "      <td>1</td>\n",
       "      <td>2017</td>\n",
       "      <td>12</td>\n",
       "      <td>4</td>\n",
       "      <td>12.139</td>\n",
       "      <td>0.0</td>\n",
       "      <td>['ftp://sidads.colorado.edu/pub/DATASETS/nsid...</td>\n",
       "      <td>south</td>\n",
       "      <td>2017-12-04</td>\n",
       "    </tr>\n",
       "    <tr>\n",
       "      <td>2</td>\n",
       "      <td>1989</td>\n",
       "      <td>1</td>\n",
       "      <td>29</td>\n",
       "      <td>15.364</td>\n",
       "      <td>0.0</td>\n",
       "      <td>['ftp://sidads.colorado.edu/pub/DATASETS/nsid...</td>\n",
       "      <td>north</td>\n",
       "      <td>1989-01-29</td>\n",
       "    </tr>\n",
       "    <tr>\n",
       "      <td>3</td>\n",
       "      <td>1998</td>\n",
       "      <td>5</td>\n",
       "      <td>4</td>\n",
       "      <td>9.077</td>\n",
       "      <td>0.0</td>\n",
       "      <td>['ftp://sidads.colorado.edu/pub/DATASETS/nsid...</td>\n",
       "      <td>south</td>\n",
       "      <td>1998-05-04</td>\n",
       "    </tr>\n",
       "    <tr>\n",
       "      <td>4</td>\n",
       "      <td>2014</td>\n",
       "      <td>2</td>\n",
       "      <td>18</td>\n",
       "      <td>14.381</td>\n",
       "      <td>0.0</td>\n",
       "      <td>['ftp://sidads.colorado.edu/pub/DATASETS/nsid...</td>\n",
       "      <td>north</td>\n",
       "      <td>2014-02-18</td>\n",
       "    </tr>\n",
       "  </tbody>\n",
       "</table>\n",
       "</div>"
      ],
      "text/plain": [
       "   year  month  day  extent  missing  \\\n",
       "0  2004     10   16   7.982      0.0   \n",
       "1  2017     12    4  12.139      0.0   \n",
       "2  1989      1   29  15.364      0.0   \n",
       "3  1998      5    4   9.077      0.0   \n",
       "4  2014      2   18  14.381      0.0   \n",
       "\n",
       "                                         source_data hemisphere       date  \n",
       "0   ['ftp://sidads.colorado.edu/pub/DATASETS/nsid...      north 2004-10-16  \n",
       "1   ['ftp://sidads.colorado.edu/pub/DATASETS/nsid...      south 2017-12-04  \n",
       "2   ['ftp://sidads.colorado.edu/pub/DATASETS/nsid...      north 1989-01-29  \n",
       "3   ['ftp://sidads.colorado.edu/pub/DATASETS/nsid...      south 1998-05-04  \n",
       "4   ['ftp://sidads.colorado.edu/pub/DATASETS/nsid...      north 2014-02-18  "
      ]
     },
     "execution_count": 103,
     "metadata": {},
     "output_type": "execute_result"
    }
   ],
   "source": [
    "df.head()"
   ]
  },
  {
   "cell_type": "code",
   "execution_count": 132,
   "metadata": {},
   "outputs": [
    {
     "data": {
      "text/plain": [
       "0         O dia é Saturday\n",
       "1           O dia é Monday\n",
       "2           O dia é Sunday\n",
       "3           O dia é Monday\n",
       "4          O dia é Tuesday\n",
       "               ...        \n",
       "26455       O dia é Friday\n",
       "26456    O dia é Wednesday\n",
       "26457    O dia é Wednesday\n",
       "26458     O dia é Saturday\n",
       "26459     O dia é Saturday\n",
       "Name: date, Length: 26354, dtype: object"
      ]
     },
     "execution_count": 132,
     "metadata": {},
     "output_type": "execute_result"
    }
   ],
   "source": [
    "df[\"date\"].dt.strftime(\"O dia é %A\")"
   ]
  },
  {
   "cell_type": "code",
   "execution_count": 133,
   "metadata": {},
   "outputs": [],
   "source": [
    "df[\"week_of_year\"] = df[\"date\"].dt.strftime(\"%U\")"
   ]
  },
  {
   "cell_type": "code",
   "execution_count": 134,
   "metadata": {},
   "outputs": [
    {
     "data": {
      "text/html": [
       "<div>\n",
       "<style scoped>\n",
       "    .dataframe tbody tr th:only-of-type {\n",
       "        vertical-align: middle;\n",
       "    }\n",
       "\n",
       "    .dataframe tbody tr th {\n",
       "        vertical-align: top;\n",
       "    }\n",
       "\n",
       "    .dataframe thead th {\n",
       "        text-align: right;\n",
       "    }\n",
       "</style>\n",
       "<table border=\"1\" class=\"dataframe\">\n",
       "  <thead>\n",
       "    <tr style=\"text-align: right;\">\n",
       "      <th></th>\n",
       "      <th>year</th>\n",
       "      <th>month</th>\n",
       "      <th>day</th>\n",
       "      <th>extent</th>\n",
       "      <th>missing</th>\n",
       "      <th>source_data</th>\n",
       "      <th>hemisphere</th>\n",
       "      <th>date</th>\n",
       "      <th>week_of_year</th>\n",
       "    </tr>\n",
       "  </thead>\n",
       "  <tbody>\n",
       "    <tr>\n",
       "      <td>0</td>\n",
       "      <td>2004</td>\n",
       "      <td>10</td>\n",
       "      <td>16</td>\n",
       "      <td>7.982</td>\n",
       "      <td>0.0</td>\n",
       "      <td>['ftp://sidads.colorado.edu/pub/DATASETS/nsid...</td>\n",
       "      <td>north</td>\n",
       "      <td>2004-10-16</td>\n",
       "      <td>41</td>\n",
       "    </tr>\n",
       "    <tr>\n",
       "      <td>1</td>\n",
       "      <td>2017</td>\n",
       "      <td>12</td>\n",
       "      <td>4</td>\n",
       "      <td>12.139</td>\n",
       "      <td>0.0</td>\n",
       "      <td>['ftp://sidads.colorado.edu/pub/DATASETS/nsid...</td>\n",
       "      <td>south</td>\n",
       "      <td>2017-12-04</td>\n",
       "      <td>49</td>\n",
       "    </tr>\n",
       "    <tr>\n",
       "      <td>2</td>\n",
       "      <td>1989</td>\n",
       "      <td>1</td>\n",
       "      <td>29</td>\n",
       "      <td>15.364</td>\n",
       "      <td>0.0</td>\n",
       "      <td>['ftp://sidads.colorado.edu/pub/DATASETS/nsid...</td>\n",
       "      <td>north</td>\n",
       "      <td>1989-01-29</td>\n",
       "      <td>05</td>\n",
       "    </tr>\n",
       "    <tr>\n",
       "      <td>3</td>\n",
       "      <td>1998</td>\n",
       "      <td>5</td>\n",
       "      <td>4</td>\n",
       "      <td>9.077</td>\n",
       "      <td>0.0</td>\n",
       "      <td>['ftp://sidads.colorado.edu/pub/DATASETS/nsid...</td>\n",
       "      <td>south</td>\n",
       "      <td>1998-05-04</td>\n",
       "      <td>18</td>\n",
       "    </tr>\n",
       "    <tr>\n",
       "      <td>4</td>\n",
       "      <td>2014</td>\n",
       "      <td>2</td>\n",
       "      <td>18</td>\n",
       "      <td>14.381</td>\n",
       "      <td>0.0</td>\n",
       "      <td>['ftp://sidads.colorado.edu/pub/DATASETS/nsid...</td>\n",
       "      <td>north</td>\n",
       "      <td>2014-02-18</td>\n",
       "      <td>07</td>\n",
       "    </tr>\n",
       "  </tbody>\n",
       "</table>\n",
       "</div>"
      ],
      "text/plain": [
       "   year  month  day  extent  missing  \\\n",
       "0  2004     10   16   7.982      0.0   \n",
       "1  2017     12    4  12.139      0.0   \n",
       "2  1989      1   29  15.364      0.0   \n",
       "3  1998      5    4   9.077      0.0   \n",
       "4  2014      2   18  14.381      0.0   \n",
       "\n",
       "                                         source_data hemisphere       date  \\\n",
       "0   ['ftp://sidads.colorado.edu/pub/DATASETS/nsid...      north 2004-10-16   \n",
       "1   ['ftp://sidads.colorado.edu/pub/DATASETS/nsid...      south 2017-12-04   \n",
       "2   ['ftp://sidads.colorado.edu/pub/DATASETS/nsid...      north 1989-01-29   \n",
       "3   ['ftp://sidads.colorado.edu/pub/DATASETS/nsid...      south 1998-05-04   \n",
       "4   ['ftp://sidads.colorado.edu/pub/DATASETS/nsid...      north 2014-02-18   \n",
       "\n",
       "  week_of_year  \n",
       "0           41  \n",
       "1           49  \n",
       "2           05  \n",
       "3           18  \n",
       "4           07  "
      ]
     },
     "execution_count": 134,
     "metadata": {},
     "output_type": "execute_result"
    }
   ],
   "source": [
    "df.head()"
   ]
  },
  {
   "cell_type": "code",
   "execution_count": 135,
   "metadata": {},
   "outputs": [
    {
     "data": {
      "text/plain": [
       "year  week_of_year\n",
       "1978  43               56.078\n",
       "      44               84.687\n",
       "      45              112.894\n",
       "      46               82.762\n",
       "      47              108.062\n",
       "                       ...   \n",
       "2019  17              140.139\n",
       "      18              142.605\n",
       "      19              146.348\n",
       "      20              150.619\n",
       "      21              131.142\n",
       "Name: extent, Length: 2148, dtype: float64"
      ]
     },
     "execution_count": 135,
     "metadata": {},
     "output_type": "execute_result"
    }
   ],
   "source": [
    "df.groupby([\"year\", \"week_of_year\"]).extent.sum()"
   ]
  },
  {
   "cell_type": "code",
   "execution_count": 104,
   "metadata": {},
   "outputs": [
    {
     "name": "stdout",
     "output_type": "stream",
     "text": [
      "<class 'pandas.core.frame.DataFrame'>\n",
      "Int64Index: 26354 entries, 0 to 26459\n",
      "Data columns (total 8 columns):\n",
      "year           26354 non-null Int64\n",
      "month          26354 non-null Int64\n",
      "day            26354 non-null Int64\n",
      "extent         26354 non-null float64\n",
      "missing        26354 non-null float64\n",
      "source_data    26354 non-null object\n",
      "hemisphere     26354 non-null object\n",
      "date           26354 non-null datetime64[ns]\n",
      "dtypes: Int64(3), datetime64[ns](1), float64(2), object(2)\n",
      "memory usage: 1.9+ MB\n"
     ]
    }
   ],
   "source": [
    "strftimedf.info()strftime"
   ]
  },
  {
   "cell_type": "code",
   "execution_count": 62,
   "metadata": {},
   "outputs": [
    {
     "data": {
      "text/plain": [
       "0        2004-10-16\n",
       "1        2017-12-04\n",
       "2        1989-01-29\n",
       "3        1998-05-04\n",
       "4        2014-02-18\n",
       "            ...    \n",
       "26455    1992-05-01\n",
       "26456    1995-05-17\n",
       "26457    1994-10-26\n",
       "26458    1981-10-10\n",
       "26459    1998-07-25\n",
       "Name: date, Length: 26354, dtype: object"
      ]
     },
     "execution_count": 62,
     "metadata": {},
     "output_type": "execute_result"
    }
   ],
   "source": [
    "df[\"date\"].dt.date"
   ]
  },
  {
   "cell_type": "code",
   "execution_count": 137,
   "metadata": {},
   "outputs": [
    {
     "data": {
      "text/plain": [
       "(Timestamp('1978-10-26 00:00:00'), Timestamp('2019-05-31 00:00:00'))"
      ]
     },
     "execution_count": 137,
     "metadata": {},
     "output_type": "execute_result"
    }
   ],
   "source": [
    "df.date.min(), df.date.max()"
   ]
  },
  {
   "cell_type": "code",
   "execution_count": 139,
   "metadata": {},
   "outputs": [
    {
     "data": {
      "text/plain": [
       "DatetimeIndex(['1978-10-26', '1978-10-27', '1978-10-28', '1978-10-29',\n",
       "               '1978-10-30', '1978-10-31', '1978-11-01', '1978-11-02',\n",
       "               '1978-11-03', '1978-11-04',\n",
       "               ...\n",
       "               '2019-05-22', '2019-05-23', '2019-05-24', '2019-05-25',\n",
       "               '2019-05-26', '2019-05-27', '2019-05-28', '2019-05-29',\n",
       "               '2019-05-30', '2019-05-31'],\n",
       "              dtype='datetime64[ns]', length=14828, freq='D')"
      ]
     },
     "execution_count": 139,
     "metadata": {},
     "output_type": "execute_result"
    }
   ],
   "source": [
    "pd.date_range(start=\"1978-10-26\", end=\"2019-05-31\")"
   ]
  },
  {
   "cell_type": "code",
   "execution_count": 143,
   "metadata": {},
   "outputs": [
    {
     "name": "stdout",
     "output_type": "stream",
     "text": [
      "<class 'pandas.core.frame.DataFrame'>\n",
      "Int64Index: 26354 entries, 0 to 26459\n",
      "Data columns (total 9 columns):\n",
      "year            26354 non-null Int64\n",
      "month           26354 non-null Int64\n",
      "day             26354 non-null Int64\n",
      "extent          26354 non-null float64\n",
      "missing         26354 non-null float64\n",
      "source_data     26354 non-null object\n",
      "hemisphere      26354 non-null object\n",
      "date            26354 non-null datetime64[ns]\n",
      "week_of_year    26354 non-null object\n",
      "dtypes: Int64(3), datetime64[ns](1), float64(2), object(3)\n",
      "memory usage: 2.1+ MB\n"
     ]
    }
   ],
   "source": [
    "df.info()"
   ]
  },
  {
   "cell_type": "code",
   "execution_count": 155,
   "metadata": {},
   "outputs": [
    {
     "data": {
      "text/plain": [
       "Timestamp('2004-10-16 00:00:00')"
      ]
     },
     "execution_count": 155,
     "metadata": {},
     "output_type": "execute_result"
    }
   ],
   "source": [
    "df.date[0]"
   ]
  },
  {
   "cell_type": "code",
   "execution_count": 158,
   "metadata": {},
   "outputs": [
    {
     "data": {
      "text/plain": [
       "Timestamp('2019-05-31 00:00:00')"
      ]
     },
     "execution_count": 158,
     "metadata": {},
     "output_type": "execute_result"
    }
   ],
   "source": [
    "pd.Timestamp(\"2019-05-31\")"
   ]
  },
  {
   "cell_type": "code",
   "execution_count": 152,
   "metadata": {},
   "outputs": [
    {
     "data": {
      "text/html": [
       "<div>\n",
       "<style scoped>\n",
       "    .dataframe tbody tr th:only-of-type {\n",
       "        vertical-align: middle;\n",
       "    }\n",
       "\n",
       "    .dataframe tbody tr th {\n",
       "        vertical-align: top;\n",
       "    }\n",
       "\n",
       "    .dataframe thead th {\n",
       "        text-align: right;\n",
       "    }\n",
       "</style>\n",
       "<table border=\"1\" class=\"dataframe\">\n",
       "  <thead>\n",
       "    <tr style=\"text-align: right;\">\n",
       "      <th></th>\n",
       "      <th>year</th>\n",
       "      <th>month</th>\n",
       "      <th>day</th>\n",
       "      <th>extent</th>\n",
       "      <th>missing</th>\n",
       "      <th>source_data</th>\n",
       "      <th>hemisphere</th>\n",
       "      <th>date</th>\n",
       "      <th>week_of_year</th>\n",
       "    </tr>\n",
       "  </thead>\n",
       "  <tbody>\n",
       "    <tr>\n",
       "      <td>5115</td>\n",
       "      <td>2019</td>\n",
       "      <td>5</td>\n",
       "      <td>31</td>\n",
       "      <td>10.436</td>\n",
       "      <td>0.0</td>\n",
       "      <td>['ftp://sidads.colorado.edu/pub/DATASETS/nsidc...</td>\n",
       "      <td>south</td>\n",
       "      <td>2019-05-31</td>\n",
       "      <td>21</td>\n",
       "    </tr>\n",
       "    <tr>\n",
       "      <td>12182</td>\n",
       "      <td>2019</td>\n",
       "      <td>5</td>\n",
       "      <td>31</td>\n",
       "      <td>11.486</td>\n",
       "      <td>0.0</td>\n",
       "      <td>['ftp://sidads.colorado.edu/pub/DATASETS/nsidc...</td>\n",
       "      <td>north</td>\n",
       "      <td>2019-05-31</td>\n",
       "      <td>21</td>\n",
       "    </tr>\n",
       "  </tbody>\n",
       "</table>\n",
       "</div>"
      ],
      "text/plain": [
       "       year  month  day  extent  missing  \\\n",
       "5115   2019      5   31  10.436      0.0   \n",
       "12182  2019      5   31  11.486      0.0   \n",
       "\n",
       "                                             source_data hemisphere  \\\n",
       "5115   ['ftp://sidads.colorado.edu/pub/DATASETS/nsidc...      south   \n",
       "12182  ['ftp://sidads.colorado.edu/pub/DATASETS/nsidc...      north   \n",
       "\n",
       "            date week_of_year  \n",
       "5115  2019-05-31           21  \n",
       "12182 2019-05-31           21  "
      ]
     },
     "execution_count": 152,
     "metadata": {},
     "output_type": "execute_result"
    }
   ],
   "source": [
    "df[df[\"date\"] == \"2019-05-31\"]\n",
    "df[df[\"date\"] == pd.to_datetime(\"2019-05-31\", format=\"%Y-%m-%d\")]\n",
    "df[df[\"date\"] == pd.Timestamp(\"2019-05-31\")]"
   ]
  },
  {
   "cell_type": "code",
   "execution_count": null,
   "metadata": {},
   "outputs": [],
   "source": []
  },
  {
   "cell_type": "code",
   "execution_count": 168,
   "metadata": {},
   "outputs": [
    {
     "data": {
      "text/plain": [
       "DatetimeIndex(['1978-10-27', '1978-10-29', '1978-10-31', '1978-11-02',\n",
       "               '1978-11-04', '1978-11-06', '1978-11-08', '1978-11-10',\n",
       "               '1978-11-12', '1978-11-14',\n",
       "               ...\n",
       "               '1988-01-03', '1988-01-04', '1988-01-05', '1988-01-06',\n",
       "               '1988-01-07', '1988-01-08', '1988-01-09', '1988-01-10',\n",
       "               '1988-01-11', '1988-01-12'],\n",
       "              dtype='datetime64[ns]', length=1651, freq=None)"
      ]
     },
     "execution_count": 168,
     "metadata": {},
     "output_type": "execute_result"
    }
   ],
   "source": [
    "todos_os_dias_no_intervalo = pd.date_range(start=df.date.min(), end=df.date.max())\n",
    "todos_os_dias_no_intervalo\n",
    "\n",
    "dias_no_dataframe = df.date\n",
    "\n",
    "todos_os_dias_no_intervalo.difference(dias_no_dataframe)"
   ]
  },
  {
   "cell_type": "code",
   "execution_count": 170,
   "metadata": {},
   "outputs": [],
   "source": [
    "df.index = df.date"
   ]
  },
  {
   "cell_type": "code",
   "execution_count": 164,
   "metadata": {},
   "outputs": [
    {
     "data": {
      "text/plain": [
       "0       2004-10-16\n",
       "1       2017-12-04\n",
       "2       1989-01-29\n",
       "3       1998-05-04\n",
       "4       2014-02-18\n",
       "           ...    \n",
       "26455   1992-05-01\n",
       "26456   1995-05-17\n",
       "26457   1994-10-26\n",
       "26458   1981-10-10\n",
       "26459   1998-07-25\n",
       "Name: date, Length: 26354, dtype: datetime64[ns]"
      ]
     },
     "execution_count": 164,
     "metadata": {},
     "output_type": "execute_result"
    }
   ],
   "source": [
    "df.date"
   ]
  },
  {
   "cell_type": "code",
   "execution_count": 163,
   "metadata": {},
   "outputs": [
    {
     "data": {
      "text/plain": [
       "Int64Index([    0,     1,     2,     3,     4,     5,     6,     7,     8,\n",
       "                9,\n",
       "            ...\n",
       "            26450, 26451, 26452, 26453, 26454, 26455, 26456, 26457, 26458,\n",
       "            26459],\n",
       "           dtype='int64', length=26354)"
      ]
     },
     "execution_count": 163,
     "metadata": {},
     "output_type": "execute_result"
    }
   ],
   "source": [
    "df.date.index"
   ]
  },
  {
   "cell_type": "code",
   "execution_count": 177,
   "metadata": {},
   "outputs": [
    {
     "data": {
      "text/plain": [
       "20.201"
      ]
     },
     "execution_count": 177,
     "metadata": {},
     "output_type": "execute_result"
    }
   ],
   "source": [
    "\n",
    "max_extent"
   ]
  },
  {
   "cell_type": "code",
   "execution_count": 195,
   "metadata": {},
   "outputs": [
    {
     "data": {
      "text/plain": [
       "(2014, 20.201, 'south')"
      ]
     },
     "execution_count": 195,
     "metadata": {},
     "output_type": "execute_result"
    }
   ],
   "source": [
    "year, extent, hemisphere = max_extention_case[[\"year\", \"extent\", \"hemisphere\"]].values[0]\n",
    "year, extent, hemisphere"
   ]
  },
  {
   "cell_type": "code",
   "execution_count": 186,
   "metadata": {},
   "outputs": [],
   "source": []
  },
  {
   "cell_type": "code",
   "execution_count": 199,
   "metadata": {},
   "outputs": [
    {
     "name": "stdout",
     "output_type": "stream",
     "text": [
      "The maximum extent occurred in south hemisphere at 2014. It had 20.201 10**6 sq km of ice coverage.\n"
     ]
    }
   ],
   "source": [
    "max_extent = df[\"extent\"].max()\n",
    "max_extention_case = df[df[\"extent\"] == max_extent]\n",
    "year, extent, hemisphere = max_extention_case[[\"year\", \"extent\", \"hemisphere\"]].values[0]\n",
    "\n",
    "print(\"The maximum extent occurred in {} hemisphere at {}. It had {} 10**6 sq km of ice coverage.\"\\\n",
    "      .format(hemisphere, year, extent))"
   ]
  },
  {
   "cell_type": "code",
   "execution_count": 201,
   "metadata": {},
   "outputs": [],
   "source": []
  },
  {
   "cell_type": "code",
   "execution_count": 223,
   "metadata": {},
   "outputs": [],
   "source": []
  },
  {
   "cell_type": "code",
   "execution_count": 224,
   "metadata": {},
   "outputs": [],
   "source": [
    "north_df = df[df[\"hemisphere\"] == \"north\"].copy()\n",
    "south_df = df[df[\"hemisphere\"] == \"south\"].copy()\n",
    "\n",
    "\n",
    "north_ext_month = north_df.groupby(\"month\").extent.mean()\n",
    "south_ext_month = south_df.groupby(\"month\").extent.mean()\n",
    "\n",
    "\n",
    "ind = south_ext_month.index\n",
    "\n",
    "Y_north = north_ext_month.values\n",
    "Y_south = south_ext_month.values"
   ]
  },
  {
   "cell_type": "code",
   "execution_count": 225,
   "metadata": {},
   "outputs": [
    {
     "data": {
      "image/png": "[encoded data removed]",
      "text/plain": [
       "<Figure size 1152x576 with 1 Axes>"
      ]
     },
     "metadata": {
      "needs_background": "light"
     },
     "output_type": "display_data"
    }
   ],
   "source": [
    "import matplotlib.pyplot as plt\n",
    "\n",
    "fig, ax = plt.subplots(1, 1, figsize=(16, 8))\n",
    "\n",
    "ax.plot(ind, Y_north, color=\"blue\", label=\"North\")\n",
    "ax.plot(ind, Y_south, color=\"red\", label=\"South\")\n",
    "\n",
    "plt.legend()\n",
    "plt.xticks(ind, ind);"
   ]
  },
  {
   "cell_type": "markdown",
   "metadata": {},
   "source": [
    "### ISSUES\n",
    "1. Nomes das colunas não seguem o padrão\n",
    "2. Apenas pouquíssimos registros tem valor de 'Missing' maior que 0.\n",
    "3. Várias duplicatas\n",
    "4. Não existe uma coluna de data, os anos, meseses e dias estão separados. Isso facilita nossa vida em alguns pontos, um exemplo é no caso de eu querer agrupar o ano para avaliar a evoluação da média de cada ano. Porém, para outros casos simples isso complicam como por exemplo, verificar o primeiro dia e último dia. É interessante ter a coluna date que terá valores tipo: \"2020-04-07\"\n",
    "5. Alguns meses possuem o dobro de registros em relação aos outros meses. Pode ser um problema das duplicatas, ou não."
   ]
  },
  {
   "cell_type": "code",
   "execution_count": null,
   "metadata": {},
   "outputs": [],
   "source": []
  }
 ],
 "metadata": {
  "kernelspec": {
   "display_name": "Python 3",
   "language": "python",
   "name": "python3"
  },
  "language_info": {
   "codemirror_mode": {
    "name": "ipython",
    "version": 3
   },
   "file_extension": ".py",
   "mimetype": "text/x-python",
   "name": "python",
   "nbconvert_exporter": "python",
   "pygments_lexer": "ipython3",
   "version": "3.7.4"
  }
 },
 "nbformat": 4,
 "nbformat_minor": 2
}
