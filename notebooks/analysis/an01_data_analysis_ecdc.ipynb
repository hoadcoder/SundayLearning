{
 "cells": [
  {
   "cell_type": "code",
   "execution_count": null,
   "metadata": {},
   "outputs": [],
   "source": [
    "import pandas as pd\n",
    "import numpy as np\n",
    "import matplotlib.pyplot as plt\n",
    "import seaborn as sns\n",
    "import os\n",
    "import seaborn as sns\n",
    "\n",
    "sns.set_style(\"darkgrid\", {\"axes.facecolor\": \".95\"})"
   ]
  },
  {
   "cell_type": "code",
   "execution_count": null,
   "metadata": {
    "scrolled": true
   },
   "outputs": [],
   "source": [
    "# Na variável abaixo é atribuido o caminho para a pasta onde estão os dados do coronavírus\n",
    "folder = \"coronavirus_data/\"\n",
    "\n",
    "# A função 'listdir' do módulo 'os' lista todos os arquivos dentro da pasta que passamos como parâmetro \n",
    "files = os.listdir(folder)\n",
    "\n",
    "# A ideia do dicionário abaixo é ser usado na função pd.DataFrame logo abaixo\n",
    "# Quando passamos um dicionário para a função pd.DataFrame, ele interpreta cada chave do dicionário como uma coluna e...\n",
    "# ... cada valor de uma chave - que deve ser uma lista ou um vetor numpy - como os valores para aquela coluna.\n",
    "# Neste caso, só estamos criando a estrutura do DataFrame, ou seja, suas colunas, pois os valores estão vazios, mas serão\n",
    "# concatenados dinamicamente com o loop abaixo.\n",
    "general_dict = {\n",
    "    \"date\": [],\n",
    "    \"location\": [],\n",
    "    \"new_cases\": [],\n",
    "    \"new_deaths\": [],\n",
    "    \"total_cases\": [],\n",
    "    \"total_deaths\": [],\n",
    "}\n",
    "\n",
    "df = pd.DataFrame(general_dict)\n",
    "\n",
    "# O loop abaixo itera sobre cada arquivo dentro da variável 'files'\n",
    "# A ideia é abrir cada um desses arquivos como um dataframe do pandas e concatená-lo ao dataframe que criamos acima,\n",
    "# que ficará mais extenso a cada iteração.\n",
    "for file in files:\n",
    "    # A função 'read_csv' da library 'pandas' recebe como parâmetro o caminho para um arquivo .csv e \n",
    "    # o abre como um pandas DataFrame. Neste caso, além de abrir o .csv como pandas dataframe, estamos colocando o dataframe\n",
    "    # criado dentro da variável part_df - que será atualizada a cada iteração. Note que o parâmetro é uma concatenação de\n",
    "    # strings, ou seja, a variável que armazena a pasta do arquivo, e o nome do arquivo em si.\n",
    "    part_df = pd.read_csv(folder + file)\n",
    "    \n",
    "    # Na variável abaixo, pegamos o trecho do nome do arquivo que tem o dia relacionado àqueles dados. Além disso,\n",
    "    # trocamos o caractére '_' por '-'\n",
    "    date_from_filename = file[-14:-4].replace(\"_\", \"-\")\n",
    "    \n",
    "    # Criamos a coluna 'date' no nosso dataframe, e todos os valores dessa coluna serão iguais a data que foi extraída\n",
    "    # e atribuída à variável acima.\n",
    "    part_df[\"date\"] = date_from_filename\n",
    "    \n",
    "    # Aqui nós simplesmente reorganizamos as colunas do nosso dataframe.\n",
    "    part_df = part_df[[\"date\", \"location\", \"new_cases\", \"new_deaths\", \"total_cases\", \"total_deaths\"]]\n",
    "    \n",
    "    # Enfim, dizemos que nosso novo dataframe df será a concatenação do dataframe df atual + o part_df que carregamos acima.\n",
    "    df = pd.concat([df, part_df])\n",
    "    \n",
    "    # Todo esse processo será repetido para cada arquivo que está na variável 'files'\n",
    "\n",
    "# Após toda a iteração, nossos índices estarão embaralhos, sempre recomecando do 0 para cada data.\n",
    "# Então, resetamos o index, dropando o index antigo\n",
    "df.reset_index(drop=True, inplace=True)"
   ]
  },
  {
   "cell_type": "code",
   "execution_count": null,
   "metadata": {},
   "outputs": [],
   "source": [
    "# Verificando se a estrutura está legal\n",
    "\n",
    "df.head()"
   ]
  },
  {
   "cell_type": "code",
   "execution_count": null,
   "metadata": {},
   "outputs": [],
   "source": [
    "# Verificando a quantidade de registros, de registros nulos e os tipos de cada coluna.\n",
    "\n",
    "df.info()"
   ]
  },
  {
   "cell_type": "code",
   "execution_count": null,
   "metadata": {},
   "outputs": [],
   "source": [
    "# Verificamos que as colunas 'new_cases', 'new_deaths', 'total_cases' e 'total_deaths' são floats, e não inteiros.\n",
    "# Temos que modificá-los, afinal, não existe nenhum caso novo que seja uma fração.\n",
    "\n",
    "df[\"new_cases\"] = df[\"new_cases\"].astype(\"Int64\")\n",
    "df[\"new_deaths\"] = df[\"new_deaths\"].astype(\"Int64\")\n",
    "df[\"total_cases\"] = df[\"total_cases\"].astype(\"Int64\")\n",
    "df[\"total_deaths\"] = df[\"total_deaths\"].astype(\"Int64\")"
   ]
  },
  {
   "cell_type": "code",
   "execution_count": null,
   "metadata": {},
   "outputs": [],
   "source": [
    "# Verificando se os tipos de dados foram mudados com success\n",
    "\n",
    "df.info()"
   ]
  },
  {
   "cell_type": "markdown",
   "metadata": {},
   "source": [
    "### Nas próximas células, verificaremos quais são os países com mais de X infectados na data mais recente."
   ]
  },
  {
   "cell_type": "code",
   "execution_count": null,
   "metadata": {},
   "outputs": [],
   "source": [
    "# 1st step: Filtrar o dataframe pela data mais recente.\n",
    "# Armazene o dataframe filtrado à variável 'most_recent_data'\n",
    "\n",
    "most_recent_data = df[df[\"date\"] == df[\"date\"].max()]"
   ]
  },
  {
   "cell_type": "code",
   "execution_count": null,
   "metadata": {},
   "outputs": [],
   "source": [
    "# Verificamos como está a distribuição de casos totais para a data mais recente\n",
    "\n",
    "# Abaixo, definimos as dimensões da figura do plot. Gosto de usar 16x8\n",
    "plt.figure(figsize=(16, 8))\n",
    "\n",
    "# Abaixo, pegarei a coluna 'total_cases' do dataframe 'most_recent_data' - que foi filtrado acima.\n",
    "most_recent_total_cases_data = most_recent_data.total_cases\n",
    "\n",
    "# Utilizarei a função 'hist' do módulo 'plt' para plotar a distribuição do vetor 'most_recent_total_cases_data',\n",
    "# que foi atribuído acima.\n",
    "plt.hist(most_recent_total_cases_data, bins=81)\n",
    "\n",
    "# As variáveis 'xticks' e 'xticklabels' definirão, respectivamente, a posição dos rótulos e os rótulos no eixo X\n",
    "xticks = np.arange(0, 80000 + 1, 1000)\n",
    "xticklabels = [\"{}K\".format(x) if x % 2 == 0 else \"\" for x in np.arange(0, 80 + 1, 1)]\n",
    "\n",
    "# Abaixo, utilizaremos os vetores definidos acima para, enfim, configurar os ticks do eixo X no plot.\n",
    "# O primeiro parâmetro da função deve ser a posição dos ticks, e o segundo os rótulos. Note: ambos devem\n",
    "# conter o mesmo número de elementos.\n",
    "plt.xticks(xticks, xticklabels);"
   ]
  },
  {
   "cell_type": "markdown",
   "metadata": {},
   "source": [
    "### Verificamos que a grande maioria dos países tem de 0 a 1,000 casos totais. Portanto, vamos filtrar os países que tem pelo menos 1,000 casos totais na data mais recente."
   ]
  },
  {
   "cell_type": "code",
   "execution_count": null,
   "metadata": {},
   "outputs": [],
   "source": [
    "# Armazene na variável 'mt_1k_infected_countries' uma lista com os países com total_cases >= 1,000 \n",
    "# de covid-19 na data mais recente\n",
    "\n",
    "mt_1k_infected_df = most_recent_data[most_recent_data[\"total_cases\"] >= 1000].sort_values(by=[\"total_cases\"], ascending=False)\n",
    "mt_1k_infected_countries = mt_1k_infected_df.location.unique().tolist()\n",
    "\n",
    "mt_1k_infected_countries"
   ]
  },
  {
   "cell_type": "code",
   "execution_count": null,
   "metadata": {},
   "outputs": [],
   "source": [
    "# Como ainda tem uma quantidade de países que pode poluir muito nosso plot,\n",
    "# Vamos selecionar os países com os maiores total_cases, além do Brazil\n",
    "# Note que, na célula acima, eu ordenei o dataframe filtrado por \"total_cases\" de forma descrecente. Então, \n",
    "# sei que a lista acima está em ordem decrescente de casos totais.\n",
    "\n",
    "filtered_countries = [\n",
    "    \"China\",\n",
    "    \"Italy\",\n",
    "    \"United States\",\n",
    "    \"Spain\",\n",
    "    \"Brazil\"\n",
    "]"
   ]
  },
  {
   "cell_type": "code",
   "execution_count": null,
   "metadata": {},
   "outputs": [],
   "source": [
    "# Filtrando o DataFrame original, ou seja, a variável 'df', pelos países que me interessam.\n",
    "# Note: utilizei o método .isin() que aceita como parâmetro um iterável. Sendo assim, filtraremos o dataframe \n",
    "# original para aqueles países que estão no iterável 'filtered_countries'\n",
    "mt_1k_infected_master_df = df[df[\"location\"].isin(filtered_countries)]\n",
    "\n",
    "# Eu desejo ver a evolução temporal dos casos de covid-19 nos países a partir do dia em que eles tiveram 50 casos.\n",
    "# Como farei isso?\n",
    "# Filtrarei o DataFrame filtrado acima para aqueles registros cujo 'total_cases' é igual ou maior que 50\n",
    "# O .copy() no final, garante que o dataframe 'mt_50_total_cases' seja uma cópia do dataframe filtrado, e não um ponteiro.\n",
    "mt_50_total_cases = mt_1k_infected_master_df[mt_1k_infected_master_df[\"total_cases\"] >= 50].copy()\n",
    "\n",
    "# Ordene o DataFrame acima por location e date de forma ascendente (crescente)\n",
    "mt_50_total_cases.sort_values(by=[\"location\", \"date\"], ascending=[True, True] inplace=True)"
   ]
  },
  {
   "cell_type": "code",
   "execution_count": null,
   "metadata": {},
   "outputs": [],
   "source": [
    "# Verificando se há algo estranho:\n",
    "mt_50_total_cases.head(15)"
   ]
  },
  {
   "cell_type": "code",
   "execution_count": null,
   "metadata": {},
   "outputs": [],
   "source": [
    "# Estamos indo para a sessão dos plots.\n",
    "# Aqui definirei em um dicionário a cor da linha de cada um dos países.\n",
    "country_colors = {\n",
    "    \"Brazil\": \"#4AE8AE\",        #verde\n",
    "    \"China\": \"#E84623\",         #vermelho\n",
    "    \"Italy\": \"#E88C2C\",         #laranja\n",
    "    \"Spain\": \"#FF4C8A\",         #rosa\n",
    "    \"United States\": \"#2543E8\",  #azul\n",
    "}"
   ]
  },
  {
   "cell_type": "markdown",
   "metadata": {},
   "source": [
    "### PLOTTING TIME\n",
    "- Teremos 4 gráficos\n",
    "- Para todos os 4, x será o número de dias contados a partir do caso de covid-19 de número 50.\n",
    "- Quanto ao eixo y:\n",
    "    - Um será o número de casos totais\n",
    "    - Um será o número de casos totais com transformação logarítimica\n",
    "    - Um será o número de mortes totais\n",
    "    - Um será o número de mortes totais com transformação logarítimica"
   ]
  },
  {
   "cell_type": "code",
   "execution_count": null,
   "metadata": {},
   "outputs": [],
   "source": [
    "# Como usaremos a função 'plot' do 'matplotlib.pyplot' várias vezes, precisaremos usar o 'subplots' a fim de gerar um eixo,\n",
    "# ou seja, um ax. Isso para, sempre que formos chamar a função plot, atribuirmos que o plot será desenhado no eixo ax.\n",
    "fig, ax1 = plt.subplots(nrows=1, ncols=1, figsize=(16, 8))\n",
    "\n",
    "# Para o Brazil\n",
    "# Primeira coisa, precisamos filtrar o dataframe 'mt_50_total_cases' - que já havia sido filtrado por 'total_cases' acima -\n",
    "# por location, como esta primeira linha é para o Brazil, filtraremos location == BR\n",
    "filtered_by_Brazil_df = mt_50_total_cases[mt_50_total_cases[\"location\"] == \"Brazil\"]\n",
    "# Após, pegaremos o número único de datas para o BR e criaremos uma PA com o tamanho do número de datas únicas.\n",
    "n_unique_dates = filtered_by_Brazil_df.date.nunique()\n",
    "ind = np.arange(n_unique_dates)\n",
    "# Agora, pegaremos a coluna total_cases. Se quiséssemos plotar outra coluna, como a 'total_deaths', precisaríamos\n",
    "# trocar a linha abaixo a fim de selecionar a coluna de nosso interesse.\n",
    "total_cases = filtered_by_Brazil_df.total_cases.tolist()\n",
    "# Enfim, plotaremos a linha para o Brazil. Configurando, para esta linha, a label \"Brazil\" e a cor \"#4AE8AE\" que é um verde água\n",
    "ax1.plot(ind, total_cases, \".-\", label=\"Brazil\", color=\"#4AE8AE\")\n",
    "# Repetiremos esse mesmo processo, só que para cada país. Lembrando de plotar a linha sempre no ax1, pois foi pra isso que\n",
    "# criamos o ax1, para que todas as linhas fossem plotadas na mesma axis.\n",
    "\n",
    "\n",
    "# Para a China\n",
    "filtered_by_China_df = mt_50_total_cases[mt_50_total_cases[\"location\"] == \"China\"]\n",
    "n_unique_dates = filtered_by_China_df.date.nunique()\n",
    "ind = np.arange(n_unique_dates)\n",
    "total_cases = filtered_by_China_df.total_cases.tolist()\n",
    "ax1.plot(ind, total_cases, \".-\", label=\"China\", color=\"#E84623\")\n",
    "\n",
    "\n",
    "# Para a Itália\n",
    "filtered_by_Italy_df = mt_50_total_cases[mt_50_total_cases[\"location\"] == \"Italy\"]\n",
    "n_unique_dates = filtered_by_Italy_df.date.nunique()\n",
    "ind = np.arange(n_unique_dates)\n",
    "total_cases = filtered_by_Italy_df.total_cases.tolist()\n",
    "ax1.plot(ind, total_cases, \".-\", label=\"Italy\", color=\"#E88C2C\")\n",
    "\n",
    "\n",
    "# Para a Espanha\n",
    "filtered_by_Spain_df = mt_50_total_cases[mt_50_total_cases[\"location\"] == \"Spain\"]\n",
    "n_unique_dates = filtered_by_Spain_df.date.nunique()\n",
    "ind = np.arange(n_unique_dates)\n",
    "total_cases = filtered_by_Spain_df.total_cases.tolist()\n",
    "ax1.plot(ind, total_cases, \".-\", label=\"Spain\", color=\"#FF4C8A\")\n",
    "\n",
    "\n",
    "# Para os EUA\n",
    "filtered_by_US_df = mt_50_total_cases[mt_50_total_cases[\"location\"] == \"United States\"]\n",
    "n_unique_dates = filtered_by_US_df.date.nunique()\n",
    "ind = np.arange(n_unique_dates)\n",
    "total_cases = filtered_by_US_df.total_cases.tolist()\n",
    "ax1.plot(ind, total_cases, \".-\", label=\"US\", color=\"#2543E8\")\n",
    "\n",
    "\n",
    "# Agora, atribuiremos um título\n",
    "ax1.set_title(\"Total Cases from 50th Case\")\n",
    "# A posição dos ticks do eixo x\n",
    "ax1.set_xticks(np.arange(80 + 1))\n",
    "# O rótulo dos ticks do eixo x\n",
    "ax1.set_xticklabels([x if x % 2 == 0 else \"\" for x in np.arange(80 + 1)])\n",
    "# O rótulo para todo o eixo X\n",
    "ax1.set_xlabel(\"Days from 50th Case\")\n",
    "# O rótulo para todo o eixo Y\n",
    "ax1.set_ylabel(\"Total Cases\")\n",
    "\n",
    "# Se quisermos transformar o eixo y com log, bastaria usar a linha abaixo que, por ora, está comentada.\n",
    "#ax1.set_yscale(\"log\")\n",
    "\n",
    "# Ativaremos o legend para que as labels das linhas sejam mostradas\n",
    "ax1.legend();"
   ]
  },
  {
   "cell_type": "markdown",
   "metadata": {},
   "source": [
    "Beleza, utilizamos toda a célula acima para um único gráfico.\n",
    "O que mais tomou nosso tempo, foi repetir a mesma coisa que fizemos para o Brazil nos outros países. Por isso, um loop facilita nossa vida. Abaixo, temos o processo acima usando o loop e, dessa vez, para os 4 plots que desejávamos plotar.\n"
   ]
  },
  {
   "cell_type": "code",
   "execution_count": null,
   "metadata": {
    "scrolled": false
   },
   "outputs": [],
   "source": [
    "# Com plt.subplots, definimos quantos subplots plotaremos de uma vez só. \n",
    "# Nesse caso, serão 4.\n",
    "fig, ax = plt.subplots(4, 1, figsize=(16, 8*4))\n",
    "\n",
    "# A variável ax criada acima, está com as 4 axis de interesse. \n",
    "# Para desmembrar o ax, utilizamos ax.flat.\n",
    "# Daí, teremos que ax1 será o plot sobre total-cases e ax2 o msm que ax1 só que com log no y\n",
    "# E ax3 será o plot sobre total_deaths e ax4 o msm que o ax3 só que com log no y\n",
    "ax1, ax2, ax3, ax4 = ax.flat\n",
    "\n",
    "\n",
    "# Vamos iterar sobre os países que filtramos. Para cada iteração, a variável 'country' armazenará a string do país em questão\n",
    "for country in filtered_countries:\n",
    "    # Filtraremos 'mt_50_total_cases' quando sua location for igual a 'country', ou seja, o país da iteração atual.\n",
    "    # O dataframe filtrado será armazenado em 'filtered_by_country_df'\n",
    "    filtered_by_country_df = mt_50_total_cases[mt_50_total_cases[\"location\"] == country]\n",
    "    \n",
    "    # Pegaremos o número único de datas daqueles país e faremos uma PA com esse valor. A PA ficará armazenada em ind e será\n",
    "    # os valores de X para os nossos plots\n",
    "    n_unique_dates = filtered_by_country_df.date.nunique()\n",
    "    ind = np.arange(n_unique_dates)\n",
    "    \n",
    "    # Pegaremos tanto a coluna 'total_deaths' quanto 'total_cases' para o país em questão do dataframe \n",
    "    # criado no começo do loop\n",
    "    total_deaths = filtered_by_country_df.total_deaths.tolist()\n",
    "    total_cases = filtered_by_country_df.total_cases.tolist()\n",
    "    \n",
    "    # Enfim, plotaremos a linha para o país em cada um dos axis\n",
    "    # A princípio, ax1 e ax2 serão iguais, assim como ax3 e ax4. Visto que ax2 e ax4 são, respectivamente,\n",
    "    # a mesma coisa que ax1 e ax3 com a pequena diferença da transformação logarítimica no eixo Y.\n",
    "    # Essa transformação será feita após todas as linhas serem plotadas, pois não é necessário fazer a transformação\n",
    "    # para toda iteração, apenas uma única vez.\n",
    "    ax1.plot(ind, total_cases, \".-\", label=country, color=country_colors[country])\n",
    "    ax2.plot(ind, total_cases, \".-\", label=country, color=country_colors[country])\n",
    "    \n",
    "    ax3.plot(ind, total_deaths, \".-\", label=country, color=country_colors[country])\n",
    "    ax4.plot(ind, total_deaths, \".-\", label=country, color=country_colors[country])\n",
    "\n",
    "    \n",
    "# Transformando o eixo Y do ax2 e ax4 com log\n",
    "ax2.set_yscale(\"log\")\n",
    "ax4.set_yscale(\"log\")\n",
    "\n",
    "# Adicionando título, ticks e labels para todos os axs\n",
    "ax1.set_title(\"Total Cases from 50th Case\")\n",
    "ax1.set_xticks(np.arange(80 + 1))\n",
    "ax1.set_xticklabels([x if x % 2 == 0 else \"\" for x in np.arange(80 + 1)])\n",
    "ax1.set_xlabel(\"Days from 50th Case\")\n",
    "ax1.set_ylabel(\"Total Cases\")\n",
    "\n",
    "ax2.set_title(\"Total Cases (log) from 50th Case\")\n",
    "ax2.set_xticks(np.arange(80 + 1))\n",
    "ax2.set_xticklabels([x if x % 2 == 0 else \"\" for x in np.arange(80 + 1)])\n",
    "ax2.set_xlabel(\"Days from 50th Case\")\n",
    "ax2.set_ylabel(\"Total Cases (log transformation)\")\n",
    "\n",
    "ax3.set_title(\"Total Deaths from 50th Case\")\n",
    "ax3.set_xticks(np.arange(80 + 1))\n",
    "ax3.set_xticklabels([x if x % 2 == 0 else \"\" for x in np.arange(80 + 1)])\n",
    "ax3.set_xlabel(\"Days from 50th Case\")\n",
    "ax3.set_ylabel(\"Total Deaths\")\n",
    "\n",
    "ax4.set_title(\"Total Deaths from 50th Case\")\n",
    "ax4.set_xticks(np.arange(80 + 1))\n",
    "ax4.set_xticklabels([x if x % 2 == 0 else \"\" for x in np.arange(80 + 1)])\n",
    "ax4.set_xlabel(\"Days from 50th Case\")\n",
    "ax4.set_ylabel(\"Total Deaths (log transformation)\")\n",
    "\n",
    "\n",
    "# Aqui, eu quis fazer graça. Basicamente, no axis 3 (ax3), plotar uma linha horizontal na mesma altura\n",
    "# do total de número de mortes da china. Assim, conseguiremos ver quando um país já ultrapassou o total de mortes da china.\n",
    "# Primeiro, filtramos o dataframe original para location == China e pegamos o máximo de total_deaths. Armazenamos\n",
    "# esse valor em 'china_max_deaths'\n",
    "china_max_deaths = df[df[\"location\"] == \"China\"].total_deaths.max()\n",
    "# Após, plotamos a linha horiozntal, na altura de \"china_max_deaths\", além disso, adicionei o estilo de linha tracejado\n",
    "ax3.axhline(china_max_deaths, linestyle=\"--\", linewidth=1, color=\"black\")\n",
    "\n",
    "\n",
    "ax1.legend()\n",
    "ax2.legend()\n",
    "ax3.legend()\n",
    "ax4.legend();"
   ]
  },
  {
   "cell_type": "markdown",
   "metadata": {},
   "source": [
    "### CONSIDERAÇÕES\n",
    "- Nesses primeiros dias após o 50º caso, a evolução de casos de Covid-19 no Brasil é semelhante à da Espanha, mais agressiva que a da China e dos Eua. Nesse período, a evolução não segue o ritmo da Itália.\n",
    "- Como o Brasil segue a curva da Espanha quanto ao número de casos totais e verificamos que a Espanha supera o número de casos da Itália após o 16º dia após o 50º caso, pode-se dizer que o Brasil tende também, a superar a evolução da Itália na próxima semana, comparado ao mesmo período que a Itália se encontrava.\n",
    "- Quanto ao número de mortes, a Itália atingiu o número de mortes que a China atingiu em 80 dias em 1/4 do tempo. Para piorar, a curva da Itália não leva a crer que sua situação esteja controlada como a da China. A Espanha tende a ultrapassar o total de mortes que a Itália apresentava neste mesmo período nos próximos dias. O Brasil acompanha a evolução do quadro de mortes da Espanha nessas 2 primeiras semanas após o 50º caso.\n",
    "- Podemos dizer que a situação brasileira está pior ou melhor que esses casos? Acredito que não exatamente, eu buscaria dados sobre o número de casos suspeitos e o números de casos suspeitos que são testados para a Covid-19 em cada um desses países. Por síndrome do vira-lato, acredito que testemos menos pessoas que a Espanha e, por isso, podemos ter números mais expressivos que a Itália a Espanha nas próximas semanas comparado com o mesmo período que esses países se encontravam."
   ]
  },
  {
   "cell_type": "markdown",
   "metadata": {},
   "source": [
    "### DESAFIO\n",
    "Plotar a evolução da proporção total_deaths / total_cases para esses países a partir do 50º caso."
   ]
  },
  {
   "cell_type": "code",
   "execution_count": null,
   "metadata": {},
   "outputs": [],
   "source": [
    "# Para ajudá-las, vou criar a coluna death_prop no dataframe original:\n",
    "\n",
    "df[\"death_prop\"] = df[\"total_deaths\"] / df[\"total_cases\"]"
   ]
  },
  {
   "cell_type": "code",
   "execution_count": null,
   "metadata": {},
   "outputs": [],
   "source": []
  }
 ],
 "metadata": {
  "kernelspec": {
   "display_name": "Python 3",
   "language": "python",
   "name": "python3"
  },
  "language_info": {
   "codemirror_mode": {
    "name": "ipython",
    "version": 3
   },
   "file_extension": ".py",
   "mimetype": "text/x-python",
   "name": "python",
   "nbconvert_exporter": "python",
   "pygments_lexer": "ipython3",
   "version": "3.7.4"
  }
 },
 "nbformat": 4,
 "nbformat_minor": 2
}
