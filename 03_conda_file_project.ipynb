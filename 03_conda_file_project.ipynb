{
 "cells": [
  {
   "cell_type": "code",
   "execution_count": null,
   "metadata": {},
   "outputs": [],
   "source": [
    "\"w\" <- writes\n",
    "\"r\" <- read\n",
    "\"a\" <- append"
   ]
  },
  {
   "cell_type": "code",
   "execution_count": 8,
   "metadata": {
    "colab": {},
    "colab_type": "code",
    "id": "tt2mf889CRDd"
   },
   "outputs": [
    {
     "name": "stdout",
     "output_type": "stream",
     "text": [
      "Oi, eu sou a molier\n",
      "\n",
      "Gosto de jogar magic\n",
      "\n",
      "e ser molier\n"
     ]
    }
   ],
   "source": [
    "with open(\"week4_project_and_files/poema.txt\", \"r\") as file:\n",
    "    for line in file.readlines():\n",
    "        print(line)"
   ]
  },
  {
   "cell_type": "code",
   "execution_count": 13,
   "metadata": {},
   "outputs": [],
   "source": [
    "with open(\"week4_project_and_files/poema2.txt\", \"w\") as file:\n",
    "    file.write(\"Oi, meu nome é Italo\\nGosto de jogar Lol\")"
   ]
  },
  {
   "cell_type": "code",
   "execution_count": 14,
   "metadata": {},
   "outputs": [],
   "source": [
    "with open(\"week4_project_and_files/poema2.txt\", \"a\") as file:\n",
    "    file.write(\"\\nOi, meu nome é João\")"
   ]
  }
 ],
 "metadata": {
  "colab": {
   "name": "week3_conda_file_project.ipynb",
   "provenance": []
  },
  "kernelspec": {
   "display_name": "Python 3",
   "language": "python",
   "name": "python3"
  },
  "language_info": {
   "codemirror_mode": {
    "name": "ipython",
    "version": 3
   },
   "file_extension": ".py",
   "mimetype": "text/x-python",
   "name": "python",
   "nbconvert_exporter": "python",
   "pygments_lexer": "ipython3",
   "version": "3.7.4"
  }
 },
 "nbformat": 4,
 "nbformat_minor": 1
}
